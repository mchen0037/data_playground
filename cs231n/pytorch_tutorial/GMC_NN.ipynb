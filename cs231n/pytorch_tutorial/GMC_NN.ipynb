{
 "cells": [
  {
   "cell_type": "code",
   "execution_count": 1,
   "metadata": {
    "collapsed": true
   },
   "outputs": [],
   "source": [
    "import torch\n",
    "import pandas as pd\n",
    "import numpy as np\n",
    "import time"
   ]
  },
  {
   "cell_type": "code",
   "execution_count": 2,
   "metadata": {
    "collapsed": false
   },
   "outputs": [],
   "source": [
    "df = pd.read_csv('gmc_data.csv')"
   ]
  },
  {
   "cell_type": "code",
   "execution_count": 3,
   "metadata": {
    "collapsed": false
   },
   "outputs": [
    {
     "data": {
      "text/html": [
       "<div>\n",
       "<style scoped>\n",
       "    .dataframe tbody tr th:only-of-type {\n",
       "        vertical-align: middle;\n",
       "    }\n",
       "\n",
       "    .dataframe tbody tr th {\n",
       "        vertical-align: top;\n",
       "    }\n",
       "\n",
       "    .dataframe thead th {\n",
       "        text-align: right;\n",
       "    }\n",
       "</style>\n",
       "<table border=\"1\" class=\"dataframe\">\n",
       "  <thead>\n",
       "    <tr style=\"text-align: right;\">\n",
       "      <th></th>\n",
       "      <th>danceability</th>\n",
       "      <th>energy</th>\n",
       "      <th>key</th>\n",
       "      <th>loudness</th>\n",
       "      <th>mode</th>\n",
       "      <th>speechiness</th>\n",
       "      <th>acousticness</th>\n",
       "      <th>instrumentalness</th>\n",
       "      <th>liveness</th>\n",
       "      <th>valence</th>\n",
       "      <th>tempo</th>\n",
       "      <th>uri</th>\n",
       "      <th>duration_ms</th>\n",
       "      <th>time_signature</th>\n",
       "      <th>qual</th>\n",
       "    </tr>\n",
       "  </thead>\n",
       "  <tbody>\n",
       "    <tr>\n",
       "      <th>0</th>\n",
       "      <td>0.572</td>\n",
       "      <td>0.532</td>\n",
       "      <td>0</td>\n",
       "      <td>-6.844</td>\n",
       "      <td>1</td>\n",
       "      <td>0.0316</td>\n",
       "      <td>0.214</td>\n",
       "      <td>0.000000</td>\n",
       "      <td>0.2840</td>\n",
       "      <td>0.607</td>\n",
       "      <td>76.033</td>\n",
       "      <td>spotify:track:6rZwsNzGS7nq8qILqdM9kX</td>\n",
       "      <td>252267</td>\n",
       "      <td>4</td>\n",
       "      <td>1</td>\n",
       "    </tr>\n",
       "    <tr>\n",
       "      <th>1</th>\n",
       "      <td>0.565</td>\n",
       "      <td>0.437</td>\n",
       "      <td>6</td>\n",
       "      <td>-7.680</td>\n",
       "      <td>0</td>\n",
       "      <td>0.0403</td>\n",
       "      <td>0.194</td>\n",
       "      <td>0.000007</td>\n",
       "      <td>0.0656</td>\n",
       "      <td>0.217</td>\n",
       "      <td>96.132</td>\n",
       "      <td>spotify:track:5P3yUXUC9rZPJPNmYGKEAz</td>\n",
       "      <td>236733</td>\n",
       "      <td>3</td>\n",
       "      <td>1</td>\n",
       "    </tr>\n",
       "    <tr>\n",
       "      <th>2</th>\n",
       "      <td>0.587</td>\n",
       "      <td>0.525</td>\n",
       "      <td>9</td>\n",
       "      <td>-9.257</td>\n",
       "      <td>0</td>\n",
       "      <td>0.1980</td>\n",
       "      <td>0.099</td>\n",
       "      <td>0.000250</td>\n",
       "      <td>0.5570</td>\n",
       "      <td>0.323</td>\n",
       "      <td>90.356</td>\n",
       "      <td>spotify:track:3ZGrUoFhNCWmm6sbFAuktX</td>\n",
       "      <td>241320</td>\n",
       "      <td>4</td>\n",
       "      <td>1</td>\n",
       "    </tr>\n",
       "    <tr>\n",
       "      <th>3</th>\n",
       "      <td>0.443</td>\n",
       "      <td>0.157</td>\n",
       "      <td>7</td>\n",
       "      <td>-12.818</td>\n",
       "      <td>1</td>\n",
       "      <td>0.0382</td>\n",
       "      <td>0.757</td>\n",
       "      <td>0.000000</td>\n",
       "      <td>0.1130</td>\n",
       "      <td>0.401</td>\n",
       "      <td>139.953</td>\n",
       "      <td>spotify:track:4JuYMhZk1SfhImtaHO3Sh6</td>\n",
       "      <td>194680</td>\n",
       "      <td>3</td>\n",
       "      <td>1</td>\n",
       "    </tr>\n",
       "    <tr>\n",
       "      <th>4</th>\n",
       "      <td>0.537</td>\n",
       "      <td>0.890</td>\n",
       "      <td>5</td>\n",
       "      <td>-5.191</td>\n",
       "      <td>1</td>\n",
       "      <td>0.0488</td>\n",
       "      <td>0.117</td>\n",
       "      <td>0.000021</td>\n",
       "      <td>0.2790</td>\n",
       "      <td>0.597</td>\n",
       "      <td>114.088</td>\n",
       "      <td>spotify:track:2Zd9awmsA8KuF65snhz7YH</td>\n",
       "      <td>231387</td>\n",
       "      <td>4</td>\n",
       "      <td>1</td>\n",
       "    </tr>\n",
       "  </tbody>\n",
       "</table>\n",
       "</div>"
      ],
      "text/plain": [
       "   danceability  energy  key  loudness  mode  speechiness  acousticness  \\\n",
       "0         0.572   0.532    0    -6.844     1       0.0316         0.214   \n",
       "1         0.565   0.437    6    -7.680     0       0.0403         0.194   \n",
       "2         0.587   0.525    9    -9.257     0       0.1980         0.099   \n",
       "3         0.443   0.157    7   -12.818     1       0.0382         0.757   \n",
       "4         0.537   0.890    5    -5.191     1       0.0488         0.117   \n",
       "\n",
       "   instrumentalness  liveness  valence    tempo  \\\n",
       "0          0.000000    0.2840    0.607   76.033   \n",
       "1          0.000007    0.0656    0.217   96.132   \n",
       "2          0.000250    0.5570    0.323   90.356   \n",
       "3          0.000000    0.1130    0.401  139.953   \n",
       "4          0.000021    0.2790    0.597  114.088   \n",
       "\n",
       "                                    uri  duration_ms  time_signature  qual  \n",
       "0  spotify:track:6rZwsNzGS7nq8qILqdM9kX       252267               4     1  \n",
       "1  spotify:track:5P3yUXUC9rZPJPNmYGKEAz       236733               3     1  \n",
       "2  spotify:track:3ZGrUoFhNCWmm6sbFAuktX       241320               4     1  \n",
       "3  spotify:track:4JuYMhZk1SfhImtaHO3Sh6       194680               3     1  \n",
       "4  spotify:track:2Zd9awmsA8KuF65snhz7YH       231387               4     1  "
      ]
     },
     "execution_count": 3,
     "metadata": {},
     "output_type": "execute_result"
    }
   ],
   "source": [
    "df.head()"
   ]
  },
  {
   "cell_type": "code",
   "execution_count": 4,
   "metadata": {
    "collapsed": false
   },
   "outputs": [
    {
     "data": {
      "text/plain": [
       "(200, 15)"
      ]
     },
     "execution_count": 4,
     "metadata": {},
     "output_type": "execute_result"
    }
   ],
   "source": [
    "df.shape"
   ]
  },
  {
   "cell_type": "code",
   "execution_count": 5,
   "metadata": {
    "collapsed": false
   },
   "outputs": [],
   "source": [
    "#  df[df['qual'] == 1]\n",
    "# np.zeros(df.size[0])\n",
    "df['bad'] = pd.Series(np.zeros(df.shape[0], dtype=int))\n",
    "df.loc[100:200, 'bad'] = 1"
   ]
  },
  {
   "cell_type": "code",
   "execution_count": 6,
   "metadata": {
    "collapsed": false
   },
   "outputs": [
    {
     "data": {
      "text/plain": [
       "(200, 2)"
      ]
     },
     "execution_count": 6,
     "metadata": {},
     "output_type": "execute_result"
    }
   ],
   "source": [
    "labels = df[['qual', 'bad']].values\n",
    "labels.shape"
   ]
  },
  {
   "cell_type": "code",
   "execution_count": 7,
   "metadata": {
    "collapsed": false
   },
   "outputs": [
    {
     "data": {
      "text/plain": [
       "(200, 11)"
      ]
     },
     "execution_count": 7,
     "metadata": {},
     "output_type": "execute_result"
    }
   ],
   "source": [
    "# get rid of the URI column\n",
    "df = df[['danceability', 'energy', 'loudness', \n",
    "    'speechiness', 'acousticness', 'instrumentalness', \n",
    "    'liveness', 'valence', 'tempo', 'duration_ms',\n",
    "    'time_signature']].values\n",
    "df -= np.mean(df, axis=0)\n",
    "df.shape"
   ]
  },
  {
   "cell_type": "code",
   "execution_count": 8,
   "metadata": {
    "collapsed": true
   },
   "outputs": [],
   "source": [
    "N, D_in, H, D_out = 200, 11, 10, 2"
   ]
  },
  {
   "cell_type": "code",
   "execution_count": 9,
   "metadata": {
    "collapsed": false
   },
   "outputs": [
    {
     "data": {
      "text/plain": [
       "True"
      ]
     },
     "execution_count": 9,
     "metadata": {},
     "output_type": "execute_result"
    }
   ],
   "source": [
    "torch.cuda.is_available()"
   ]
  },
  {
   "cell_type": "code",
   "execution_count": 31,
   "metadata": {
    "collapsed": true
   },
   "outputs": [],
   "source": [
    "dtype = torch.float\n",
    "device = torch.device(\"cpu\")\n",
    "# device = torch.device(\"cuda\")"
   ]
  },
  {
   "cell_type": "code",
   "execution_count": 37,
   "metadata": {
    "collapsed": false
   },
   "outputs": [],
   "source": [
    "# x = torch.randn(N, D_in, device=device, dtype=dtype)\n",
    "x = torch.as_tensor(data=df, device=device, dtype=dtype)\n",
    "y = torch.as_tensor(data=labels, device=device, dtype=dtype)\n",
    "# x.size()"
   ]
  },
  {
   "cell_type": "code",
   "execution_count": 38,
   "metadata": {
    "collapsed": false
   },
   "outputs": [
    {
     "data": {
      "text/plain": [
       "device(type='cpu')"
      ]
     },
     "execution_count": 38,
     "metadata": {},
     "output_type": "execute_result"
    }
   ],
   "source": [
    "x.device"
   ]
  },
  {
   "cell_type": "code",
   "execution_count": 39,
   "metadata": {
    "collapsed": false
   },
   "outputs": [
    {
     "data": {
      "text/plain": [
       "tensor([-2.6560e-02, -1.1322e-01,  1.0462e-01, -4.8549e-02, -1.3800e-02,\n",
       "        -3.0143e-02,  1.1328e-01,  1.3635e-01, -4.5181e+01,  4.0619e+04,\n",
       "         9.0000e-02])"
      ]
     },
     "execution_count": 39,
     "metadata": {},
     "output_type": "execute_result"
    }
   ],
   "source": [
    "x[0]"
   ]
  },
  {
   "cell_type": "code",
   "execution_count": 45,
   "metadata": {
    "collapsed": true
   },
   "outputs": [],
   "source": [
    "w1 = torch.randn(D_in, H, device=device, dtype=dtype, requires_grad=True)\n",
    "w2 = torch.randn(H, D_out, device=device, dtype=dtype, requires_grad=True)\n",
    "\n",
    "learning_rate=1e-13"
   ]
  },
  {
   "cell_type": "code",
   "execution_count": 49,
   "metadata": {
    "collapsed": false
   },
   "outputs": [
    {
     "name": "stdout",
     "output_type": "stream",
     "text": [
      "Final Loss:  835738009600.0 . Took  0.0007927417755126953  seconds to run.\n"
     ]
    }
   ],
   "source": [
    "# gpu took 40.919s\n",
    "# cpu took 18.169s\n",
    "# ????????\n",
    "start = time.time()\n",
    "for t in range(1):\n",
    "    # Forward pass - will be different every time\n",
    "    # y_pred is a torch.tensor on cuda.\n",
    "    y_pred = x.mm(w1).clamp(min=0).mm(w2)\n",
    "    \n",
    "#     print(y_pred)\n",
    "    \n",
    "    \n",
    "    # Compute loss - will be different every time \n",
    "    # loss is a torch.tensor on cuda\n",
    "    loss = (y_pred - y).pow(2).sum()\n",
    "\n",
    "#     if t % 10000 == 0:\n",
    "#         print(y_pred)\n",
    "#         print(\"loss at iteration \", t , \" : \" , loss.item())\n",
    "    \n",
    "    # Backprop to compute gradients - autograd will compute the gradient of loss\n",
    "    # with resepct to all tensors with requires_grad=True.\n",
    "    # w1.grad and w2.grad will be tensors holding the gradient of the loss wrt to w1 w2\n",
    "    loss.backward()\n",
    "    # print(w1.grad)\n",
    "    \n",
    "    # Update the weights using gradient descent. wrap in torch.no_grad() because \n",
    "    # weights have requires_grad=True; but we don't need to track this. \n",
    "    \n",
    "    with torch.no_grad():\n",
    "        w1 -= learning_rate * w1.grad\n",
    "        w2 -= learning_rate * w2.grad\n",
    "        \n",
    "        # set the gradients back to zero \n",
    "        w1.grad.zero_()\n",
    "        w2.grad.zero_()\n",
    "print('Final Loss: ', loss.item(), '. Took ', time.time() - start, ' seconds to run.')"
   ]
  }
 ],
 "metadata": {
  "kernelspec": {
   "display_name": "Python 3",
   "language": "python",
   "name": "python3"
  },
  "language_info": {
   "codemirror_mode": {
    "name": "ipython",
    "version": 3
   },
   "file_extension": ".py",
   "mimetype": "text/x-python",
   "name": "python",
   "nbconvert_exporter": "python",
   "pygments_lexer": "ipython3",
   "version": "3.6.7"
  }
 },
 "nbformat": 4,
 "nbformat_minor": 0
}
