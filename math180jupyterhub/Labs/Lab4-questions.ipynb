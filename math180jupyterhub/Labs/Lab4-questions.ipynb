{
 "cells": [
  {
   "cell_type": "markdown",
   "metadata": {},
   "source": [
    "# Lab 4: Resampling Methods!"
   ]
  },
  {
   "cell_type": "markdown",
   "metadata": {},
   "source": [
    "## Problem 5"
   ]
  },
  {
   "cell_type": "markdown",
   "metadata": {},
   "source": [
    "### a.) Creating a Logistic Model for Default, based on Income and Balance"
   ]
  },
  {
   "cell_type": "code",
   "execution_count": 1,
   "metadata": {},
   "outputs": [],
   "source": [
    "library(ISLR)\n",
    "attach(Default)\n",
    "set.seed(1)"
   ]
  },
  {
   "cell_type": "code",
   "execution_count": 2,
   "metadata": {},
   "outputs": [
    {
     "data": {
      "text/html": [
       "<ol class=list-inline>\n",
       "\t<li>'default'</li>\n",
       "\t<li>'student'</li>\n",
       "\t<li>'balance'</li>\n",
       "\t<li>'income'</li>\n",
       "</ol>\n"
      ],
      "text/latex": [
       "\\begin{enumerate*}\n",
       "\\item 'default'\n",
       "\\item 'student'\n",
       "\\item 'balance'\n",
       "\\item 'income'\n",
       "\\end{enumerate*}\n"
      ],
      "text/markdown": [
       "1. 'default'\n",
       "2. 'student'\n",
       "3. 'balance'\n",
       "4. 'income'\n",
       "\n",
       "\n"
      ],
      "text/plain": [
       "[1] \"default\" \"student\" \"balance\" \"income\" "
      ]
     },
     "metadata": {},
     "output_type": "display_data"
    },
    {
     "data": {
      "text/html": [
       "<ol class=list-inline>\n",
       "\t<li>10000</li>\n",
       "\t<li>4</li>\n",
       "</ol>\n"
      ],
      "text/latex": [
       "\\begin{enumerate*}\n",
       "\\item 10000\n",
       "\\item 4\n",
       "\\end{enumerate*}\n"
      ],
      "text/markdown": [
       "1. 10000\n",
       "2. 4\n",
       "\n",
       "\n"
      ],
      "text/plain": [
       "[1] 10000     4"
      ]
     },
     "metadata": {},
     "output_type": "display_data"
    }
   ],
   "source": [
    "# some information about names\n",
    "names(Default)\n",
    "dim(Default)"
   ]
  },
  {
   "cell_type": "code",
   "execution_count": 3,
   "metadata": {},
   "outputs": [
    {
     "data": {
      "text/plain": [
       "\n",
       "Call:  glm(formula = default ~ income + balance, family = \"binomial\", \n",
       "    data = Default)\n",
       "\n",
       "Coefficients:\n",
       "(Intercept)       income      balance  \n",
       " -1.154e+01    2.081e-05    5.647e-03  \n",
       "\n",
       "Degrees of Freedom: 9999 Total (i.e. Null);  9997 Residual\n",
       "Null Deviance:\t    2921 \n",
       "Residual Deviance: 1579 \tAIC: 1585"
      ]
     },
     "metadata": {},
     "output_type": "display_data"
    }
   ],
   "source": [
    "#make a logistic model based on income and balance (remember to include family='binomial' to reduce anger and stress)\n",
    "logModelA = glm(default~income+balance, data=Default, family='binomial')\n",
    "logModelA"
   ]
  },
  {
   "cell_type": "markdown",
   "metadata": {},
   "source": [
    "### b.) Estimating Test Error of Model Using Validation Set"
   ]
  },
  {
   "cell_type": "code",
   "execution_count": 4,
   "metadata": {},
   "outputs": [
    {
     "data": {
      "text/html": [
       "<table>\n",
       "<thead><tr><th></th><th scope=col>default</th><th scope=col>student</th><th scope=col>balance</th><th scope=col>income</th></tr></thead>\n",
       "<tbody>\n",
       "\t<tr><th scope=row>2656</th><td>No        </td><td>Yes       </td><td>  80.59568</td><td>16145.64  </td></tr>\n",
       "\t<tr><th scope=row>3721</th><td>No        </td><td>Yes       </td><td>1470.47459</td><td>18621.17  </td></tr>\n",
       "\t<tr><th scope=row>5728</th><td>No        </td><td>Yes       </td><td>1150.54719</td><td>23705.95  </td></tr>\n",
       "\t<tr><th scope=row>9080</th><td>Yes       </td><td>No        </td><td>1856.91472</td><td>33445.62  </td></tr>\n",
       "\t<tr><th scope=row>2017</th><td>No        </td><td>Yes       </td><td> 689.51920</td><td>15600.05  </td></tr>\n",
       "</tbody>\n",
       "</table>\n"
      ],
      "text/latex": [
       "\\begin{tabular}{r|llll}\n",
       "  & default & student & balance & income\\\\\n",
       "\\hline\n",
       "\t2656 & No         & Yes        &   80.59568 & 16145.64  \\\\\n",
       "\t3721 & No         & Yes        & 1470.47459 & 18621.17  \\\\\n",
       "\t5728 & No         & Yes        & 1150.54719 & 23705.95  \\\\\n",
       "\t9080 & Yes        & No         & 1856.91472 & 33445.62  \\\\\n",
       "\t2017 & No         & Yes        &  689.51920 & 15600.05  \\\\\n",
       "\\end{tabular}\n"
      ],
      "text/markdown": [
       "\n",
       "| <!--/--> | default | student | balance | income | \n",
       "|---|---|---|---|---|\n",
       "| 2656 | No         | Yes        |   80.59568 | 16145.64   | \n",
       "| 3721 | No         | Yes        | 1470.47459 | 18621.17   | \n",
       "| 5728 | No         | Yes        | 1150.54719 | 23705.95   | \n",
       "| 9080 | Yes        | No         | 1856.91472 | 33445.62   | \n",
       "| 2017 | No         | Yes        |  689.51920 | 15600.05   | \n",
       "\n",
       "\n"
      ],
      "text/plain": [
       "     default student balance    income  \n",
       "2656 No      Yes       80.59568 16145.64\n",
       "3721 No      Yes     1470.47459 18621.17\n",
       "5728 No      Yes     1150.54719 23705.95\n",
       "9080 Yes     No      1856.91472 33445.62\n",
       "2017 No      Yes      689.51920 15600.05"
      ]
     },
     "metadata": {},
     "output_type": "display_data"
    },
    {
     "data": {
      "text/html": [
       "<table>\n",
       "<thead><tr><th></th><th scope=col>default</th><th scope=col>student</th><th scope=col>balance</th><th scope=col>income</th></tr></thead>\n",
       "<tbody>\n",
       "\t<tr><th scope=row>1</th><td>No       </td><td>No       </td><td> 729.5265</td><td>44361.63 </td></tr>\n",
       "\t<tr><th scope=row>3</th><td>No       </td><td>No       </td><td>1073.5492</td><td>31767.14 </td></tr>\n",
       "\t<tr><th scope=row>4</th><td>No       </td><td>No       </td><td> 529.2506</td><td>35704.49 </td></tr>\n",
       "\t<tr><th scope=row>10</th><td>No       </td><td>No       </td><td>   0.0000</td><td>29275.27 </td></tr>\n",
       "\t<tr><th scope=row>17</th><td>No       </td><td>No       </td><td>   0.0000</td><td>50265.31 </td></tr>\n",
       "</tbody>\n",
       "</table>\n"
      ],
      "text/latex": [
       "\\begin{tabular}{r|llll}\n",
       "  & default & student & balance & income\\\\\n",
       "\\hline\n",
       "\t1 & No        & No        &  729.5265 & 44361.63 \\\\\n",
       "\t3 & No        & No        & 1073.5492 & 31767.14 \\\\\n",
       "\t4 & No        & No        &  529.2506 & 35704.49 \\\\\n",
       "\t10 & No        & No        &    0.0000 & 29275.27 \\\\\n",
       "\t17 & No        & No        &    0.0000 & 50265.31 \\\\\n",
       "\\end{tabular}\n"
      ],
      "text/markdown": [
       "\n",
       "| <!--/--> | default | student | balance | income | \n",
       "|---|---|---|---|---|\n",
       "| 1 | No        | No        |  729.5265 | 44361.63  | \n",
       "| 3 | No        | No        | 1073.5492 | 31767.14  | \n",
       "| 4 | No        | No        |  529.2506 | 35704.49  | \n",
       "| 10 | No        | No        |    0.0000 | 29275.27  | \n",
       "| 17 | No        | No        |    0.0000 | 50265.31  | \n",
       "\n",
       "\n"
      ],
      "text/plain": [
       "   default student balance   income  \n",
       "1  No      No       729.5265 44361.63\n",
       "3  No      No      1073.5492 31767.14\n",
       "4  No      No       529.2506 35704.49\n",
       "10 No      No         0.0000 29275.27\n",
       "17 No      No         0.0000 50265.31"
      ]
     },
     "metadata": {},
     "output_type": "display_data"
    },
    {
     "data": {
      "text/html": [
       "<ol class=list-inline>\n",
       "\t<li>7000</li>\n",
       "\t<li>4</li>\n",
       "</ol>\n"
      ],
      "text/latex": [
       "\\begin{enumerate*}\n",
       "\\item 7000\n",
       "\\item 4\n",
       "\\end{enumerate*}\n"
      ],
      "text/markdown": [
       "1. 7000\n",
       "2. 4\n",
       "\n",
       "\n"
      ],
      "text/plain": [
       "[1] 7000    4"
      ]
     },
     "metadata": {},
     "output_type": "display_data"
    },
    {
     "data": {
      "text/html": [
       "<ol class=list-inline>\n",
       "\t<li>3000</li>\n",
       "\t<li>4</li>\n",
       "</ol>\n"
      ],
      "text/latex": [
       "\\begin{enumerate*}\n",
       "\\item 3000\n",
       "\\item 4\n",
       "\\end{enumerate*}\n"
      ],
      "text/markdown": [
       "1. 3000\n",
       "2. 4\n",
       "\n",
       "\n"
      ],
      "text/plain": [
       "[1] 3000    4"
      ]
     },
     "metadata": {},
     "output_type": "display_data"
    }
   ],
   "source": [
    "#We want to split our data into training and testing.\n",
    "trainIndices = sample(10000, 7000)\n",
    "trainSet = Default[trainIndices,]\n",
    "testSet = Default[-trainIndices,]\n",
    "# for checks\n",
    "trainSet[0:5,]\n",
    "testSet[0:5,]\n",
    "dim(trainSet)\n",
    "dim(testSet)"
   ]
  },
  {
   "cell_type": "code",
   "execution_count": 5,
   "metadata": {},
   "outputs": [],
   "source": [
    "# Fit a logistic model with just train\n",
    "logModelJustTrain = glm(default~income+balance, data=trainSet, family='binomial')\n",
    "logModelJustTrain.probs=predict(logModelJustTrain, testSet, type='response') #run the values through the model\n",
    "logModelJustTrain.preds=rep(0, dim(testSet)[1]) #create a vector of 'No's'\n",
    "logModelJustTrain.preds[logModelJustTrain.preds>.5]=1 #change any probabilities greater than .5 to 'yes'"
   ]
  },
  {
   "cell_type": "code",
   "execution_count": 6,
   "metadata": {},
   "outputs": [
    {
     "data": {
      "text/html": [
       "<table>\n",
       "<thead><tr><th></th><th scope=col>logModelJustTrain.probs</th><th scope=col>logModelJustTrain.preds</th><th scope=col>default</th></tr></thead>\n",
       "<tbody>\n",
       "\t<tr><th scope=row>1</th><td>1.346030e-03</td><td>0           </td><td>No          </td></tr>\n",
       "\t<tr><th scope=row>3</th><td>7.497860e-03</td><td>0           </td><td>No          </td></tr>\n",
       "\t<tr><th scope=row>4</th><td>3.518271e-04</td><td>0           </td><td>No          </td></tr>\n",
       "\t<tr><th scope=row>10</th><td>1.435567e-05</td><td>0           </td><td>No          </td></tr>\n",
       "\t<tr><th scope=row>17</th><td>2.241233e-05</td><td>0           </td><td>No          </td></tr>\n",
       "\t<tr><th scope=row>25</th><td>1.401457e-03</td><td>0           </td><td>No          </td></tr>\n",
       "\t<tr><th scope=row>34</th><td>4.110772e-03</td><td>0           </td><td>No          </td></tr>\n",
       "\t<tr><th scope=row>43</th><td>1.481640e-02</td><td>0           </td><td>No          </td></tr>\n",
       "\t<tr><th scope=row>44</th><td>3.953969e-05</td><td>0           </td><td>No          </td></tr>\n",
       "\t<tr><th scope=row>46</th><td>2.594807e-04</td><td>0           </td><td>No          </td></tr>\n",
       "</tbody>\n",
       "</table>\n"
      ],
      "text/latex": [
       "\\begin{tabular}{r|lll}\n",
       "  & logModelJustTrain.probs & logModelJustTrain.preds & default\\\\\n",
       "\\hline\n",
       "\t1 & 1.346030e-03 & 0            & No          \\\\\n",
       "\t3 & 7.497860e-03 & 0            & No          \\\\\n",
       "\t4 & 3.518271e-04 & 0            & No          \\\\\n",
       "\t10 & 1.435567e-05 & 0            & No          \\\\\n",
       "\t17 & 2.241233e-05 & 0            & No          \\\\\n",
       "\t25 & 1.401457e-03 & 0            & No          \\\\\n",
       "\t34 & 4.110772e-03 & 0            & No          \\\\\n",
       "\t43 & 1.481640e-02 & 0            & No          \\\\\n",
       "\t44 & 3.953969e-05 & 0            & No          \\\\\n",
       "\t46 & 2.594807e-04 & 0            & No          \\\\\n",
       "\\end{tabular}\n"
      ],
      "text/markdown": [
       "\n",
       "| <!--/--> | logModelJustTrain.probs | logModelJustTrain.preds | default | \n",
       "|---|---|---|---|---|---|---|---|---|---|\n",
       "| 1 | 1.346030e-03 | 0            | No           | \n",
       "| 3 | 7.497860e-03 | 0            | No           | \n",
       "| 4 | 3.518271e-04 | 0            | No           | \n",
       "| 10 | 1.435567e-05 | 0            | No           | \n",
       "| 17 | 2.241233e-05 | 0            | No           | \n",
       "| 25 | 1.401457e-03 | 0            | No           | \n",
       "| 34 | 4.110772e-03 | 0            | No           | \n",
       "| 43 | 1.481640e-02 | 0            | No           | \n",
       "| 44 | 3.953969e-05 | 0            | No           | \n",
       "| 46 | 2.594807e-04 | 0            | No           | \n",
       "\n",
       "\n"
      ],
      "text/plain": [
       "   logModelJustTrain.probs logModelJustTrain.preds default\n",
       "1  1.346030e-03            0                       No     \n",
       "3  7.497860e-03            0                       No     \n",
       "4  3.518271e-04            0                       No     \n",
       "10 1.435567e-05            0                       No     \n",
       "17 2.241233e-05            0                       No     \n",
       "25 1.401457e-03            0                       No     \n",
       "34 4.110772e-03            0                       No     \n",
       "43 1.481640e-02            0                       No     \n",
       "44 3.953969e-05            0                       No     \n",
       "46 2.594807e-04            0                       No     "
      ]
     },
     "metadata": {},
     "output_type": "display_data"
    }
   ],
   "source": [
    "#print out the result of our predictions.\n",
    "result = data.frame(logModelJustTrain.probs, logModelJustTrain.preds, testSet['default'])\n",
    "result[0:10,]"
   ]
  },
  {
   "cell_type": "code",
   "execution_count": 7,
   "metadata": {},
   "outputs": [],
   "source": [
    "#Change default to map to 0 if no default, 1 to yes default\n",
    "dflt = rep(1:length(default))\n",
    "dflt[default=='No'] = 0\n",
    "dflt[default=='Yes'] = 1"
   ]
  },
  {
   "cell_type": "code",
   "execution_count": 8,
   "metadata": {},
   "outputs": [
    {
     "data": {
      "text/html": [
       "0.033"
      ],
      "text/latex": [
       "0.033"
      ],
      "text/markdown": [
       "0.033"
      ],
      "text/plain": [
       "[1] 0.033"
      ]
     },
     "metadata": {},
     "output_type": "display_data"
    }
   ],
   "source": [
    "#This is the MSE (mean squared error)\n",
    "mean((dflt[-trainIndices]-logModelJustTrain.preds^2))"
   ]
  },
  {
   "cell_type": "markdown",
   "metadata": {},
   "source": [
    "### c.) Repeat with different test sets."
   ]
  },
  {
   "cell_type": "code",
   "execution_count": 9,
   "metadata": {},
   "outputs": [
    {
     "data": {
      "text/html": [
       "<ol class=list-inline>\n",
       "\t<li>0.033</li>\n",
       "\t<li>0.031</li>\n",
       "\t<li>0.027</li>\n",
       "\t<li>0.031</li>\n",
       "\t<li>0.0316666666666667</li>\n",
       "</ol>\n"
      ],
      "text/latex": [
       "\\begin{enumerate*}\n",
       "\\item 0.033\n",
       "\\item 0.031\n",
       "\\item 0.027\n",
       "\\item 0.031\n",
       "\\item 0.0316666666666667\n",
       "\\end{enumerate*}\n"
      ],
      "text/markdown": [
       "1. 0.033\n",
       "2. 0.031\n",
       "3. 0.027\n",
       "4. 0.031\n",
       "5. 0.0316666666666667\n",
       "\n",
       "\n"
      ],
      "text/plain": [
       "[1] 0.03300000 0.03100000 0.02700000 0.03100000 0.03166667"
      ]
     },
     "metadata": {},
     "output_type": "display_data"
    },
    {
     "data": {
      "text/html": [
       "0.0328433333333333"
      ],
      "text/latex": [
       "0.0328433333333333"
      ],
      "text/markdown": [
       "0.0328433333333333"
      ],
      "text/plain": [
       "[1] 0.03284333"
      ]
     },
     "metadata": {},
     "output_type": "display_data"
    }
   ],
   "source": [
    "# Here, I create 100 different test sets and run logistic models for all of them\n",
    "y1 = rep(1:100)\n",
    "for (i in 1:100) {\n",
    "    set.seed(i)\n",
    "    trainIndices = sample(10000, 7000)\n",
    "    trainSet = Default[trainIndices,]\n",
    "    testSet = Default[-trainIndices,]\n",
    "\n",
    "    logModelJustTrain = glm(default~income+balance, data=trainSet, family='binomial')\n",
    "    logModelJustTrain.probs=predict(logModelJustTrain, testSet, type='response') #run the values through the model\n",
    "    logModelJustTrain.preds=rep(0, dim(testSet)[1]) #create a vector of 'No's'\n",
    "    logModelJustTrain.preds[logModelJustTrain.preds>.5]=1 #change any probabilities greater than .5 to 'yes'\n",
    "\n",
    "\n",
    "    y1[i] = (mean((dflt[-trainIndices]-logModelJustTrain.preds^2))) #MSE\n",
    "    }\n",
    "y1[0:5] #print out first 5 values\n",
    "mean(y1) #mean of means"
   ]
  },
  {
   "cell_type": "markdown",
   "metadata": {},
   "source": [
    "Clearly, as we vary the training set values, we will get different MSE values, but they all seem to be around ~.0328. "
   ]
  },
  {
   "cell_type": "markdown",
   "metadata": {},
   "source": [
    "### d.) Do the same, but considering 'student' as a predictor."
   ]
  },
  {
   "cell_type": "code",
   "execution_count": 10,
   "metadata": {},
   "outputs": [
    {
     "data": {
      "text/html": [
       "<ol class=list-inline>\n",
       "\t<li>0.037</li>\n",
       "\t<li>0.0316666666666667</li>\n",
       "\t<li>0.033</li>\n",
       "\t<li>0.0313333333333333</li>\n",
       "\t<li>0.0326666666666667</li>\n",
       "</ol>\n"
      ],
      "text/latex": [
       "\\begin{enumerate*}\n",
       "\\item 0.037\n",
       "\\item 0.0316666666666667\n",
       "\\item 0.033\n",
       "\\item 0.0313333333333333\n",
       "\\item 0.0326666666666667\n",
       "\\end{enumerate*}\n"
      ],
      "text/markdown": [
       "1. 0.037\n",
       "2. 0.0316666666666667\n",
       "3. 0.033\n",
       "4. 0.0313333333333333\n",
       "5. 0.0326666666666667\n",
       "\n",
       "\n"
      ],
      "text/plain": [
       "[1] 0.03700000 0.03166667 0.03300000 0.03133333 0.03266667"
      ]
     },
     "metadata": {},
     "output_type": "display_data"
    },
    {
     "data": {
      "text/html": [
       "0.0331933333333333"
      ],
      "text/latex": [
       "0.0331933333333333"
      ],
      "text/markdown": [
       "0.0331933333333333"
      ],
      "text/plain": [
       "[1] 0.03319333"
      ]
     },
     "metadata": {},
     "output_type": "display_data"
    },
    {
     "data": {
      "text/html": [
       "0.000349999999999996"
      ],
      "text/latex": [
       "0.000349999999999996"
      ],
      "text/markdown": [
       "0.000349999999999996"
      ],
      "text/plain": [
       "[1] 0.00035"
      ]
     },
     "metadata": {},
     "output_type": "display_data"
    }
   ],
   "source": [
    "y2 = rep(1:100)\n",
    "for (i in 1:100) {\n",
    "    set.seed(i + 100)\n",
    "    trainIndices2 = sample(10000, 7000)\n",
    "    trainSet2 = Default[trainIndices2,]\n",
    "    testSet2 = Default[-trainIndices2,]\n",
    "\n",
    "    logModelJustTrain2 = glm(default~income+balance+student, data=trainSet2, family='binomial') #this time we add student\n",
    "    logModelJustTrain2.probs=predict(logModelJustTrain2, testSet2, type='response') #run the values through the model\n",
    "    logModelJustTrain2.preds=rep(0, dim(testSet2)[1]) #create a vector of 'No's'\n",
    "    logModelJustTrain2.preds[logModelJustTrain2.preds>.5]=1 #change any probabilities greater than .5 to 'yes'\n",
    "\n",
    "\n",
    "    y2[i]= (mean((dflt[-trainIndices2]-logModelJustTrain2.preds^2))) #MSE\n",
    "    }\n",
    "y2[0:5]\n",
    "mean(y2) #mean of the mean\n",
    "sqrt((mean(y2) - mean(y1))^2) #The difference in MSEs (from including student vs not including student)"
   ]
  },
  {
   "cell_type": "markdown",
   "metadata": {},
   "source": [
    "The difference is extremely slight, but adding the student as a predictor increased the MSE by 0.0003499. To me, it doesn't seem like there would be a difference in adding or not adding 'student', but Occam's Razor tells us not to add it (and AIC/BIC too, I guess..)"
   ]
  },
  {
   "cell_type": "markdown",
   "metadata": {},
   "source": [
    "## Problem 8"
   ]
  },
  {
   "cell_type": "markdown",
   "metadata": {},
   "source": [
    "We will now perform cross-validation on a simulated data set."
   ]
  },
  {
   "cell_type": "code",
   "execution_count": 11,
   "metadata": {},
   "outputs": [],
   "source": [
    "set.seed(1)\n",
    "x=rnorm(100)\n",
    "y=x-2*x^2+rnorm(100)"
   ]
  },
  {
   "cell_type": "code",
   "execution_count": 12,
   "metadata": {},
   "outputs": [
    {
     "data": {
      "text/html": [
       "<table>\n",
       "<thead><tr><th scope=col>y</th><th scope=col>x</th></tr></thead>\n",
       "<tbody>\n",
       "\t<tr><td>-2.0317092</td><td>-0.6264538</td></tr>\n",
       "\t<tr><td> 0.1583095</td><td> 0.1836433</td></tr>\n",
       "\t<tr><td>-3.1431006</td><td>-0.8356286</td></tr>\n",
       "\t<tr><td>-3.3365321</td><td> 1.5952808</td></tr>\n",
       "\t<tr><td>-0.5422276</td><td> 0.3295078</td></tr>\n",
       "</tbody>\n",
       "</table>\n"
      ],
      "text/latex": [
       "\\begin{tabular}{r|ll}\n",
       " y & x\\\\\n",
       "\\hline\n",
       "\t -2.0317092 & -0.6264538\\\\\n",
       "\t  0.1583095 &  0.1836433\\\\\n",
       "\t -3.1431006 & -0.8356286\\\\\n",
       "\t -3.3365321 &  1.5952808\\\\\n",
       "\t -0.5422276 &  0.3295078\\\\\n",
       "\\end{tabular}\n"
      ],
      "text/markdown": [
       "\n",
       "y | x | \n",
       "|---|---|---|---|---|\n",
       "| -2.0317092 | -0.6264538 | \n",
       "|  0.1583095 |  0.1836433 | \n",
       "| -3.1431006 | -0.8356286 | \n",
       "| -3.3365321 |  1.5952808 | \n",
       "| -0.5422276 |  0.3295078 | \n",
       "\n",
       "\n"
      ],
      "text/plain": [
       "  y          x         \n",
       "1 -2.0317092 -0.6264538\n",
       "2  0.1583095  0.1836433\n",
       "3 -3.1431006 -0.8356286\n",
       "4 -3.3365321  1.5952808\n",
       "5 -0.5422276  0.3295078"
      ]
     },
     "metadata": {},
     "output_type": "display_data"
    },
    {
     "data": {
      "text/html": [
       "<ol class=list-inline>\n",
       "\t<li>100</li>\n",
       "\t<li>2</li>\n",
       "</ol>\n"
      ],
      "text/latex": [
       "\\begin{enumerate*}\n",
       "\\item 100\n",
       "\\item 2\n",
       "\\end{enumerate*}\n"
      ],
      "text/markdown": [
       "1. 100\n",
       "2. 2\n",
       "\n",
       "\n"
      ],
      "text/plain": [
       "[1] 100   2"
      ]
     },
     "metadata": {},
     "output_type": "display_data"
    }
   ],
   "source": [
    "#for checks\n",
    "data = data.frame(y, x)\n",
    "data[0:5,]\n",
    "dim(data)"
   ]
  },
  {
   "cell_type": "markdown",
   "metadata": {},
   "source": [
    "a.) We are working with a 100x2 dataset, as seen the checks above. \n",
    "$$Y = B_0 + B_1X_1$$"
   ]
  },
  {
   "cell_type": "code",
   "execution_count": 13,
   "metadata": {},
   "outputs": [
    {
     "data": {
      "image/png": "[encoded data removed]",
      "text/plain": [
       "plot without title"
      ]
     },
     "metadata": {},
     "output_type": "display_data"
    }
   ],
   "source": [
    "plot(x, y)"
   ]
  },
  {
   "cell_type": "markdown",
   "metadata": {},
   "source": [
    "b.) This looks like a typical downward parabola with noise!"
   ]
  },
  {
   "cell_type": "code",
   "execution_count": 14,
   "metadata": {},
   "outputs": [],
   "source": [
    "library(boot)\n",
    "set.seed(37)"
   ]
  },
  {
   "cell_type": "markdown",
   "metadata": {},
   "source": [
    "We will fit the following models:\n",
    "$$\\text{1.) Y} = \\beta_0 + \\beta_1X + \\varepsilon$$\n",
    "\n",
    "$$\\text{2.) Y} = \\beta_0 + \\beta_1X + \\beta_2X^2 + \\varepsilon$$\n",
    "\n",
    "$$\\text{3.) Y} = \\beta_0 + \\beta_1X + \\beta_2X^2 + \\beta_3X^3 + \\varepsilon$$\n",
    "\n",
    "$$\\text{4.) Y} = \\beta_0 + \\beta_1X + \\beta_2X^2 + \\beta_3X^3 + \\beta_4X^4 + \\varepsilon$$"
   ]
  },
  {
   "cell_type": "code",
   "execution_count": 15,
   "metadata": {},
   "outputs": [
    {
     "name": "stdout",
     "output_type": "stream",
     "text": [
      "[1] 7.288162\n",
      "[1] 0.9374236\n",
      "[1] 0.9566218\n",
      "[1] 0.9539049\n"
     ]
    }
   ],
   "source": [
    "#Create the models based on different degrees.\n",
    "lm.1 = glm(y~x, data=data)\n",
    "lm.2 = glm(y~x+I(x^2), data=data)\n",
    "lm.3 = glm(y~x+I(x^2)+I(x^3), data=data)\n",
    "# lm.4.1 = glm(y~poly(x, 4), data=data) this is same as below.\n",
    "lm.4 = glm(y~x+I(x^2)+I(x^3)+I(x^4), data=data)\n",
    "\n",
    "#Do K=N (LOOCV) on each model\n",
    "cv.1 = cv.glm(data, lm.1)\n",
    "cv.2 = cv.glm(data, lm.2)\n",
    "cv.3 = cv.glm(data, lm.3)\n",
    "cv.4 = cv.glm(data, lm.4)\n",
    "\n",
    "#Print out the MSE for each cross validation\n",
    "print (cv.1$delta[1])\n",
    "print (cv.2$delta[1])\n",
    "print (cv.3$delta[1])\n",
    "print (cv.4$delta[1])"
   ]
  },
  {
   "cell_type": "markdown",
   "metadata": {},
   "source": [
    "c.) I'm gonna be completely honest here, I sat here for 20 minutes wondering why my MSE for my first model was so high. HAHAHAHA because the model is __A POLYNOMIAL__ what a surprise!!! But at the same time, I expected my 2 order model to have the lowest error, which it did. I just got really distracted by the large difference between my first model and the rest of them. I need to sleep."
   ]
  },
  {
   "cell_type": "code",
   "execution_count": 16,
   "metadata": {},
   "outputs": [
    {
     "name": "stdout",
     "output_type": "stream",
     "text": [
      "[1] 7.288162\n",
      "[1] 0.9374236\n",
      "[1] 0.9566218\n",
      "[1] 0.9539049\n"
     ]
    }
   ],
   "source": [
    "set.seed(39)\n",
    "#Create the models based on different degrees.\n",
    "lm.1 = glm(y~x, data=data)\n",
    "lm.2 = glm(y~x+I(x^2), data=data)\n",
    "lm.3 = glm(y~x+I(x^2)+I(x^3), data=data)\n",
    "# lm.4.1 = glm(y~poly(x, 4), data=data) this is same as below.\n",
    "lm.4 = glm(y~x+I(x^2)+I(x^3)+I(x^4), data=data)\n",
    "\n",
    "#Do K=N (LOOCV) on each model\n",
    "cv.1 = cv.glm(data, lm.1)\n",
    "cv.2 = cv.glm(data, lm.2)\n",
    "cv.3 = cv.glm(data, lm.3)\n",
    "cv.4 = cv.glm(data, lm.4)\n",
    "\n",
    "#Print out the MSE for each cross validation\n",
    "print (cv.1$delta[1])\n",
    "print (cv.2$delta[1])\n",
    "print (cv.3$delta[1])\n",
    "print (cv.4$delta[1])"
   ]
  },
  {
   "cell_type": "markdown",
   "metadata": {},
   "source": [
    "d.) Because of the nature of cross validation, we should get the same results for the MSE, regardless of what seed we use. We're looking at the entire data set and taking an average of all of the different train/test combinations. Unless we change the value of K, we should always get the same values."
   ]
  },
  {
   "cell_type": "markdown",
   "metadata": {},
   "source": [
    "e.) Again, we should expect polynomial degree 2 to have the lowest MSE, since the original dataset was based on a X^2 factor. This was verified through the cross validation MSE, which was the lowest at polynomial degree 2."
   ]
  },
  {
   "cell_type": "code",
   "execution_count": 17,
   "metadata": {},
   "outputs": [
    {
     "name": "stdout",
     "output_type": "stream",
     "text": [
      "[1] \"X P-VALUES\"\n"
     ]
    },
    {
     "data": {
      "text/html": [
       "1.30929972880896e-08"
      ],
      "text/latex": [
       "1.30929972880896e-08"
      ],
      "text/markdown": [
       "1.30929972880896e-08"
      ],
      "text/plain": [
       "[1] 1.3093e-08"
      ]
     },
     "metadata": {},
     "output_type": "display_data"
    },
    {
     "data": {
      "text/html": [
       "0.0192384645072811"
      ],
      "text/latex": [
       "0.0192384645072811"
      ],
      "text/markdown": [
       "0.0192384645072811"
      ],
      "text/plain": [
       "[1] 0.01923846"
      ]
     },
     "metadata": {},
     "output_type": "display_data"
    },
    {
     "name": "stdout",
     "output_type": "stream",
     "text": [
      "[1] \"X^2 P-VALUES\"\n"
     ]
    },
    {
     "data": {
      "text/html": [
       "0.630861286236613"
      ],
      "text/latex": [
       "0.630861286236613"
      ],
      "text/markdown": [
       "0.630861286236613"
      ],
      "text/plain": [
       "[1] 0.6308613"
      ]
     },
     "metadata": {},
     "output_type": "display_data"
    },
    {
     "data": {
      "text/html": [
       "2.40328674176305e-15"
      ],
      "text/latex": [
       "2.40328674176305e-15"
      ],
      "text/markdown": [
       "2.40328674176305e-15"
      ],
      "text/plain": [
       "[1] 2.403287e-15"
      ]
     },
     "metadata": {},
     "output_type": "display_data"
    },
    {
     "data": {
      "text/html": [
       "4.58433015088097e-44"
      ],
      "text/latex": [
       "4.58433015088097e-44"
      ],
      "text/markdown": [
       "4.58433015088097e-44"
      ],
      "text/plain": [
       "[1] 4.58433e-44"
      ]
     },
     "metadata": {},
     "output_type": "display_data"
    },
    {
     "name": "stdout",
     "output_type": "stream",
     "text": [
      "[1] \"X^3 P-VALUES\"\n"
     ]
    },
    {
     "data": {
      "text/html": [
       "0.607953796738618"
      ],
      "text/latex": [
       "0.607953796738618"
      ],
      "text/markdown": [
       "0.607953796738618"
      ],
      "text/plain": [
       "[1] 0.6079538"
      ]
     },
     "metadata": {},
     "output_type": "display_data"
    },
    {
     "data": {
      "text/html": [
       "1.08934983369184e-06"
      ],
      "text/latex": [
       "1.08934983369184e-06"
      ],
      "text/markdown": [
       "1.08934983369184e-06"
      ],
      "text/plain": [
       "[1] 1.08935e-06"
      ]
     },
     "metadata": {},
     "output_type": "display_data"
    },
    {
     "data": {
      "text/html": [
       "5.87344377541289e-43"
      ],
      "text/latex": [
       "5.87344377541289e-43"
      ],
      "text/markdown": [
       "5.87344377541289e-43"
      ],
      "text/plain": [
       "[1] 5.873444e-43"
      ]
     },
     "metadata": {},
     "output_type": "display_data"
    },
    {
     "data": {
      "text/html": [
       "0.784399039902434"
      ],
      "text/latex": [
       "0.784399039902434"
      ],
      "text/markdown": [
       "0.784399039902434"
      ],
      "text/plain": [
       "[1] 0.784399"
      ]
     },
     "metadata": {},
     "output_type": "display_data"
    },
    {
     "name": "stdout",
     "output_type": "stream",
     "text": [
      "[1] \"X^4 P-VALUES\"\n"
     ]
    },
    {
     "data": {
      "text/html": [
       "0.264003389109833"
      ],
      "text/latex": [
       "0.264003389109833"
      ],
      "text/markdown": [
       "0.264003389109833"
      ],
      "text/plain": [
       "[1] 0.2640034"
      ]
     },
     "metadata": {},
     "output_type": "display_data"
    },
    {
     "data": {
      "text/html": [
       "5.17432635724482e-07"
      ],
      "text/latex": [
       "5.17432635724482e-07"
      ],
      "text/markdown": [
       "5.17432635724482e-07"
      ],
      "text/plain": [
       "[1] 5.174326e-07"
      ]
     },
     "metadata": {},
     "output_type": "display_data"
    },
    {
     "data": {
      "text/html": [
       "4.57522935340721e-17"
      ],
      "text/latex": [
       "4.57522935340721e-17"
      ],
      "text/markdown": [
       "4.57522935340721e-17"
      ],
      "text/plain": [
       "[1] 4.575229e-17"
      ]
     },
     "metadata": {},
     "output_type": "display_data"
    },
    {
     "data": {
      "text/html": [
       "0.892228834068777"
      ],
      "text/latex": [
       "0.892228834068777"
      ],
      "text/markdown": [
       "0.892228834068777"
      ],
      "text/plain": [
       "[1] 0.8922288"
      ]
     },
     "metadata": {},
     "output_type": "display_data"
    },
    {
     "data": {
      "text/html": [
       "0.193095643040333"
      ],
      "text/latex": [
       "0.193095643040333"
      ],
      "text/markdown": [
       "0.193095643040333"
      ],
      "text/plain": [
       "[1] 0.1930956"
      ]
     },
     "metadata": {},
     "output_type": "display_data"
    }
   ],
   "source": [
    "print('X P-VALUES')\n",
    "coef(summary(lm.1))[1, 4] #p value of intercept\n",
    "coef(summary(lm.1))[2, 4] # x\n",
    "\n",
    "print('X^2 P-VALUES')\n",
    "coef(summary(lm.2))[1, 4] #p value of intercept\n",
    "coef(summary(lm.2))[2, 4] # x\n",
    "coef(summary(lm.2))[3, 4] # x^2\n",
    "\n",
    "print('X^3 P-VALUES')\n",
    "coef(summary(lm.3))[1, 4] #p value of intercept\n",
    "coef(summary(lm.3))[2, 4] # x\n",
    "coef(summary(lm.3))[3, 4] # x^2\n",
    "coef(summary(lm.3))[4, 4] # x^3\n",
    "\n",
    "print('X^4 P-VALUES')\n",
    "coef(summary(lm.4))[1, 4] #p value of intercept\n",
    "coef(summary(lm.4))[2, 4] # x\n",
    "coef(summary(lm.4))[3, 4] # x^2\n",
    "coef(summary(lm.4))[4, 4] # x^3\n",
    "coef(summary(lm.4))[5, 4] # x^4"
   ]
  },
  {
   "cell_type": "markdown",
   "metadata": {},
   "source": [
    "f.) Yup! The 2nd order model also has the lowest (best) p-values also. It seems like the x-intercept isn't particularly significant, but for the $x^2$ orders and above, the $x^2$ term is also the highest. Everything agrees and works out!"
   ]
  }
 ],
 "metadata": {
  "kernelspec": {
   "display_name": "R",
   "language": "R",
   "name": "ir"
  },
  "language_info": {
   "codemirror_mode": "r",
   "file_extension": ".r",
   "mimetype": "text/x-r-source",
   "name": "R",
   "pygments_lexer": "r",
   "version": "3.4.4"
  }
 },
 "nbformat": 4,
 "nbformat_minor": 2
}
