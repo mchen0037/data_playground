{
 "cells": [
  {
   "cell_type": "code",
   "execution_count": 1,
   "metadata": {},
   "outputs": [],
   "source": [
    "# x = rnorm(100)\n",
    "# y = rnorm(100)\n",
    "\n",
    "# jpeg(\"Figure.jpeg\")\n",
    "# plot(x, y, xlab=\"x axis\", ylab=\"y axis\", main=\"title\")\n",
    "# dev.off()"
   ]
  },
  {
   "cell_type": "code",
   "execution_count": 2,
   "metadata": {},
   "outputs": [],
   "source": [
    "# pdf(\"Figure.pdf\")\n",
    "# x = seq(0, 5, length=10)\n",
    "# y = 5 * x + 1\n",
    "# plot(x, y)\n",
    "# dev.off()"
   ]
  },
  {
   "cell_type": "code",
   "execution_count": 3,
   "metadata": {},
   "outputs": [],
   "source": [
    "# x = seq(-5, 5, length=50)\n",
    "# y = x\n",
    "# f = outer(x, y, function(x, y)cos(y)/(1+x^2))\n",
    "# contour(x, y, f)\n",
    "# contour(x, y, f, nlevels=45,add=T)\n",
    "# fa=(f-t(f))/2\n",
    "# contour(x, y, fa, nlevels=15)"
   ]
  },
  {
   "cell_type": "code",
   "execution_count": 75,
   "metadata": {},
   "outputs": [
    {
     "data": {
      "text/html": [
       "<ol class=list-inline>\n",
       "\t<li>'mpg'</li>\n",
       "\t<li>'cylinders'</li>\n",
       "\t<li>'displacement'</li>\n",
       "\t<li>'horsepower'</li>\n",
       "\t<li>'weight'</li>\n",
       "\t<li>'acceleration'</li>\n",
       "\t<li>'year'</li>\n",
       "\t<li>'origin'</li>\n",
       "\t<li>'name'</li>\n",
       "</ol>\n"
      ],
      "text/latex": [
       "\\begin{enumerate*}\n",
       "\\item 'mpg'\n",
       "\\item 'cylinders'\n",
       "\\item 'displacement'\n",
       "\\item 'horsepower'\n",
       "\\item 'weight'\n",
       "\\item 'acceleration'\n",
       "\\item 'year'\n",
       "\\item 'origin'\n",
       "\\item 'name'\n",
       "\\end{enumerate*}\n"
      ],
      "text/markdown": [
       "1. 'mpg'\n",
       "2. 'cylinders'\n",
       "3. 'displacement'\n",
       "4. 'horsepower'\n",
       "5. 'weight'\n",
       "6. 'acceleration'\n",
       "7. 'year'\n",
       "8. 'origin'\n",
       "9. 'name'\n",
       "\n",
       "\n"
      ],
      "text/plain": [
       "[1] \"mpg\"          \"cylinders\"    \"displacement\" \"horsepower\"   \"weight\"      \n",
       "[6] \"acceleration\" \"year\"         \"origin\"       \"name\"        "
      ]
     },
     "metadata": {},
     "output_type": "display_data"
    },
    {
     "data": {
      "text/html": [
       "<ol class=list-inline>\n",
       "\t<li>397</li>\n",
       "\t<li>9</li>\n",
       "</ol>\n"
      ],
      "text/latex": [
       "\\begin{enumerate*}\n",
       "\\item 397\n",
       "\\item 9\n",
       "\\end{enumerate*}\n"
      ],
      "text/markdown": [
       "1. 397\n",
       "2. 9\n",
       "\n",
       "\n"
      ],
      "text/plain": [
       "[1] 397   9"
      ]
     },
     "metadata": {},
     "output_type": "display_data"
    }
   ],
   "source": [
    "Auto = read.table(\"Auto.data\", header=T, na.strings=\"?\")\n",
    "names(Auto)\n",
    "dim(Auto)"
   ]
  },
  {
   "cell_type": "code",
   "execution_count": 76,
   "metadata": {},
   "outputs": [
    {
     "data": {
      "text/html": [
       "<ol class=list-inline>\n",
       "\t<li>392</li>\n",
       "\t<li>9</li>\n",
       "</ol>\n"
      ],
      "text/latex": [
       "\\begin{enumerate*}\n",
       "\\item 392\n",
       "\\item 9\n",
       "\\end{enumerate*}\n"
      ],
      "text/markdown": [
       "1. 392\n",
       "2. 9\n",
       "\n",
       "\n"
      ],
      "text/plain": [
       "[1] 392   9"
      ]
     },
     "metadata": {},
     "output_type": "display_data"
    }
   ],
   "source": [
    "# We want to remove the rows with incomplete date.\n",
    "Auto = na.omit(Auto)\n",
    "dim(Auto)"
   ]
  },
  {
   "cell_type": "code",
   "execution_count": 77,
   "metadata": {},
   "outputs": [
    {
     "data": {
      "text/html": [
       "<table>\n",
       "<thead><tr><th></th><th scope=col>mpg</th><th scope=col>cylinders</th><th scope=col>displacement</th><th scope=col>horsepower</th><th scope=col>weight</th><th scope=col>acceleration</th><th scope=col>year</th><th scope=col>origin</th><th scope=col>name</th></tr></thead>\n",
       "<tbody>\n",
       "\t<tr><th scope=row>1</th><td>18                          </td><td>8                           </td><td>307                         </td><td>130                         </td><td>3504                        </td><td>12.0                        </td><td>70                          </td><td>1                           </td><td>chevrolet chevelle malibu   </td></tr>\n",
       "\t<tr><th scope=row>2</th><td>15                          </td><td>8                           </td><td>350                         </td><td>165                         </td><td>3693                        </td><td>11.5                        </td><td>70                          </td><td>1                           </td><td>buick skylark 320           </td></tr>\n",
       "\t<tr><th scope=row>3</th><td>18                          </td><td>8                           </td><td>318                         </td><td>150                         </td><td>3436                        </td><td>11.0                        </td><td>70                          </td><td>1                           </td><td>plymouth satellite          </td></tr>\n",
       "\t<tr><th scope=row>4</th><td>16                          </td><td>8                           </td><td>304                         </td><td>150                         </td><td>3433                        </td><td>12.0                        </td><td>70                          </td><td>1                           </td><td>amc rebel sst               </td></tr>\n",
       "\t<tr><th scope=row>5</th><td>17                          </td><td>8                           </td><td>302                         </td><td>140                         </td><td>3449                        </td><td>10.5                        </td><td>70                          </td><td>1                           </td><td>ford torino                 </td></tr>\n",
       "\t<tr><th scope=row>6</th><td>15                          </td><td>8                           </td><td>429                         </td><td>198                         </td><td>4341                        </td><td>10.0                        </td><td>70                          </td><td>1                           </td><td>ford galaxie 500            </td></tr>\n",
       "\t<tr><th scope=row>7</th><td>14                          </td><td>8                           </td><td>454                         </td><td>220                         </td><td>4354                        </td><td> 9.0                        </td><td>70                          </td><td>1                           </td><td>chevrolet impala            </td></tr>\n",
       "\t<tr><th scope=row>8</th><td>14                          </td><td>8                           </td><td>440                         </td><td>215                         </td><td>4312                        </td><td> 8.5                        </td><td>70                          </td><td>1                           </td><td>plymouth fury iii           </td></tr>\n",
       "\t<tr><th scope=row>9</th><td>14                          </td><td>8                           </td><td>455                         </td><td>225                         </td><td>4425                        </td><td>10.0                        </td><td>70                          </td><td>1                           </td><td>pontiac catalina            </td></tr>\n",
       "\t<tr><th scope=row>10</th><td>15                          </td><td>8                           </td><td>390                         </td><td>190                         </td><td>3850                        </td><td> 8.5                        </td><td>70                          </td><td>1                           </td><td>amc ambassador dpl          </td></tr>\n",
       "\t<tr><th scope=row>11</th><td>15                          </td><td>8                           </td><td>383                         </td><td>170                         </td><td>3563                        </td><td>10.0                        </td><td>70                          </td><td>1                           </td><td>dodge challenger se         </td></tr>\n",
       "\t<tr><th scope=row>12</th><td>14                          </td><td>8                           </td><td>340                         </td><td>160                         </td><td>3609                        </td><td> 8.0                        </td><td>70                          </td><td>1                           </td><td>plymouth 'cuda 340          </td></tr>\n",
       "\t<tr><th scope=row>13</th><td>15                          </td><td>8                           </td><td>400                         </td><td>150                         </td><td>3761                        </td><td> 9.5                        </td><td>70                          </td><td>1                           </td><td>chevrolet monte carlo       </td></tr>\n",
       "\t<tr><th scope=row>14</th><td>14                          </td><td>8                           </td><td>455                         </td><td>225                         </td><td>3086                        </td><td>10.0                        </td><td>70                          </td><td>1                           </td><td>buick estate wagon (sw)     </td></tr>\n",
       "\t<tr><th scope=row>15</th><td>24                          </td><td>4                           </td><td>113                         </td><td> 95                         </td><td>2372                        </td><td>15.0                        </td><td>70                          </td><td>3                           </td><td>toyota corona mark ii       </td></tr>\n",
       "\t<tr><th scope=row>16</th><td>22                          </td><td>6                           </td><td>198                         </td><td> 95                         </td><td>2833                        </td><td>15.5                        </td><td>70                          </td><td>1                           </td><td>plymouth duster             </td></tr>\n",
       "\t<tr><th scope=row>17</th><td>18                          </td><td>6                           </td><td>199                         </td><td> 97                         </td><td>2774                        </td><td>15.5                        </td><td>70                          </td><td>1                           </td><td>amc hornet                  </td></tr>\n",
       "\t<tr><th scope=row>18</th><td>21                          </td><td>6                           </td><td>200                         </td><td> 85                         </td><td>2587                        </td><td>16.0                        </td><td>70                          </td><td>1                           </td><td>ford maverick               </td></tr>\n",
       "\t<tr><th scope=row>19</th><td>27                          </td><td>4                           </td><td> 97                         </td><td> 88                         </td><td>2130                        </td><td>14.5                        </td><td>70                          </td><td>3                           </td><td>datsun pl510                </td></tr>\n",
       "\t<tr><th scope=row>20</th><td>26                          </td><td>4                           </td><td> 97                         </td><td> 46                         </td><td>1835                        </td><td>20.5                        </td><td>70                          </td><td>2                           </td><td>volkswagen 1131 deluxe sedan</td></tr>\n",
       "\t<tr><th scope=row>21</th><td>25                          </td><td>4                           </td><td>110                         </td><td> 87                         </td><td>2672                        </td><td>17.5                        </td><td>70                          </td><td>2                           </td><td>peugeot 504                 </td></tr>\n",
       "\t<tr><th scope=row>22</th><td>24                          </td><td>4                           </td><td>107                         </td><td> 90                         </td><td>2430                        </td><td>14.5                        </td><td>70                          </td><td>2                           </td><td>audi 100 ls                 </td></tr>\n",
       "\t<tr><th scope=row>23</th><td>25                          </td><td>4                           </td><td>104                         </td><td> 95                         </td><td>2375                        </td><td>17.5                        </td><td>70                          </td><td>2                           </td><td>saab 99e                    </td></tr>\n",
       "\t<tr><th scope=row>24</th><td>26                          </td><td>4                           </td><td>121                         </td><td>113                         </td><td>2234                        </td><td>12.5                        </td><td>70                          </td><td>2                           </td><td>bmw 2002                    </td></tr>\n",
       "\t<tr><th scope=row>25</th><td>21                          </td><td>6                           </td><td>199                         </td><td> 90                         </td><td>2648                        </td><td>15.0                        </td><td>70                          </td><td>1                           </td><td>amc gremlin                 </td></tr>\n",
       "\t<tr><th scope=row>26</th><td>10                          </td><td>8                           </td><td>360                         </td><td>215                         </td><td>4615                        </td><td>14.0                        </td><td>70                          </td><td>1                           </td><td>ford f250                   </td></tr>\n",
       "\t<tr><th scope=row>27</th><td>10                          </td><td>8                           </td><td>307                         </td><td>200                         </td><td>4376                        </td><td>15.0                        </td><td>70                          </td><td>1                           </td><td>chevy c20                   </td></tr>\n",
       "\t<tr><th scope=row>28</th><td>11                          </td><td>8                           </td><td>318                         </td><td>210                         </td><td>4382                        </td><td>13.5                        </td><td>70                          </td><td>1                           </td><td>dodge d200                  </td></tr>\n",
       "\t<tr><th scope=row>29</th><td> 9                          </td><td>8                           </td><td>304                         </td><td>193                         </td><td>4732                        </td><td>18.5                        </td><td>70                          </td><td>1                           </td><td>hi 1200d                    </td></tr>\n",
       "\t<tr><th scope=row>30</th><td>27                          </td><td>4                           </td><td> 97                         </td><td> 88                         </td><td>2130                        </td><td>14.5                        </td><td>71                          </td><td>3                           </td><td>datsun pl510                </td></tr>\n",
       "\t<tr><th scope=row>⋮</th><td>⋮</td><td>⋮</td><td>⋮</td><td>⋮</td><td>⋮</td><td>⋮</td><td>⋮</td><td>⋮</td><td>⋮</td></tr>\n",
       "\t<tr><th scope=row>368</th><td>28                               </td><td>4                                </td><td>112                              </td><td> 88                              </td><td>2605                             </td><td>19.6                             </td><td>82                               </td><td>1                                </td><td>chevrolet cavalier               </td></tr>\n",
       "\t<tr><th scope=row>369</th><td>27                               </td><td>4                                </td><td>112                              </td><td> 88                              </td><td>2640                             </td><td>18.6                             </td><td>82                               </td><td>1                                </td><td>chevrolet cavalier wagon         </td></tr>\n",
       "\t<tr><th scope=row>370</th><td>34                               </td><td>4                                </td><td>112                              </td><td> 88                              </td><td>2395                             </td><td>18.0                             </td><td>82                               </td><td>1                                </td><td>chevrolet cavalier 2-door        </td></tr>\n",
       "\t<tr><th scope=row>371</th><td>31                               </td><td>4                                </td><td>112                              </td><td> 85                              </td><td>2575                             </td><td>16.2                             </td><td>82                               </td><td>1                                </td><td>pontiac j2000 se hatchback       </td></tr>\n",
       "\t<tr><th scope=row>372</th><td>29                               </td><td>4                                </td><td>135                              </td><td> 84                              </td><td>2525                             </td><td>16.0                             </td><td>82                               </td><td>1                                </td><td>dodge aries se                   </td></tr>\n",
       "\t<tr><th scope=row>373</th><td>27                               </td><td>4                                </td><td>151                              </td><td> 90                              </td><td>2735                             </td><td>18.0                             </td><td>82                               </td><td>1                                </td><td>pontiac phoenix                  </td></tr>\n",
       "\t<tr><th scope=row>374</th><td>24                               </td><td>4                                </td><td>140                              </td><td> 92                              </td><td>2865                             </td><td>16.4                             </td><td>82                               </td><td>1                                </td><td>ford fairmont futura             </td></tr>\n",
       "\t<tr><th scope=row>375</th><td>36                               </td><td>4                                </td><td>105                              </td><td> 74                              </td><td>1980                             </td><td>15.3                             </td><td>82                               </td><td>2                                </td><td>volkswagen rabbit l              </td></tr>\n",
       "\t<tr><th scope=row>376</th><td>37                               </td><td>4                                </td><td> 91                              </td><td> 68                              </td><td>2025                             </td><td>18.2                             </td><td>82                               </td><td>3                                </td><td>mazda glc custom l               </td></tr>\n",
       "\t<tr><th scope=row>377</th><td>31                               </td><td>4                                </td><td> 91                              </td><td> 68                              </td><td>1970                             </td><td>17.6                             </td><td>82                               </td><td>3                                </td><td>mazda glc custom                 </td></tr>\n",
       "\t<tr><th scope=row>378</th><td>38                               </td><td>4                                </td><td>105                              </td><td> 63                              </td><td>2125                             </td><td>14.7                             </td><td>82                               </td><td>1                                </td><td>plymouth horizon miser           </td></tr>\n",
       "\t<tr><th scope=row>379</th><td>36                               </td><td>4                                </td><td> 98                              </td><td> 70                              </td><td>2125                             </td><td>17.3                             </td><td>82                               </td><td>1                                </td><td>mercury lynx l                   </td></tr>\n",
       "\t<tr><th scope=row>380</th><td>36                               </td><td>4                                </td><td>120                              </td><td> 88                              </td><td>2160                             </td><td>14.5                             </td><td>82                               </td><td>3                                </td><td>nissan stanza xe                 </td></tr>\n",
       "\t<tr><th scope=row>381</th><td>36                               </td><td>4                                </td><td>107                              </td><td> 75                              </td><td>2205                             </td><td>14.5                             </td><td>82                               </td><td>3                                </td><td>honda accord                     </td></tr>\n",
       "\t<tr><th scope=row>382</th><td>34                               </td><td>4                                </td><td>108                              </td><td> 70                              </td><td>2245                             </td><td>16.9                             </td><td>82                               </td><td>3                                </td><td>toyota corolla                   </td></tr>\n",
       "\t<tr><th scope=row>383</th><td>38                               </td><td>4                                </td><td> 91                              </td><td> 67                              </td><td>1965                             </td><td>15.0                             </td><td>82                               </td><td>3                                </td><td>honda civic                      </td></tr>\n",
       "\t<tr><th scope=row>384</th><td>32                               </td><td>4                                </td><td> 91                              </td><td> 67                              </td><td>1965                             </td><td>15.7                             </td><td>82                               </td><td>3                                </td><td>honda civic (auto)               </td></tr>\n",
       "\t<tr><th scope=row>385</th><td>38                               </td><td>4                                </td><td> 91                              </td><td> 67                              </td><td>1995                             </td><td>16.2                             </td><td>82                               </td><td>3                                </td><td>datsun 310 gx                    </td></tr>\n",
       "\t<tr><th scope=row>386</th><td>25                               </td><td>6                                </td><td>181                              </td><td>110                              </td><td>2945                             </td><td>16.4                             </td><td>82                               </td><td>1                                </td><td>buick century limited            </td></tr>\n",
       "\t<tr><th scope=row>387</th><td>38                               </td><td>6                                </td><td>262                              </td><td> 85                              </td><td>3015                             </td><td>17.0                             </td><td>82                               </td><td>1                                </td><td>oldsmobile cutlass ciera (diesel)</td></tr>\n",
       "\t<tr><th scope=row>388</th><td>26                               </td><td>4                                </td><td>156                              </td><td> 92                              </td><td>2585                             </td><td>14.5                             </td><td>82                               </td><td>1                                </td><td>chrysler lebaron medallion       </td></tr>\n",
       "\t<tr><th scope=row>389</th><td>22                               </td><td>6                                </td><td>232                              </td><td>112                              </td><td>2835                             </td><td>14.7                             </td><td>82                               </td><td>1                                </td><td>ford granada l                   </td></tr>\n",
       "\t<tr><th scope=row>390</th><td>32                               </td><td>4                                </td><td>144                              </td><td> 96                              </td><td>2665                             </td><td>13.9                             </td><td>82                               </td><td>3                                </td><td>toyota celica gt                 </td></tr>\n",
       "\t<tr><th scope=row>391</th><td>36                               </td><td>4                                </td><td>135                              </td><td> 84                              </td><td>2370                             </td><td>13.0                             </td><td>82                               </td><td>1                                </td><td>dodge charger 2.2                </td></tr>\n",
       "\t<tr><th scope=row>392</th><td>27                               </td><td>4                                </td><td>151                              </td><td> 90                              </td><td>2950                             </td><td>17.3                             </td><td>82                               </td><td>1                                </td><td>chevrolet camaro                 </td></tr>\n",
       "\t<tr><th scope=row>393</th><td>27                               </td><td>4                                </td><td>140                              </td><td> 86                              </td><td>2790                             </td><td>15.6                             </td><td>82                               </td><td>1                                </td><td>ford mustang gl                  </td></tr>\n",
       "\t<tr><th scope=row>394</th><td>44                               </td><td>4                                </td><td> 97                              </td><td> 52                              </td><td>2130                             </td><td>24.6                             </td><td>82                               </td><td>2                                </td><td>vw pickup                        </td></tr>\n",
       "\t<tr><th scope=row>395</th><td>32                               </td><td>4                                </td><td>135                              </td><td> 84                              </td><td>2295                             </td><td>11.6                             </td><td>82                               </td><td>1                                </td><td>dodge rampage                    </td></tr>\n",
       "\t<tr><th scope=row>396</th><td>28                               </td><td>4                                </td><td>120                              </td><td> 79                              </td><td>2625                             </td><td>18.6                             </td><td>82                               </td><td>1                                </td><td>ford ranger                      </td></tr>\n",
       "\t<tr><th scope=row>397</th><td>31                               </td><td>4                                </td><td>119                              </td><td> 82                              </td><td>2720                             </td><td>19.4                             </td><td>82                               </td><td>1                                </td><td>chevy s-10                       </td></tr>\n",
       "</tbody>\n",
       "</table>\n"
      ],
      "text/latex": [
       "\\begin{tabular}{r|lllllllll}\n",
       "  & mpg & cylinders & displacement & horsepower & weight & acceleration & year & origin & name\\\\\n",
       "\\hline\n",
       "\t1 & 18                           & 8                            & 307                          & 130                          & 3504                         & 12.0                         & 70                           & 1                            & chevrolet chevelle malibu   \\\\\n",
       "\t2 & 15                           & 8                            & 350                          & 165                          & 3693                         & 11.5                         & 70                           & 1                            & buick skylark 320           \\\\\n",
       "\t3 & 18                           & 8                            & 318                          & 150                          & 3436                         & 11.0                         & 70                           & 1                            & plymouth satellite          \\\\\n",
       "\t4 & 16                           & 8                            & 304                          & 150                          & 3433                         & 12.0                         & 70                           & 1                            & amc rebel sst               \\\\\n",
       "\t5 & 17                           & 8                            & 302                          & 140                          & 3449                         & 10.5                         & 70                           & 1                            & ford torino                 \\\\\n",
       "\t6 & 15                           & 8                            & 429                          & 198                          & 4341                         & 10.0                         & 70                           & 1                            & ford galaxie 500            \\\\\n",
       "\t7 & 14                           & 8                            & 454                          & 220                          & 4354                         &  9.0                         & 70                           & 1                            & chevrolet impala            \\\\\n",
       "\t8 & 14                           & 8                            & 440                          & 215                          & 4312                         &  8.5                         & 70                           & 1                            & plymouth fury iii           \\\\\n",
       "\t9 & 14                           & 8                            & 455                          & 225                          & 4425                         & 10.0                         & 70                           & 1                            & pontiac catalina            \\\\\n",
       "\t10 & 15                           & 8                            & 390                          & 190                          & 3850                         &  8.5                         & 70                           & 1                            & amc ambassador dpl          \\\\\n",
       "\t11 & 15                           & 8                            & 383                          & 170                          & 3563                         & 10.0                         & 70                           & 1                            & dodge challenger se         \\\\\n",
       "\t12 & 14                           & 8                            & 340                          & 160                          & 3609                         &  8.0                         & 70                           & 1                            & plymouth 'cuda 340          \\\\\n",
       "\t13 & 15                           & 8                            & 400                          & 150                          & 3761                         &  9.5                         & 70                           & 1                            & chevrolet monte carlo       \\\\\n",
       "\t14 & 14                           & 8                            & 455                          & 225                          & 3086                         & 10.0                         & 70                           & 1                            & buick estate wagon (sw)     \\\\\n",
       "\t15 & 24                           & 4                            & 113                          &  95                          & 2372                         & 15.0                         & 70                           & 3                            & toyota corona mark ii       \\\\\n",
       "\t16 & 22                           & 6                            & 198                          &  95                          & 2833                         & 15.5                         & 70                           & 1                            & plymouth duster             \\\\\n",
       "\t17 & 18                           & 6                            & 199                          &  97                          & 2774                         & 15.5                         & 70                           & 1                            & amc hornet                  \\\\\n",
       "\t18 & 21                           & 6                            & 200                          &  85                          & 2587                         & 16.0                         & 70                           & 1                            & ford maverick               \\\\\n",
       "\t19 & 27                           & 4                            &  97                          &  88                          & 2130                         & 14.5                         & 70                           & 3                            & datsun pl510                \\\\\n",
       "\t20 & 26                           & 4                            &  97                          &  46                          & 1835                         & 20.5                         & 70                           & 2                            & volkswagen 1131 deluxe sedan\\\\\n",
       "\t21 & 25                           & 4                            & 110                          &  87                          & 2672                         & 17.5                         & 70                           & 2                            & peugeot 504                 \\\\\n",
       "\t22 & 24                           & 4                            & 107                          &  90                          & 2430                         & 14.5                         & 70                           & 2                            & audi 100 ls                 \\\\\n",
       "\t23 & 25                           & 4                            & 104                          &  95                          & 2375                         & 17.5                         & 70                           & 2                            & saab 99e                    \\\\\n",
       "\t24 & 26                           & 4                            & 121                          & 113                          & 2234                         & 12.5                         & 70                           & 2                            & bmw 2002                    \\\\\n",
       "\t25 & 21                           & 6                            & 199                          &  90                          & 2648                         & 15.0                         & 70                           & 1                            & amc gremlin                 \\\\\n",
       "\t26 & 10                           & 8                            & 360                          & 215                          & 4615                         & 14.0                         & 70                           & 1                            & ford f250                   \\\\\n",
       "\t27 & 10                           & 8                            & 307                          & 200                          & 4376                         & 15.0                         & 70                           & 1                            & chevy c20                   \\\\\n",
       "\t28 & 11                           & 8                            & 318                          & 210                          & 4382                         & 13.5                         & 70                           & 1                            & dodge d200                  \\\\\n",
       "\t29 &  9                           & 8                            & 304                          & 193                          & 4732                         & 18.5                         & 70                           & 1                            & hi 1200d                    \\\\\n",
       "\t30 & 27                           & 4                            &  97                          &  88                          & 2130                         & 14.5                         & 71                           & 3                            & datsun pl510                \\\\\n",
       "\t⋮ & ⋮ & ⋮ & ⋮ & ⋮ & ⋮ & ⋮ & ⋮ & ⋮ & ⋮\\\\\n",
       "\t368 & 28                                & 4                                 & 112                               &  88                               & 2605                              & 19.6                              & 82                                & 1                                 & chevrolet cavalier               \\\\\n",
       "\t369 & 27                                & 4                                 & 112                               &  88                               & 2640                              & 18.6                              & 82                                & 1                                 & chevrolet cavalier wagon         \\\\\n",
       "\t370 & 34                                & 4                                 & 112                               &  88                               & 2395                              & 18.0                              & 82                                & 1                                 & chevrolet cavalier 2-door        \\\\\n",
       "\t371 & 31                                & 4                                 & 112                               &  85                               & 2575                              & 16.2                              & 82                                & 1                                 & pontiac j2000 se hatchback       \\\\\n",
       "\t372 & 29                                & 4                                 & 135                               &  84                               & 2525                              & 16.0                              & 82                                & 1                                 & dodge aries se                   \\\\\n",
       "\t373 & 27                                & 4                                 & 151                               &  90                               & 2735                              & 18.0                              & 82                                & 1                                 & pontiac phoenix                  \\\\\n",
       "\t374 & 24                                & 4                                 & 140                               &  92                               & 2865                              & 16.4                              & 82                                & 1                                 & ford fairmont futura             \\\\\n",
       "\t375 & 36                                & 4                                 & 105                               &  74                               & 1980                              & 15.3                              & 82                                & 2                                 & volkswagen rabbit l              \\\\\n",
       "\t376 & 37                                & 4                                 &  91                               &  68                               & 2025                              & 18.2                              & 82                                & 3                                 & mazda glc custom l               \\\\\n",
       "\t377 & 31                                & 4                                 &  91                               &  68                               & 1970                              & 17.6                              & 82                                & 3                                 & mazda glc custom                 \\\\\n",
       "\t378 & 38                                & 4                                 & 105                               &  63                               & 2125                              & 14.7                              & 82                                & 1                                 & plymouth horizon miser           \\\\\n",
       "\t379 & 36                                & 4                                 &  98                               &  70                               & 2125                              & 17.3                              & 82                                & 1                                 & mercury lynx l                   \\\\\n",
       "\t380 & 36                                & 4                                 & 120                               &  88                               & 2160                              & 14.5                              & 82                                & 3                                 & nissan stanza xe                 \\\\\n",
       "\t381 & 36                                & 4                                 & 107                               &  75                               & 2205                              & 14.5                              & 82                                & 3                                 & honda accord                     \\\\\n",
       "\t382 & 34                                & 4                                 & 108                               &  70                               & 2245                              & 16.9                              & 82                                & 3                                 & toyota corolla                   \\\\\n",
       "\t383 & 38                                & 4                                 &  91                               &  67                               & 1965                              & 15.0                              & 82                                & 3                                 & honda civic                      \\\\\n",
       "\t384 & 32                                & 4                                 &  91                               &  67                               & 1965                              & 15.7                              & 82                                & 3                                 & honda civic (auto)               \\\\\n",
       "\t385 & 38                                & 4                                 &  91                               &  67                               & 1995                              & 16.2                              & 82                                & 3                                 & datsun 310 gx                    \\\\\n",
       "\t386 & 25                                & 6                                 & 181                               & 110                               & 2945                              & 16.4                              & 82                                & 1                                 & buick century limited            \\\\\n",
       "\t387 & 38                                & 6                                 & 262                               &  85                               & 3015                              & 17.0                              & 82                                & 1                                 & oldsmobile cutlass ciera (diesel)\\\\\n",
       "\t388 & 26                                & 4                                 & 156                               &  92                               & 2585                              & 14.5                              & 82                                & 1                                 & chrysler lebaron medallion       \\\\\n",
       "\t389 & 22                                & 6                                 & 232                               & 112                               & 2835                              & 14.7                              & 82                                & 1                                 & ford granada l                   \\\\\n",
       "\t390 & 32                                & 4                                 & 144                               &  96                               & 2665                              & 13.9                              & 82                                & 3                                 & toyota celica gt                 \\\\\n",
       "\t391 & 36                                & 4                                 & 135                               &  84                               & 2370                              & 13.0                              & 82                                & 1                                 & dodge charger 2.2                \\\\\n",
       "\t392 & 27                                & 4                                 & 151                               &  90                               & 2950                              & 17.3                              & 82                                & 1                                 & chevrolet camaro                 \\\\\n",
       "\t393 & 27                                & 4                                 & 140                               &  86                               & 2790                              & 15.6                              & 82                                & 1                                 & ford mustang gl                  \\\\\n",
       "\t394 & 44                                & 4                                 &  97                               &  52                               & 2130                              & 24.6                              & 82                                & 2                                 & vw pickup                        \\\\\n",
       "\t395 & 32                                & 4                                 & 135                               &  84                               & 2295                              & 11.6                              & 82                                & 1                                 & dodge rampage                    \\\\\n",
       "\t396 & 28                                & 4                                 & 120                               &  79                               & 2625                              & 18.6                              & 82                                & 1                                 & ford ranger                      \\\\\n",
       "\t397 & 31                                & 4                                 & 119                               &  82                               & 2720                              & 19.4                              & 82                                & 1                                 & chevy s-10                       \\\\\n",
       "\\end{tabular}\n"
      ],
      "text/markdown": [
       "\n",
       "| <!--/--> | mpg | cylinders | displacement | horsepower | weight | acceleration | year | origin | name | \n",
       "|---|---|---|---|---|---|---|---|---|---|---|---|---|---|---|---|---|---|---|---|---|---|---|---|---|---|---|---|---|---|---|---|---|---|---|---|---|---|---|---|---|---|---|---|---|---|---|---|---|---|---|---|---|---|---|---|---|---|---|---|---|\n",
       "| 1 | 18                           | 8                            | 307                          | 130                          | 3504                         | 12.0                         | 70                           | 1                            | chevrolet chevelle malibu    | \n",
       "| 2 | 15                           | 8                            | 350                          | 165                          | 3693                         | 11.5                         | 70                           | 1                            | buick skylark 320            | \n",
       "| 3 | 18                           | 8                            | 318                          | 150                          | 3436                         | 11.0                         | 70                           | 1                            | plymouth satellite           | \n",
       "| 4 | 16                           | 8                            | 304                          | 150                          | 3433                         | 12.0                         | 70                           | 1                            | amc rebel sst                | \n",
       "| 5 | 17                           | 8                            | 302                          | 140                          | 3449                         | 10.5                         | 70                           | 1                            | ford torino                  | \n",
       "| 6 | 15                           | 8                            | 429                          | 198                          | 4341                         | 10.0                         | 70                           | 1                            | ford galaxie 500             | \n",
       "| 7 | 14                           | 8                            | 454                          | 220                          | 4354                         |  9.0                         | 70                           | 1                            | chevrolet impala             | \n",
       "| 8 | 14                           | 8                            | 440                          | 215                          | 4312                         |  8.5                         | 70                           | 1                            | plymouth fury iii            | \n",
       "| 9 | 14                           | 8                            | 455                          | 225                          | 4425                         | 10.0                         | 70                           | 1                            | pontiac catalina             | \n",
       "| 10 | 15                           | 8                            | 390                          | 190                          | 3850                         |  8.5                         | 70                           | 1                            | amc ambassador dpl           | \n",
       "| 11 | 15                           | 8                            | 383                          | 170                          | 3563                         | 10.0                         | 70                           | 1                            | dodge challenger se          | \n",
       "| 12 | 14                           | 8                            | 340                          | 160                          | 3609                         |  8.0                         | 70                           | 1                            | plymouth 'cuda 340           | \n",
       "| 13 | 15                           | 8                            | 400                          | 150                          | 3761                         |  9.5                         | 70                           | 1                            | chevrolet monte carlo        | \n",
       "| 14 | 14                           | 8                            | 455                          | 225                          | 3086                         | 10.0                         | 70                           | 1                            | buick estate wagon (sw)      | \n",
       "| 15 | 24                           | 4                            | 113                          |  95                          | 2372                         | 15.0                         | 70                           | 3                            | toyota corona mark ii        | \n",
       "| 16 | 22                           | 6                            | 198                          |  95                          | 2833                         | 15.5                         | 70                           | 1                            | plymouth duster              | \n",
       "| 17 | 18                           | 6                            | 199                          |  97                          | 2774                         | 15.5                         | 70                           | 1                            | amc hornet                   | \n",
       "| 18 | 21                           | 6                            | 200                          |  85                          | 2587                         | 16.0                         | 70                           | 1                            | ford maverick                | \n",
       "| 19 | 27                           | 4                            |  97                          |  88                          | 2130                         | 14.5                         | 70                           | 3                            | datsun pl510                 | \n",
       "| 20 | 26                           | 4                            |  97                          |  46                          | 1835                         | 20.5                         | 70                           | 2                            | volkswagen 1131 deluxe sedan | \n",
       "| 21 | 25                           | 4                            | 110                          |  87                          | 2672                         | 17.5                         | 70                           | 2                            | peugeot 504                  | \n",
       "| 22 | 24                           | 4                            | 107                          |  90                          | 2430                         | 14.5                         | 70                           | 2                            | audi 100 ls                  | \n",
       "| 23 | 25                           | 4                            | 104                          |  95                          | 2375                         | 17.5                         | 70                           | 2                            | saab 99e                     | \n",
       "| 24 | 26                           | 4                            | 121                          | 113                          | 2234                         | 12.5                         | 70                           | 2                            | bmw 2002                     | \n",
       "| 25 | 21                           | 6                            | 199                          |  90                          | 2648                         | 15.0                         | 70                           | 1                            | amc gremlin                  | \n",
       "| 26 | 10                           | 8                            | 360                          | 215                          | 4615                         | 14.0                         | 70                           | 1                            | ford f250                    | \n",
       "| 27 | 10                           | 8                            | 307                          | 200                          | 4376                         | 15.0                         | 70                           | 1                            | chevy c20                    | \n",
       "| 28 | 11                           | 8                            | 318                          | 210                          | 4382                         | 13.5                         | 70                           | 1                            | dodge d200                   | \n",
       "| 29 |  9                           | 8                            | 304                          | 193                          | 4732                         | 18.5                         | 70                           | 1                            | hi 1200d                     | \n",
       "| 30 | 27                           | 4                            |  97                          |  88                          | 2130                         | 14.5                         | 71                           | 3                            | datsun pl510                 | \n",
       "| ⋮ | ⋮ | ⋮ | ⋮ | ⋮ | ⋮ | ⋮ | ⋮ | ⋮ | ⋮ | \n",
       "| 368 | 28                                | 4                                 | 112                               |  88                               | 2605                              | 19.6                              | 82                                | 1                                 | chevrolet cavalier                | \n",
       "| 369 | 27                                | 4                                 | 112                               |  88                               | 2640                              | 18.6                              | 82                                | 1                                 | chevrolet cavalier wagon          | \n",
       "| 370 | 34                                | 4                                 | 112                               |  88                               | 2395                              | 18.0                              | 82                                | 1                                 | chevrolet cavalier 2-door         | \n",
       "| 371 | 31                                | 4                                 | 112                               |  85                               | 2575                              | 16.2                              | 82                                | 1                                 | pontiac j2000 se hatchback        | \n",
       "| 372 | 29                                | 4                                 | 135                               |  84                               | 2525                              | 16.0                              | 82                                | 1                                 | dodge aries se                    | \n",
       "| 373 | 27                                | 4                                 | 151                               |  90                               | 2735                              | 18.0                              | 82                                | 1                                 | pontiac phoenix                   | \n",
       "| 374 | 24                                | 4                                 | 140                               |  92                               | 2865                              | 16.4                              | 82                                | 1                                 | ford fairmont futura              | \n",
       "| 375 | 36                                | 4                                 | 105                               |  74                               | 1980                              | 15.3                              | 82                                | 2                                 | volkswagen rabbit l               | \n",
       "| 376 | 37                                | 4                                 |  91                               |  68                               | 2025                              | 18.2                              | 82                                | 3                                 | mazda glc custom l                | \n",
       "| 377 | 31                                | 4                                 |  91                               |  68                               | 1970                              | 17.6                              | 82                                | 3                                 | mazda glc custom                  | \n",
       "| 378 | 38                                | 4                                 | 105                               |  63                               | 2125                              | 14.7                              | 82                                | 1                                 | plymouth horizon miser            | \n",
       "| 379 | 36                                | 4                                 |  98                               |  70                               | 2125                              | 17.3                              | 82                                | 1                                 | mercury lynx l                    | \n",
       "| 380 | 36                                | 4                                 | 120                               |  88                               | 2160                              | 14.5                              | 82                                | 3                                 | nissan stanza xe                  | \n",
       "| 381 | 36                                | 4                                 | 107                               |  75                               | 2205                              | 14.5                              | 82                                | 3                                 | honda accord                      | \n",
       "| 382 | 34                                | 4                                 | 108                               |  70                               | 2245                              | 16.9                              | 82                                | 3                                 | toyota corolla                    | \n",
       "| 383 | 38                                | 4                                 |  91                               |  67                               | 1965                              | 15.0                              | 82                                | 3                                 | honda civic                       | \n",
       "| 384 | 32                                | 4                                 |  91                               |  67                               | 1965                              | 15.7                              | 82                                | 3                                 | honda civic (auto)                | \n",
       "| 385 | 38                                | 4                                 |  91                               |  67                               | 1995                              | 16.2                              | 82                                | 3                                 | datsun 310 gx                     | \n",
       "| 386 | 25                                | 6                                 | 181                               | 110                               | 2945                              | 16.4                              | 82                                | 1                                 | buick century limited             | \n",
       "| 387 | 38                                | 6                                 | 262                               |  85                               | 3015                              | 17.0                              | 82                                | 1                                 | oldsmobile cutlass ciera (diesel) | \n",
       "| 388 | 26                                | 4                                 | 156                               |  92                               | 2585                              | 14.5                              | 82                                | 1                                 | chrysler lebaron medallion        | \n",
       "| 389 | 22                                | 6                                 | 232                               | 112                               | 2835                              | 14.7                              | 82                                | 1                                 | ford granada l                    | \n",
       "| 390 | 32                                | 4                                 | 144                               |  96                               | 2665                              | 13.9                              | 82                                | 3                                 | toyota celica gt                  | \n",
       "| 391 | 36                                | 4                                 | 135                               |  84                               | 2370                              | 13.0                              | 82                                | 1                                 | dodge charger 2.2                 | \n",
       "| 392 | 27                                | 4                                 | 151                               |  90                               | 2950                              | 17.3                              | 82                                | 1                                 | chevrolet camaro                  | \n",
       "| 393 | 27                                | 4                                 | 140                               |  86                               | 2790                              | 15.6                              | 82                                | 1                                 | ford mustang gl                   | \n",
       "| 394 | 44                                | 4                                 |  97                               |  52                               | 2130                              | 24.6                              | 82                                | 2                                 | vw pickup                         | \n",
       "| 395 | 32                                | 4                                 | 135                               |  84                               | 2295                              | 11.6                              | 82                                | 1                                 | dodge rampage                     | \n",
       "| 396 | 28                                | 4                                 | 120                               |  79                               | 2625                              | 18.6                              | 82                                | 1                                 | ford ranger                       | \n",
       "| 397 | 31                                | 4                                 | 119                               |  82                               | 2720                              | 19.4                              | 82                                | 1                                 | chevy s-10                        | \n",
       "\n",
       "\n"
      ],
      "text/plain": [
       "    mpg cylinders displacement horsepower weight acceleration year origin\n",
       "1   18  8         307          130        3504   12.0         70   1     \n",
       "2   15  8         350          165        3693   11.5         70   1     \n",
       "3   18  8         318          150        3436   11.0         70   1     \n",
       "4   16  8         304          150        3433   12.0         70   1     \n",
       "5   17  8         302          140        3449   10.5         70   1     \n",
       "6   15  8         429          198        4341   10.0         70   1     \n",
       "7   14  8         454          220        4354    9.0         70   1     \n",
       "8   14  8         440          215        4312    8.5         70   1     \n",
       "9   14  8         455          225        4425   10.0         70   1     \n",
       "10  15  8         390          190        3850    8.5         70   1     \n",
       "11  15  8         383          170        3563   10.0         70   1     \n",
       "12  14  8         340          160        3609    8.0         70   1     \n",
       "13  15  8         400          150        3761    9.5         70   1     \n",
       "14  14  8         455          225        3086   10.0         70   1     \n",
       "15  24  4         113           95        2372   15.0         70   3     \n",
       "16  22  6         198           95        2833   15.5         70   1     \n",
       "17  18  6         199           97        2774   15.5         70   1     \n",
       "18  21  6         200           85        2587   16.0         70   1     \n",
       "19  27  4          97           88        2130   14.5         70   3     \n",
       "20  26  4          97           46        1835   20.5         70   2     \n",
       "21  25  4         110           87        2672   17.5         70   2     \n",
       "22  24  4         107           90        2430   14.5         70   2     \n",
       "23  25  4         104           95        2375   17.5         70   2     \n",
       "24  26  4         121          113        2234   12.5         70   2     \n",
       "25  21  6         199           90        2648   15.0         70   1     \n",
       "26  10  8         360          215        4615   14.0         70   1     \n",
       "27  10  8         307          200        4376   15.0         70   1     \n",
       "28  11  8         318          210        4382   13.5         70   1     \n",
       "29   9  8         304          193        4732   18.5         70   1     \n",
       "30  27  4          97           88        2130   14.5         71   3     \n",
       "⋮   ⋮   ⋮         ⋮            ⋮          ⋮      ⋮            ⋮    ⋮     \n",
       "368 28  4         112           88        2605   19.6         82   1     \n",
       "369 27  4         112           88        2640   18.6         82   1     \n",
       "370 34  4         112           88        2395   18.0         82   1     \n",
       "371 31  4         112           85        2575   16.2         82   1     \n",
       "372 29  4         135           84        2525   16.0         82   1     \n",
       "373 27  4         151           90        2735   18.0         82   1     \n",
       "374 24  4         140           92        2865   16.4         82   1     \n",
       "375 36  4         105           74        1980   15.3         82   2     \n",
       "376 37  4          91           68        2025   18.2         82   3     \n",
       "377 31  4          91           68        1970   17.6         82   3     \n",
       "378 38  4         105           63        2125   14.7         82   1     \n",
       "379 36  4          98           70        2125   17.3         82   1     \n",
       "380 36  4         120           88        2160   14.5         82   3     \n",
       "381 36  4         107           75        2205   14.5         82   3     \n",
       "382 34  4         108           70        2245   16.9         82   3     \n",
       "383 38  4          91           67        1965   15.0         82   3     \n",
       "384 32  4          91           67        1965   15.7         82   3     \n",
       "385 38  4          91           67        1995   16.2         82   3     \n",
       "386 25  6         181          110        2945   16.4         82   1     \n",
       "387 38  6         262           85        3015   17.0         82   1     \n",
       "388 26  4         156           92        2585   14.5         82   1     \n",
       "389 22  6         232          112        2835   14.7         82   1     \n",
       "390 32  4         144           96        2665   13.9         82   3     \n",
       "391 36  4         135           84        2370   13.0         82   1     \n",
       "392 27  4         151           90        2950   17.3         82   1     \n",
       "393 27  4         140           86        2790   15.6         82   1     \n",
       "394 44  4          97           52        2130   24.6         82   2     \n",
       "395 32  4         135           84        2295   11.6         82   1     \n",
       "396 28  4         120           79        2625   18.6         82   1     \n",
       "397 31  4         119           82        2720   19.4         82   1     \n",
       "    name                             \n",
       "1   chevrolet chevelle malibu        \n",
       "2   buick skylark 320                \n",
       "3   plymouth satellite               \n",
       "4   amc rebel sst                    \n",
       "5   ford torino                      \n",
       "6   ford galaxie 500                 \n",
       "7   chevrolet impala                 \n",
       "8   plymouth fury iii                \n",
       "9   pontiac catalina                 \n",
       "10  amc ambassador dpl               \n",
       "11  dodge challenger se              \n",
       "12  plymouth 'cuda 340               \n",
       "13  chevrolet monte carlo            \n",
       "14  buick estate wagon (sw)          \n",
       "15  toyota corona mark ii            \n",
       "16  plymouth duster                  \n",
       "17  amc hornet                       \n",
       "18  ford maverick                    \n",
       "19  datsun pl510                     \n",
       "20  volkswagen 1131 deluxe sedan     \n",
       "21  peugeot 504                      \n",
       "22  audi 100 ls                      \n",
       "23  saab 99e                         \n",
       "24  bmw 2002                         \n",
       "25  amc gremlin                      \n",
       "26  ford f250                        \n",
       "27  chevy c20                        \n",
       "28  dodge d200                       \n",
       "29  hi 1200d                         \n",
       "30  datsun pl510                     \n",
       "⋮   ⋮                                \n",
       "368 chevrolet cavalier               \n",
       "369 chevrolet cavalier wagon         \n",
       "370 chevrolet cavalier 2-door        \n",
       "371 pontiac j2000 se hatchback       \n",
       "372 dodge aries se                   \n",
       "373 pontiac phoenix                  \n",
       "374 ford fairmont futura             \n",
       "375 volkswagen rabbit l              \n",
       "376 mazda glc custom l               \n",
       "377 mazda glc custom                 \n",
       "378 plymouth horizon miser           \n",
       "379 mercury lynx l                   \n",
       "380 nissan stanza xe                 \n",
       "381 honda accord                     \n",
       "382 toyota corolla                   \n",
       "383 honda civic                      \n",
       "384 honda civic (auto)               \n",
       "385 datsun 310 gx                    \n",
       "386 buick century limited            \n",
       "387 oldsmobile cutlass ciera (diesel)\n",
       "388 chrysler lebaron medallion       \n",
       "389 ford granada l                   \n",
       "390 toyota celica gt                 \n",
       "391 dodge charger 2.2                \n",
       "392 chevrolet camaro                 \n",
       "393 ford mustang gl                  \n",
       "394 vw pickup                        \n",
       "395 dodge rampage                    \n",
       "396 ford ranger                      \n",
       "397 chevy s-10                       "
      ]
     },
     "metadata": {},
     "output_type": "display_data"
    }
   ],
   "source": [
    "Auto"
   ]
  },
  {
   "cell_type": "code",
   "execution_count": 78,
   "metadata": {},
   "outputs": [
    {
     "data": {
      "text/html": [
       "<ol class=list-inline>\n",
       "\t<li>'mpg'</li>\n",
       "\t<li>'cylinders'</li>\n",
       "\t<li>'displacement'</li>\n",
       "\t<li>'horsepower'</li>\n",
       "\t<li>'weight'</li>\n",
       "\t<li>'acceleration'</li>\n",
       "\t<li>'year'</li>\n",
       "\t<li>'origin'</li>\n",
       "\t<li>'name'</li>\n",
       "</ol>\n"
      ],
      "text/latex": [
       "\\begin{enumerate*}\n",
       "\\item 'mpg'\n",
       "\\item 'cylinders'\n",
       "\\item 'displacement'\n",
       "\\item 'horsepower'\n",
       "\\item 'weight'\n",
       "\\item 'acceleration'\n",
       "\\item 'year'\n",
       "\\item 'origin'\n",
       "\\item 'name'\n",
       "\\end{enumerate*}\n"
      ],
      "text/markdown": [
       "1. 'mpg'\n",
       "2. 'cylinders'\n",
       "3. 'displacement'\n",
       "4. 'horsepower'\n",
       "5. 'weight'\n",
       "6. 'acceleration'\n",
       "7. 'year'\n",
       "8. 'origin'\n",
       "9. 'name'\n",
       "\n",
       "\n"
      ],
      "text/plain": [
       "[1] \"mpg\"          \"cylinders\"    \"displacement\" \"horsepower\"   \"weight\"      \n",
       "[6] \"acceleration\" \"year\"         \"origin\"       \"name\"        "
      ]
     },
     "metadata": {},
     "output_type": "display_data"
    }
   ],
   "source": [
    "names(Auto)"
   ]
  },
  {
   "cell_type": "code",
   "execution_count": 79,
   "metadata": {},
   "outputs": [
    {
     "data": {
      "text/html": [
       "<ol class=list-inline>\n",
       "\t<li>9</li>\n",
       "\t<li>46.6</li>\n",
       "</ol>\n"
      ],
      "text/latex": [
       "\\begin{enumerate*}\n",
       "\\item 9\n",
       "\\item 46.6\n",
       "\\end{enumerate*}\n"
      ],
      "text/markdown": [
       "1. 9\n",
       "2. 46.6\n",
       "\n",
       "\n"
      ],
      "text/plain": [
       "[1]  9.0 46.6"
      ]
     },
     "metadata": {},
     "output_type": "display_data"
    },
    {
     "data": {
      "text/html": [
       "<ol class=list-inline>\n",
       "\t<li>3</li>\n",
       "\t<li>8</li>\n",
       "</ol>\n"
      ],
      "text/latex": [
       "\\begin{enumerate*}\n",
       "\\item 3\n",
       "\\item 8\n",
       "\\end{enumerate*}\n"
      ],
      "text/markdown": [
       "1. 3\n",
       "2. 8\n",
       "\n",
       "\n"
      ],
      "text/plain": [
       "[1] 3 8"
      ]
     },
     "metadata": {},
     "output_type": "display_data"
    },
    {
     "data": {
      "text/html": [
       "<ol class=list-inline>\n",
       "\t<li>68</li>\n",
       "\t<li>455</li>\n",
       "</ol>\n"
      ],
      "text/latex": [
       "\\begin{enumerate*}\n",
       "\\item 68\n",
       "\\item 455\n",
       "\\end{enumerate*}\n"
      ],
      "text/markdown": [
       "1. 68\n",
       "2. 455\n",
       "\n",
       "\n"
      ],
      "text/plain": [
       "[1]  68 455"
      ]
     },
     "metadata": {},
     "output_type": "display_data"
    },
    {
     "data": {
      "text/html": [
       "<ol class=list-inline>\n",
       "\t<li>46</li>\n",
       "\t<li>230</li>\n",
       "</ol>\n"
      ],
      "text/latex": [
       "\\begin{enumerate*}\n",
       "\\item 46\n",
       "\\item 230\n",
       "\\end{enumerate*}\n"
      ],
      "text/markdown": [
       "1. 46\n",
       "2. 230\n",
       "\n",
       "\n"
      ],
      "text/plain": [
       "[1]  46 230"
      ]
     },
     "metadata": {},
     "output_type": "display_data"
    },
    {
     "data": {
      "text/html": [
       "<ol class=list-inline>\n",
       "\t<li>1613</li>\n",
       "\t<li>5140</li>\n",
       "</ol>\n"
      ],
      "text/latex": [
       "\\begin{enumerate*}\n",
       "\\item 1613\n",
       "\\item 5140\n",
       "\\end{enumerate*}\n"
      ],
      "text/markdown": [
       "1. 1613\n",
       "2. 5140\n",
       "\n",
       "\n"
      ],
      "text/plain": [
       "[1] 1613 5140"
      ]
     },
     "metadata": {},
     "output_type": "display_data"
    },
    {
     "data": {
      "text/html": [
       "<ol class=list-inline>\n",
       "\t<li>8</li>\n",
       "\t<li>24.8</li>\n",
       "</ol>\n"
      ],
      "text/latex": [
       "\\begin{enumerate*}\n",
       "\\item 8\n",
       "\\item 24.8\n",
       "\\end{enumerate*}\n"
      ],
      "text/markdown": [
       "1. 8\n",
       "2. 24.8\n",
       "\n",
       "\n"
      ],
      "text/plain": [
       "[1]  8.0 24.8"
      ]
     },
     "metadata": {},
     "output_type": "display_data"
    },
    {
     "data": {
      "text/html": [
       "<ol class=list-inline>\n",
       "\t<li>70</li>\n",
       "\t<li>82</li>\n",
       "</ol>\n"
      ],
      "text/latex": [
       "\\begin{enumerate*}\n",
       "\\item 70\n",
       "\\item 82\n",
       "\\end{enumerate*}\n"
      ],
      "text/markdown": [
       "1. 70\n",
       "2. 82\n",
       "\n",
       "\n"
      ],
      "text/plain": [
       "[1] 70 82"
      ]
     },
     "metadata": {},
     "output_type": "display_data"
    },
    {
     "data": {
      "text/html": [
       "<ol class=list-inline>\n",
       "\t<li>1</li>\n",
       "\t<li>3</li>\n",
       "</ol>\n"
      ],
      "text/latex": [
       "\\begin{enumerate*}\n",
       "\\item 1\n",
       "\\item 3\n",
       "\\end{enumerate*}\n"
      ],
      "text/markdown": [
       "1. 1\n",
       "2. 3\n",
       "\n",
       "\n"
      ],
      "text/plain": [
       "[1] 1 3"
      ]
     },
     "metadata": {},
     "output_type": "display_data"
    }
   ],
   "source": [
    "range(Auto$mpg)\n",
    "range(Auto$cylinders)\n",
    "range(Auto$displacement)\n",
    "range(Auto$horsepower)\n",
    "range(Auto$weight)\n",
    "range(Auto$acceleration)\n",
    "range(Auto$year)\n",
    "range(Auto$origin)\n",
    "# range(Auto$name)"
   ]
  },
  {
   "cell_type": "code",
   "execution_count": 80,
   "metadata": {},
   "outputs": [
    {
     "data": {
      "text/html": [
       "23.4459183673469"
      ],
      "text/latex": [
       "23.4459183673469"
      ],
      "text/markdown": [
       "23.4459183673469"
      ],
      "text/plain": [
       "[1] 23.44592"
      ]
     },
     "metadata": {},
     "output_type": "display_data"
    },
    {
     "data": {
      "text/html": [
       "5.4719387755102"
      ],
      "text/latex": [
       "5.4719387755102"
      ],
      "text/markdown": [
       "5.4719387755102"
      ],
      "text/plain": [
       "[1] 5.471939"
      ]
     },
     "metadata": {},
     "output_type": "display_data"
    },
    {
     "data": {
      "text/html": [
       "194.411989795918"
      ],
      "text/latex": [
       "194.411989795918"
      ],
      "text/markdown": [
       "194.411989795918"
      ],
      "text/plain": [
       "[1] 194.412"
      ]
     },
     "metadata": {},
     "output_type": "display_data"
    },
    {
     "data": {
      "text/html": [
       "104.469387755102"
      ],
      "text/latex": [
       "104.469387755102"
      ],
      "text/markdown": [
       "104.469387755102"
      ],
      "text/plain": [
       "[1] 104.4694"
      ]
     },
     "metadata": {},
     "output_type": "display_data"
    },
    {
     "data": {
      "text/html": [
       "2977.58418367347"
      ],
      "text/latex": [
       "2977.58418367347"
      ],
      "text/markdown": [
       "2977.58418367347"
      ],
      "text/plain": [
       "[1] 2977.584"
      ]
     },
     "metadata": {},
     "output_type": "display_data"
    },
    {
     "data": {
      "text/html": [
       "15.5413265306122"
      ],
      "text/latex": [
       "15.5413265306122"
      ],
      "text/markdown": [
       "15.5413265306122"
      ],
      "text/plain": [
       "[1] 15.54133"
      ]
     },
     "metadata": {},
     "output_type": "display_data"
    },
    {
     "data": {
      "text/html": [
       "75.9795918367347"
      ],
      "text/latex": [
       "75.9795918367347"
      ],
      "text/markdown": [
       "75.9795918367347"
      ],
      "text/plain": [
       "[1] 75.97959"
      ]
     },
     "metadata": {},
     "output_type": "display_data"
    },
    {
     "data": {
      "text/html": [
       "1.5765306122449"
      ],
      "text/latex": [
       "1.5765306122449"
      ],
      "text/markdown": [
       "1.5765306122449"
      ],
      "text/plain": [
       "[1] 1.576531"
      ]
     },
     "metadata": {},
     "output_type": "display_data"
    }
   ],
   "source": [
    "mean(Auto$mpg)\n",
    "mean(Auto$cylinders)\n",
    "mean(Auto$displacement)\n",
    "mean(Auto$horsepower)\n",
    "mean(Auto$weight)\n",
    "mean(Auto$acceleration)\n",
    "mean(Auto$year)\n",
    "mean(Auto$origin)\n",
    "# mean(Auto$name)"
   ]
  },
  {
   "cell_type": "code",
   "execution_count": 81,
   "metadata": {},
   "outputs": [
    {
     "data": {
      "text/html": [
       "7.8050074865718"
      ],
      "text/latex": [
       "7.8050074865718"
      ],
      "text/markdown": [
       "7.8050074865718"
      ],
      "text/plain": [
       "[1] 7.805007"
      ]
     },
     "metadata": {},
     "output_type": "display_data"
    },
    {
     "data": {
      "text/html": [
       "1.70578324745278"
      ],
      "text/latex": [
       "1.70578324745278"
      ],
      "text/markdown": [
       "1.70578324745278"
      ],
      "text/plain": [
       "[1] 1.705783"
      ]
     },
     "metadata": {},
     "output_type": "display_data"
    },
    {
     "data": {
      "text/html": [
       "104.644003908905"
      ],
      "text/latex": [
       "104.644003908905"
      ],
      "text/markdown": [
       "104.644003908905"
      ],
      "text/plain": [
       "[1] 104.644"
      ]
     },
     "metadata": {},
     "output_type": "display_data"
    },
    {
     "data": {
      "text/html": [
       "38.4911599328285"
      ],
      "text/latex": [
       "38.4911599328285"
      ],
      "text/markdown": [
       "38.4911599328285"
      ],
      "text/plain": [
       "[1] 38.49116"
      ]
     },
     "metadata": {},
     "output_type": "display_data"
    },
    {
     "data": {
      "text/html": [
       "849.402560042949"
      ],
      "text/latex": [
       "849.402560042949"
      ],
      "text/markdown": [
       "849.402560042949"
      ],
      "text/plain": [
       "[1] 849.4026"
      ]
     },
     "metadata": {},
     "output_type": "display_data"
    },
    {
     "data": {
      "text/html": [
       "2.75886411918808"
      ],
      "text/latex": [
       "2.75886411918808"
      ],
      "text/markdown": [
       "2.75886411918808"
      ],
      "text/plain": [
       "[1] 2.758864"
      ]
     },
     "metadata": {},
     "output_type": "display_data"
    },
    {
     "data": {
      "text/html": [
       "3.68373654357783"
      ],
      "text/latex": [
       "3.68373654357783"
      ],
      "text/markdown": [
       "3.68373654357783"
      ],
      "text/plain": [
       "[1] 3.683737"
      ]
     },
     "metadata": {},
     "output_type": "display_data"
    },
    {
     "data": {
      "text/html": [
       "0.805518183418306"
      ],
      "text/latex": [
       "0.805518183418306"
      ],
      "text/markdown": [
       "0.805518183418306"
      ],
      "text/plain": [
       "[1] 0.8055182"
      ]
     },
     "metadata": {},
     "output_type": "display_data"
    }
   ],
   "source": [
    "sd(Auto$mpg)\n",
    "sd(Auto$cylinders)\n",
    "sd(Auto$displacement)\n",
    "sd(Auto$horsepower)\n",
    "sd(Auto$weight)\n",
    "sd(Auto$acceleration)\n",
    "sd(Auto$year)\n",
    "sd(Auto$origin)\n",
    "# sd(Auto$name)"
   ]
  },
  {
   "cell_type": "code",
   "execution_count": 94,
   "metadata": {},
   "outputs": [],
   "source": [
    "Auto = Auto[-c(10:85),]"
   ]
  },
  {
   "cell_type": "code",
   "execution_count": 95,
   "metadata": {},
   "outputs": [
    {
     "data": {
      "text/html": [
       "<ol class=list-inline>\n",
       "\t<li>11</li>\n",
       "\t<li>46.6</li>\n",
       "</ol>\n"
      ],
      "text/latex": [
       "\\begin{enumerate*}\n",
       "\\item 11\n",
       "\\item 46.6\n",
       "\\end{enumerate*}\n"
      ],
      "text/markdown": [
       "1. 11\n",
       "2. 46.6\n",
       "\n",
       "\n"
      ],
      "text/plain": [
       "[1] 11.0 46.6"
      ]
     },
     "metadata": {},
     "output_type": "display_data"
    },
    {
     "data": {
      "text/html": [
       "<ol class=list-inline>\n",
       "\t<li>3</li>\n",
       "\t<li>8</li>\n",
       "</ol>\n"
      ],
      "text/latex": [
       "\\begin{enumerate*}\n",
       "\\item 3\n",
       "\\item 8\n",
       "\\end{enumerate*}\n"
      ],
      "text/markdown": [
       "1. 3\n",
       "2. 8\n",
       "\n",
       "\n"
      ],
      "text/plain": [
       "[1] 3 8"
      ]
     },
     "metadata": {},
     "output_type": "display_data"
    },
    {
     "data": {
      "text/html": [
       "<ol class=list-inline>\n",
       "\t<li>68</li>\n",
       "\t<li>455</li>\n",
       "</ol>\n"
      ],
      "text/latex": [
       "\\begin{enumerate*}\n",
       "\\item 68\n",
       "\\item 455\n",
       "\\end{enumerate*}\n"
      ],
      "text/markdown": [
       "1. 68\n",
       "2. 455\n",
       "\n",
       "\n"
      ],
      "text/plain": [
       "[1]  68 455"
      ]
     },
     "metadata": {},
     "output_type": "display_data"
    },
    {
     "data": {
      "text/html": [
       "<ol class=list-inline>\n",
       "\t<li>46</li>\n",
       "\t<li>230</li>\n",
       "</ol>\n"
      ],
      "text/latex": [
       "\\begin{enumerate*}\n",
       "\\item 46\n",
       "\\item 230\n",
       "\\end{enumerate*}\n"
      ],
      "text/markdown": [
       "1. 46\n",
       "2. 230\n",
       "\n",
       "\n"
      ],
      "text/plain": [
       "[1]  46 230"
      ]
     },
     "metadata": {},
     "output_type": "display_data"
    },
    {
     "data": {
      "text/html": [
       "<ol class=list-inline>\n",
       "\t<li>1649</li>\n",
       "\t<li>4997</li>\n",
       "</ol>\n"
      ],
      "text/latex": [
       "\\begin{enumerate*}\n",
       "\\item 1649\n",
       "\\item 4997\n",
       "\\end{enumerate*}\n"
      ],
      "text/markdown": [
       "1. 1649\n",
       "2. 4997\n",
       "\n",
       "\n"
      ],
      "text/plain": [
       "[1] 1649 4997"
      ]
     },
     "metadata": {},
     "output_type": "display_data"
    },
    {
     "data": {
      "text/html": [
       "<ol class=list-inline>\n",
       "\t<li>8.5</li>\n",
       "\t<li>24.8</li>\n",
       "</ol>\n"
      ],
      "text/latex": [
       "\\begin{enumerate*}\n",
       "\\item 8.5\n",
       "\\item 24.8\n",
       "\\end{enumerate*}\n"
      ],
      "text/markdown": [
       "1. 8.5\n",
       "2. 24.8\n",
       "\n",
       "\n"
      ],
      "text/plain": [
       "[1]  8.5 24.8"
      ]
     },
     "metadata": {},
     "output_type": "display_data"
    },
    {
     "data": {
      "text/html": [
       "<ol class=list-inline>\n",
       "\t<li>70</li>\n",
       "\t<li>82</li>\n",
       "</ol>\n"
      ],
      "text/latex": [
       "\\begin{enumerate*}\n",
       "\\item 70\n",
       "\\item 82\n",
       "\\end{enumerate*}\n"
      ],
      "text/markdown": [
       "1. 70\n",
       "2. 82\n",
       "\n",
       "\n"
      ],
      "text/plain": [
       "[1] 70 82"
      ]
     },
     "metadata": {},
     "output_type": "display_data"
    },
    {
     "data": {
      "text/html": [
       "<ol class=list-inline>\n",
       "\t<li>1</li>\n",
       "\t<li>3</li>\n",
       "</ol>\n"
      ],
      "text/latex": [
       "\\begin{enumerate*}\n",
       "\\item 1\n",
       "\\item 3\n",
       "\\end{enumerate*}\n"
      ],
      "text/markdown": [
       "1. 1\n",
       "2. 3\n",
       "\n",
       "\n"
      ],
      "text/plain": [
       "[1] 1 3"
      ]
     },
     "metadata": {},
     "output_type": "display_data"
    }
   ],
   "source": [
    "range(Auto$mpg)\n",
    "range(Auto$cylinders)\n",
    "range(Auto$displacement)\n",
    "range(Auto$horsepower)\n",
    "range(Auto$weight)\n",
    "range(Auto$acceleration)\n",
    "range(Auto$year)\n",
    "range(Auto$origin)\n",
    "# range(Auto$name)"
   ]
  },
  {
   "cell_type": "code",
   "execution_count": 96,
   "metadata": {},
   "outputs": [
    {
     "data": {
      "text/html": [
       "24.4044303797468"
      ],
      "text/latex": [
       "24.4044303797468"
      ],
      "text/markdown": [
       "24.4044303797468"
      ],
      "text/plain": [
       "[1] 24.40443"
      ]
     },
     "metadata": {},
     "output_type": "display_data"
    },
    {
     "data": {
      "text/html": [
       "5.37341772151899"
      ],
      "text/latex": [
       "5.37341772151899"
      ],
      "text/markdown": [
       "5.37341772151899"
      ],
      "text/plain": [
       "[1] 5.373418"
      ]
     },
     "metadata": {},
     "output_type": "display_data"
    },
    {
     "data": {
      "text/html": [
       "187.240506329114"
      ],
      "text/latex": [
       "187.240506329114"
      ],
      "text/markdown": [
       "187.240506329114"
      ],
      "text/plain": [
       "[1] 187.2405"
      ]
     },
     "metadata": {},
     "output_type": "display_data"
    },
    {
     "data": {
      "text/html": [
       "100.721518987342"
      ],
      "text/latex": [
       "100.721518987342"
      ],
      "text/markdown": [
       "100.721518987342"
      ],
      "text/plain": [
       "[1] 100.7215"
      ]
     },
     "metadata": {},
     "output_type": "display_data"
    },
    {
     "data": {
      "text/html": [
       "2935.97151898734"
      ],
      "text/latex": [
       "2935.97151898734"
      ],
      "text/markdown": [
       "2935.97151898734"
      ],
      "text/plain": [
       "[1] 2935.972"
      ]
     },
     "metadata": {},
     "output_type": "display_data"
    },
    {
     "data": {
      "text/html": [
       "15.7268987341772"
      ],
      "text/latex": [
       "15.7268987341772"
      ],
      "text/markdown": [
       "15.7268987341772"
      ],
      "text/plain": [
       "[1] 15.7269"
      ]
     },
     "metadata": {},
     "output_type": "display_data"
    },
    {
     "data": {
      "text/html": [
       "77.1455696202532"
      ],
      "text/latex": [
       "77.1455696202532"
      ],
      "text/markdown": [
       "77.1455696202532"
      ],
      "text/plain": [
       "[1] 77.14557"
      ]
     },
     "metadata": {},
     "output_type": "display_data"
    },
    {
     "data": {
      "text/html": [
       "1.60126582278481"
      ],
      "text/latex": [
       "1.60126582278481"
      ],
      "text/markdown": [
       "1.60126582278481"
      ],
      "text/plain": [
       "[1] 1.601266"
      ]
     },
     "metadata": {},
     "output_type": "display_data"
    }
   ],
   "source": [
    "mean(Auto$mpg)\n",
    "mean(Auto$cylinders)\n",
    "mean(Auto$displacement)\n",
    "mean(Auto$horsepower)\n",
    "mean(Auto$weight)\n",
    "mean(Auto$acceleration)\n",
    "mean(Auto$year)\n",
    "mean(Auto$origin)\n",
    "# mean(Auto$name)"
   ]
  },
  {
   "cell_type": "code",
   "execution_count": 97,
   "metadata": {},
   "outputs": [
    {
     "data": {
      "text/html": [
       "7.86728282443069"
      ],
      "text/latex": [
       "7.86728282443069"
      ],
      "text/markdown": [
       "7.86728282443069"
      ],
      "text/plain": [
       "[1] 7.867283"
      ]
     },
     "metadata": {},
     "output_type": "display_data"
    },
    {
     "data": {
      "text/html": [
       "1.65417865185607"
      ],
      "text/latex": [
       "1.65417865185607"
      ],
      "text/markdown": [
       "1.65417865185607"
      ],
      "text/plain": [
       "[1] 1.654179"
      ]
     },
     "metadata": {},
     "output_type": "display_data"
    },
    {
     "data": {
      "text/html": [
       "99.6783672303628"
      ],
      "text/latex": [
       "99.6783672303628"
      ],
      "text/markdown": [
       "99.6783672303628"
      ],
      "text/plain": [
       "[1] 99.67837"
      ]
     },
     "metadata": {},
     "output_type": "display_data"
    },
    {
     "data": {
      "text/html": [
       "35.7088532738003"
      ],
      "text/latex": [
       "35.7088532738003"
      ],
      "text/markdown": [
       "35.7088532738003"
      ],
      "text/plain": [
       "[1] 35.70885"
      ]
     },
     "metadata": {},
     "output_type": "display_data"
    },
    {
     "data": {
      "text/html": [
       "811.30020815829"
      ],
      "text/latex": [
       "811.30020815829"
      ],
      "text/markdown": [
       "811.30020815829"
      ],
      "text/plain": [
       "[1] 811.3002"
      ]
     },
     "metadata": {},
     "output_type": "display_data"
    },
    {
     "data": {
      "text/html": [
       "2.69372071752036"
      ],
      "text/latex": [
       "2.69372071752036"
      ],
      "text/markdown": [
       "2.69372071752036"
      ],
      "text/plain": [
       "[1] 2.693721"
      ]
     },
     "metadata": {},
     "output_type": "display_data"
    },
    {
     "data": {
      "text/html": [
       "3.10621690872137"
      ],
      "text/latex": [
       "3.10621690872137"
      ],
      "text/markdown": [
       "3.10621690872137"
      ],
      "text/plain": [
       "[1] 3.106217"
      ]
     },
     "metadata": {},
     "output_type": "display_data"
    },
    {
     "data": {
      "text/html": [
       "0.819909971191933"
      ],
      "text/latex": [
       "0.819909971191933"
      ],
      "text/markdown": [
       "0.819909971191933"
      ],
      "text/plain": [
       "[1] 0.81991"
      ]
     },
     "metadata": {},
     "output_type": "display_data"
    }
   ],
   "source": [
    "sd(Auto$mpg)\n",
    "sd(Auto$cylinders)\n",
    "sd(Auto$displacement)\n",
    "sd(Auto$horsepower)\n",
    "sd(Auto$weight)\n",
    "sd(Auto$acceleration)\n",
    "sd(Auto$year)\n",
    "sd(Auto$origin)\n",
    "# sd(Auto$name)"
   ]
  },
  {
   "cell_type": "code",
   "execution_count": 268,
   "metadata": {},
   "outputs": [
    {
     "data": {
      "image/png": "[encoded data removed]",
      "text/plain": [
       "plot without title"
      ]
     },
     "metadata": {},
     "output_type": "display_data"
    }
   ],
   "source": [
    "plot(Auto$weight, Auto$mpg)"
   ]
  },
  {
   "cell_type": "code",
   "execution_count": 106,
   "metadata": {},
   "outputs": [],
   "source": [
    "library(MASS)"
   ]
  },
  {
   "cell_type": "code",
   "execution_count": 269,
   "metadata": {},
   "outputs": [
    {
     "data": {
      "text/html": [
       "<ol class=list-inline>\n",
       "\t<li>506</li>\n",
       "\t<li>14</li>\n",
       "</ol>\n"
      ],
      "text/latex": [
       "\\begin{enumerate*}\n",
       "\\item 506\n",
       "\\item 14\n",
       "\\end{enumerate*}\n"
      ],
      "text/markdown": [
       "1. 506\n",
       "2. 14\n",
       "\n",
       "\n"
      ],
      "text/plain": [
       "[1] 506  14"
      ]
     },
     "metadata": {},
     "output_type": "display_data"
    }
   ],
   "source": [
    "#10 a\n",
    "dim(Boston)\n",
    "?Boston"
   ]
  },
  {
   "cell_type": "code",
   "execution_count": 112,
   "metadata": {},
   "outputs": [
    {
     "data": {
      "text/html": [
       "<ol class=list-inline>\n",
       "\t<li>'crim'</li>\n",
       "\t<li>'zn'</li>\n",
       "\t<li>'indus'</li>\n",
       "\t<li>'chas'</li>\n",
       "\t<li>'nox'</li>\n",
       "\t<li>'rm'</li>\n",
       "\t<li>'age'</li>\n",
       "\t<li>'dis'</li>\n",
       "\t<li>'rad'</li>\n",
       "\t<li>'tax'</li>\n",
       "\t<li>'ptratio'</li>\n",
       "\t<li>'black'</li>\n",
       "\t<li>'lstat'</li>\n",
       "\t<li>'medv'</li>\n",
       "</ol>\n"
      ],
      "text/latex": [
       "\\begin{enumerate*}\n",
       "\\item 'crim'\n",
       "\\item 'zn'\n",
       "\\item 'indus'\n",
       "\\item 'chas'\n",
       "\\item 'nox'\n",
       "\\item 'rm'\n",
       "\\item 'age'\n",
       "\\item 'dis'\n",
       "\\item 'rad'\n",
       "\\item 'tax'\n",
       "\\item 'ptratio'\n",
       "\\item 'black'\n",
       "\\item 'lstat'\n",
       "\\item 'medv'\n",
       "\\end{enumerate*}\n"
      ],
      "text/markdown": [
       "1. 'crim'\n",
       "2. 'zn'\n",
       "3. 'indus'\n",
       "4. 'chas'\n",
       "5. 'nox'\n",
       "6. 'rm'\n",
       "7. 'age'\n",
       "8. 'dis'\n",
       "9. 'rad'\n",
       "10. 'tax'\n",
       "11. 'ptratio'\n",
       "12. 'black'\n",
       "13. 'lstat'\n",
       "14. 'medv'\n",
       "\n",
       "\n"
      ],
      "text/plain": [
       " [1] \"crim\"    \"zn\"      \"indus\"   \"chas\"    \"nox\"     \"rm\"      \"age\"    \n",
       " [8] \"dis\"     \"rad\"     \"tax\"     \"ptratio\" \"black\"   \"lstat\"   \"medv\"   "
      ]
     },
     "metadata": {},
     "output_type": "display_data"
    }
   ],
   "source": [
    "names(Boston)"
   ]
  },
  {
   "cell_type": "code",
   "execution_count": 273,
   "metadata": {},
   "outputs": [
    {
     "data": {
      "image/png": "[encoded data removed]",
      "text/plain": [
       "plot without title"
      ]
     },
     "metadata": {},
     "output_type": "display_data"
    }
   ],
   "source": [
    "plot(Boston$lstat, Boston$medv)"
   ]
  },
  {
   "cell_type": "code",
   "execution_count": 142,
   "metadata": {},
   "outputs": [
    {
     "data": {
      "image/png": "[encoded data removed]",
      "text/plain": [
       "plot without title"
      ]
     },
     "metadata": {},
     "output_type": "display_data"
    }
   ],
   "source": [
    "plot(Boston$age, Boston$crim)"
   ]
  },
  {
   "cell_type": "code",
   "execution_count": 145,
   "metadata": {},
   "outputs": [
    {
     "data": {
      "image/png": "[encoded data removed]",
      "text/plain": [
       "plot without title"
      ]
     },
     "metadata": {},
     "output_type": "display_data"
    }
   ],
   "source": [
    "plot(Boston$dis, Boston$crim)"
   ]
  },
  {
   "cell_type": "code",
   "execution_count": 151,
   "metadata": {},
   "outputs": [
    {
     "data": {
      "image/png": "[encoded data removed]",
      "text/plain": [
       "plot without title"
      ]
     },
     "metadata": {},
     "output_type": "display_data"
    }
   ],
   "source": [
    "plot(Boston$medv, Boston$crim)"
   ]
  },
  {
   "cell_type": "code",
   "execution_count": 274,
   "metadata": {},
   "outputs": [
    {
     "data": {
      "text/html": [
       "<ol class=list-inline>\n",
       "\t<li>0.00632</li>\n",
       "\t<li>88.9762</li>\n",
       "</ol>\n"
      ],
      "text/latex": [
       "\\begin{enumerate*}\n",
       "\\item 0.00632\n",
       "\\item 88.9762\n",
       "\\end{enumerate*}\n"
      ],
      "text/markdown": [
       "1. 0.00632\n",
       "2. 88.9762\n",
       "\n",
       "\n"
      ],
      "text/plain": [
       "[1]  0.00632 88.97620"
      ]
     },
     "metadata": {},
     "output_type": "display_data"
    },
    {
     "data": {
      "image/png": "[encoded data removed]",
      "text/plain": [
       "plot without title"
      ]
     },
     "metadata": {},
     "output_type": "display_data"
    }
   ],
   "source": [
    "plot(c(0:505), Boston$crim)\n",
    "range(Boston$crim)"
   ]
  },
  {
   "cell_type": "code",
   "execution_count": 156,
   "metadata": {},
   "outputs": [
    {
     "data": {
      "image/png": "[encoded data removed]",
      "text/plain": [
       "plot without title"
      ]
     },
     "metadata": {},
     "output_type": "display_data"
    }
   ],
   "source": [
    "plot(c(0:505), Boston$tax)"
   ]
  },
  {
   "cell_type": "code",
   "execution_count": 167,
   "metadata": {},
   "outputs": [
    {
     "data": {
      "text/html": [
       "<ol class=list-inline>\n",
       "\t<li>8.98296</li>\n",
       "\t<li>3.8497</li>\n",
       "\t<li>5.20177</li>\n",
       "\t<li>4.26131</li>\n",
       "\t<li>4.54192</li>\n",
       "\t<li>3.83684</li>\n",
       "\t<li>3.67822</li>\n",
       "\t<li>4.22239</li>\n",
       "\t<li>3.47428</li>\n",
       "\t<li>4.55587</li>\n",
       "\t<li>3.69695</li>\n",
       "\t<li>13.5222</li>\n",
       "\t<li>4.89822</li>\n",
       "\t<li>5.66998</li>\n",
       "\t<li>6.53876</li>\n",
       "\t<li>9.2323</li>\n",
       "\t<li>8.26725</li>\n",
       "\t<li>11.1081</li>\n",
       "\t<li>18.4982</li>\n",
       "\t<li>19.6091</li>\n",
       "\t<li>15.288</li>\n",
       "\t<li>9.82349</li>\n",
       "\t<li>23.6482</li>\n",
       "\t<li>17.8667</li>\n",
       "\t<li>88.9762</li>\n",
       "\t<li>15.8744</li>\n",
       "\t<li>9.18702</li>\n",
       "\t<li>7.99248</li>\n",
       "\t<li>20.0849</li>\n",
       "\t<li>16.8118</li>\n",
       "\t<li>24.3938</li>\n",
       "\t<li>22.5971</li>\n",
       "\t<li>14.3337</li>\n",
       "\t<li>8.15174</li>\n",
       "\t<li>6.96215</li>\n",
       "\t<li>5.29305</li>\n",
       "\t<li>11.5779</li>\n",
       "\t<li>8.64476</li>\n",
       "\t<li>13.3598</li>\n",
       "\t<li>8.71675</li>\n",
       "\t<li>5.87205</li>\n",
       "\t<li>7.67202</li>\n",
       "\t<li>38.3518</li>\n",
       "\t<li>9.91655</li>\n",
       "\t<li>25.0461</li>\n",
       "\t<li>14.2362</li>\n",
       "\t<li>9.59571</li>\n",
       "\t<li>24.8017</li>\n",
       "\t<li>41.5292</li>\n",
       "\t<li>67.9208</li>\n",
       "\t<li>20.7162</li>\n",
       "\t<li>11.9511</li>\n",
       "\t<li>7.40389</li>\n",
       "\t<li>14.4383</li>\n",
       "\t<li>51.1358</li>\n",
       "\t<li>14.0507</li>\n",
       "\t<li>18.811</li>\n",
       "\t<li>28.6558</li>\n",
       "\t<li>45.7461</li>\n",
       "\t<li>18.0846</li>\n",
       "\t<li>10.8342</li>\n",
       "\t<li>25.9406</li>\n",
       "\t<li>73.5341</li>\n",
       "\t<li>11.8123</li>\n",
       "\t<li>11.0874</li>\n",
       "\t<li>7.02259</li>\n",
       "\t<li>12.0482</li>\n",
       "\t<li>7.05042</li>\n",
       "\t<li>8.79212</li>\n",
       "\t<li>15.8603</li>\n",
       "\t<li>12.2472</li>\n",
       "\t<li>37.6619</li>\n",
       "\t<li>7.36711</li>\n",
       "\t<li>9.33889</li>\n",
       "\t<li>8.49213</li>\n",
       "\t<li>10.0623</li>\n",
       "\t<li>6.44405</li>\n",
       "\t<li>5.58107</li>\n",
       "\t<li>13.9134</li>\n",
       "\t<li>11.1604</li>\n",
       "\t<li>14.4208</li>\n",
       "\t<li>15.1772</li>\n",
       "\t<li>13.6781</li>\n",
       "\t<li>9.39063</li>\n",
       "\t<li>22.0511</li>\n",
       "\t<li>9.72418</li>\n",
       "\t<li>5.66637</li>\n",
       "\t<li>9.96654</li>\n",
       "\t<li>12.8023</li>\n",
       "\t<li>10.6718</li>\n",
       "\t<li>6.28807</li>\n",
       "\t<li>9.92485</li>\n",
       "\t<li>9.32909</li>\n",
       "\t<li>7.52601</li>\n",
       "\t<li>6.71772</li>\n",
       "\t<li>5.44114</li>\n",
       "\t<li>5.09017</li>\n",
       "\t<li>8.24809</li>\n",
       "\t<li>9.51363</li>\n",
       "\t<li>4.75237</li>\n",
       "\t<li>4.66883</li>\n",
       "\t<li>8.20058</li>\n",
       "\t<li>7.75223</li>\n",
       "\t<li>6.80117</li>\n",
       "\t<li>4.81213</li>\n",
       "\t<li>3.69311</li>\n",
       "\t<li>6.65492</li>\n",
       "\t<li>5.82115</li>\n",
       "\t<li>7.83932</li>\n",
       "\t<li>3.1636</li>\n",
       "\t<li>3.77498</li>\n",
       "\t<li>4.42228</li>\n",
       "\t<li>15.5757</li>\n",
       "\t<li>13.0751</li>\n",
       "\t<li>4.34879</li>\n",
       "\t<li>4.03841</li>\n",
       "\t<li>3.56868</li>\n",
       "\t<li>4.64689</li>\n",
       "\t<li>8.05579</li>\n",
       "\t<li>6.39312</li>\n",
       "\t<li>4.87141</li>\n",
       "\t<li>15.0234</li>\n",
       "\t<li>10.233</li>\n",
       "\t<li>14.3337</li>\n",
       "\t<li>5.82401</li>\n",
       "\t<li>5.70818</li>\n",
       "\t<li>5.73116</li>\n",
       "\t<li>2.81838</li>\n",
       "\t<li>2.37857</li>\n",
       "\t<li>3.67367</li>\n",
       "\t<li>5.69175</li>\n",
       "\t<li>4.83567</li>\n",
       "</ol>\n"
      ],
      "text/latex": [
       "\\begin{enumerate*}\n",
       "\\item 8.98296\n",
       "\\item 3.8497\n",
       "\\item 5.20177\n",
       "\\item 4.26131\n",
       "\\item 4.54192\n",
       "\\item 3.83684\n",
       "\\item 3.67822\n",
       "\\item 4.22239\n",
       "\\item 3.47428\n",
       "\\item 4.55587\n",
       "\\item 3.69695\n",
       "\\item 13.5222\n",
       "\\item 4.89822\n",
       "\\item 5.66998\n",
       "\\item 6.53876\n",
       "\\item 9.2323\n",
       "\\item 8.26725\n",
       "\\item 11.1081\n",
       "\\item 18.4982\n",
       "\\item 19.6091\n",
       "\\item 15.288\n",
       "\\item 9.82349\n",
       "\\item 23.6482\n",
       "\\item 17.8667\n",
       "\\item 88.9762\n",
       "\\item 15.8744\n",
       "\\item 9.18702\n",
       "\\item 7.99248\n",
       "\\item 20.0849\n",
       "\\item 16.8118\n",
       "\\item 24.3938\n",
       "\\item 22.5971\n",
       "\\item 14.3337\n",
       "\\item 8.15174\n",
       "\\item 6.96215\n",
       "\\item 5.29305\n",
       "\\item 11.5779\n",
       "\\item 8.64476\n",
       "\\item 13.3598\n",
       "\\item 8.71675\n",
       "\\item 5.87205\n",
       "\\item 7.67202\n",
       "\\item 38.3518\n",
       "\\item 9.91655\n",
       "\\item 25.0461\n",
       "\\item 14.2362\n",
       "\\item 9.59571\n",
       "\\item 24.8017\n",
       "\\item 41.5292\n",
       "\\item 67.9208\n",
       "\\item 20.7162\n",
       "\\item 11.9511\n",
       "\\item 7.40389\n",
       "\\item 14.4383\n",
       "\\item 51.1358\n",
       "\\item 14.0507\n",
       "\\item 18.811\n",
       "\\item 28.6558\n",
       "\\item 45.7461\n",
       "\\item 18.0846\n",
       "\\item 10.8342\n",
       "\\item 25.9406\n",
       "\\item 73.5341\n",
       "\\item 11.8123\n",
       "\\item 11.0874\n",
       "\\item 7.02259\n",
       "\\item 12.0482\n",
       "\\item 7.05042\n",
       "\\item 8.79212\n",
       "\\item 15.8603\n",
       "\\item 12.2472\n",
       "\\item 37.6619\n",
       "\\item 7.36711\n",
       "\\item 9.33889\n",
       "\\item 8.49213\n",
       "\\item 10.0623\n",
       "\\item 6.44405\n",
       "\\item 5.58107\n",
       "\\item 13.9134\n",
       "\\item 11.1604\n",
       "\\item 14.4208\n",
       "\\item 15.1772\n",
       "\\item 13.6781\n",
       "\\item 9.39063\n",
       "\\item 22.0511\n",
       "\\item 9.72418\n",
       "\\item 5.66637\n",
       "\\item 9.96654\n",
       "\\item 12.8023\n",
       "\\item 10.6718\n",
       "\\item 6.28807\n",
       "\\item 9.92485\n",
       "\\item 9.32909\n",
       "\\item 7.52601\n",
       "\\item 6.71772\n",
       "\\item 5.44114\n",
       "\\item 5.09017\n",
       "\\item 8.24809\n",
       "\\item 9.51363\n",
       "\\item 4.75237\n",
       "\\item 4.66883\n",
       "\\item 8.20058\n",
       "\\item 7.75223\n",
       "\\item 6.80117\n",
       "\\item 4.81213\n",
       "\\item 3.69311\n",
       "\\item 6.65492\n",
       "\\item 5.82115\n",
       "\\item 7.83932\n",
       "\\item 3.1636\n",
       "\\item 3.77498\n",
       "\\item 4.42228\n",
       "\\item 15.5757\n",
       "\\item 13.0751\n",
       "\\item 4.34879\n",
       "\\item 4.03841\n",
       "\\item 3.56868\n",
       "\\item 4.64689\n",
       "\\item 8.05579\n",
       "\\item 6.39312\n",
       "\\item 4.87141\n",
       "\\item 15.0234\n",
       "\\item 10.233\n",
       "\\item 14.3337\n",
       "\\item 5.82401\n",
       "\\item 5.70818\n",
       "\\item 5.73116\n",
       "\\item 2.81838\n",
       "\\item 2.37857\n",
       "\\item 3.67367\n",
       "\\item 5.69175\n",
       "\\item 4.83567\n",
       "\\end{enumerate*}\n"
      ],
      "text/markdown": [
       "1. 8.98296\n",
       "2. 3.8497\n",
       "3. 5.20177\n",
       "4. 4.26131\n",
       "5. 4.54192\n",
       "6. 3.83684\n",
       "7. 3.67822\n",
       "8. 4.22239\n",
       "9. 3.47428\n",
       "10. 4.55587\n",
       "11. 3.69695\n",
       "12. 13.5222\n",
       "13. 4.89822\n",
       "14. 5.66998\n",
       "15. 6.53876\n",
       "16. 9.2323\n",
       "17. 8.26725\n",
       "18. 11.1081\n",
       "19. 18.4982\n",
       "20. 19.6091\n",
       "21. 15.288\n",
       "22. 9.82349\n",
       "23. 23.6482\n",
       "24. 17.8667\n",
       "25. 88.9762\n",
       "26. 15.8744\n",
       "27. 9.18702\n",
       "28. 7.99248\n",
       "29. 20.0849\n",
       "30. 16.8118\n",
       "31. 24.3938\n",
       "32. 22.5971\n",
       "33. 14.3337\n",
       "34. 8.15174\n",
       "35. 6.96215\n",
       "36. 5.29305\n",
       "37. 11.5779\n",
       "38. 8.64476\n",
       "39. 13.3598\n",
       "40. 8.71675\n",
       "41. 5.87205\n",
       "42. 7.67202\n",
       "43. 38.3518\n",
       "44. 9.91655\n",
       "45. 25.0461\n",
       "46. 14.2362\n",
       "47. 9.59571\n",
       "48. 24.8017\n",
       "49. 41.5292\n",
       "50. 67.9208\n",
       "51. 20.7162\n",
       "52. 11.9511\n",
       "53. 7.40389\n",
       "54. 14.4383\n",
       "55. 51.1358\n",
       "56. 14.0507\n",
       "57. 18.811\n",
       "58. 28.6558\n",
       "59. 45.7461\n",
       "60. 18.0846\n",
       "61. 10.8342\n",
       "62. 25.9406\n",
       "63. 73.5341\n",
       "64. 11.8123\n",
       "65. 11.0874\n",
       "66. 7.02259\n",
       "67. 12.0482\n",
       "68. 7.05042\n",
       "69. 8.79212\n",
       "70. 15.8603\n",
       "71. 12.2472\n",
       "72. 37.6619\n",
       "73. 7.36711\n",
       "74. 9.33889\n",
       "75. 8.49213\n",
       "76. 10.0623\n",
       "77. 6.44405\n",
       "78. 5.58107\n",
       "79. 13.9134\n",
       "80. 11.1604\n",
       "81. 14.4208\n",
       "82. 15.1772\n",
       "83. 13.6781\n",
       "84. 9.39063\n",
       "85. 22.0511\n",
       "86. 9.72418\n",
       "87. 5.66637\n",
       "88. 9.96654\n",
       "89. 12.8023\n",
       "90. 10.6718\n",
       "91. 6.28807\n",
       "92. 9.92485\n",
       "93. 9.32909\n",
       "94. 7.52601\n",
       "95. 6.71772\n",
       "96. 5.44114\n",
       "97. 5.09017\n",
       "98. 8.24809\n",
       "99. 9.51363\n",
       "100. 4.75237\n",
       "101. 4.66883\n",
       "102. 8.20058\n",
       "103. 7.75223\n",
       "104. 6.80117\n",
       "105. 4.81213\n",
       "106. 3.69311\n",
       "107. 6.65492\n",
       "108. 5.82115\n",
       "109. 7.83932\n",
       "110. 3.1636\n",
       "111. 3.77498\n",
       "112. 4.42228\n",
       "113. 15.5757\n",
       "114. 13.0751\n",
       "115. 4.34879\n",
       "116. 4.03841\n",
       "117. 3.56868\n",
       "118. 4.64689\n",
       "119. 8.05579\n",
       "120. 6.39312\n",
       "121. 4.87141\n",
       "122. 15.0234\n",
       "123. 10.233\n",
       "124. 14.3337\n",
       "125. 5.82401\n",
       "126. 5.70818\n",
       "127. 5.73116\n",
       "128. 2.81838\n",
       "129. 2.37857\n",
       "130. 3.67367\n",
       "131. 5.69175\n",
       "132. 4.83567\n",
       "\n",
       "\n"
      ],
      "text/plain": [
       "  [1]  8.98296  3.84970  5.20177  4.26131  4.54192  3.83684  3.67822  4.22239\n",
       "  [9]  3.47428  4.55587  3.69695 13.52220  4.89822  5.66998  6.53876  9.23230\n",
       " [17]  8.26725 11.10810 18.49820 19.60910 15.28800  9.82349 23.64820 17.86670\n",
       " [25] 88.97620 15.87440  9.18702  7.99248 20.08490 16.81180 24.39380 22.59710\n",
       " [33] 14.33370  8.15174  6.96215  5.29305 11.57790  8.64476 13.35980  8.71675\n",
       " [41]  5.87205  7.67202 38.35180  9.91655 25.04610 14.23620  9.59571 24.80170\n",
       " [49] 41.52920 67.92080 20.71620 11.95110  7.40389 14.43830 51.13580 14.05070\n",
       " [57] 18.81100 28.65580 45.74610 18.08460 10.83420 25.94060 73.53410 11.81230\n",
       " [65] 11.08740  7.02259 12.04820  7.05042  8.79212 15.86030 12.24720 37.66190\n",
       " [73]  7.36711  9.33889  8.49213 10.06230  6.44405  5.58107 13.91340 11.16040\n",
       " [81] 14.42080 15.17720 13.67810  9.39063 22.05110  9.72418  5.66637  9.96654\n",
       " [89] 12.80230 10.67180  6.28807  9.92485  9.32909  7.52601  6.71772  5.44114\n",
       " [97]  5.09017  8.24809  9.51363  4.75237  4.66883  8.20058  7.75223  6.80117\n",
       "[105]  4.81213  3.69311  6.65492  5.82115  7.83932  3.16360  3.77498  4.42228\n",
       "[113] 15.57570 13.07510  4.34879  4.03841  3.56868  4.64689  8.05579  6.39312\n",
       "[121]  4.87141 15.02340 10.23300 14.33370  5.82401  5.70818  5.73116  2.81838\n",
       "[129]  2.37857  3.67367  5.69175  4.83567"
      ]
     },
     "metadata": {},
     "output_type": "display_data"
    }
   ],
   "source": [
    "Boston[357:488,'crim']"
   ]
  },
  {
   "cell_type": "code",
   "execution_count": 168,
   "metadata": {},
   "outputs": [
    {
     "data": {
      "image/png": "[encoded data removed]",
      "text/plain": [
       "plot without title"
      ]
     },
     "metadata": {},
     "output_type": "display_data"
    }
   ],
   "source": [
    "plot(c(0:505), Boston$ptratio)"
   ]
  },
  {
   "cell_type": "code",
   "execution_count": 187,
   "metadata": {},
   "outputs": [
    {
     "name": "stdout",
     "output_type": "stream",
     "text": [
      "integer(0)\n"
     ]
    },
    {
     "data": {
      "text/html": [
       "35"
      ],
      "text/latex": [
       "35"
      ],
      "text/markdown": [
       "35"
      ],
      "text/plain": [
       "[1] 35"
      ]
     },
     "metadata": {},
     "output_type": "display_data"
    }
   ],
   "source": [
    "counter = 0\n",
    "# Boston[0:505,'chas']\n",
    "print(Boston$chas[0])\n",
    "\n",
    "for (i in Boston$chas) {\n",
    "    if (i == 1) {\n",
    "        counter = counter + 1\n",
    "    }\n",
    "}\n",
    "\n",
    "counter"
   ]
  },
  {
   "cell_type": "code",
   "execution_count": 188,
   "metadata": {},
   "outputs": [
    {
     "data": {
      "text/html": [
       "19.05"
      ],
      "text/latex": [
       "19.05"
      ],
      "text/markdown": [
       "19.05"
      ],
      "text/plain": [
       "[1] 19.05"
      ]
     },
     "metadata": {},
     "output_type": "display_data"
    }
   ],
   "source": [
    "median(Boston$ptratio)"
   ]
  },
  {
   "cell_type": "code",
   "execution_count": 190,
   "metadata": {},
   "outputs": [],
   "source": [
    "attach(Boston)"
   ]
  },
  {
   "cell_type": "code",
   "execution_count": 198,
   "metadata": {},
   "outputs": [
    {
     "data": {
      "text/html": [
       "399"
      ],
      "text/latex": [
       "399"
      ],
      "text/markdown": [
       "399"
      ],
      "text/plain": [
       "[1] 399"
      ]
     },
     "metadata": {},
     "output_type": "display_data"
    },
    {
     "data": {
      "text/html": [
       "<table>\n",
       "<thead><tr><th></th><th scope=col>crim</th><th scope=col>zn</th><th scope=col>indus</th><th scope=col>chas</th><th scope=col>nox</th><th scope=col>rm</th><th scope=col>age</th><th scope=col>dis</th><th scope=col>rad</th><th scope=col>tax</th><th scope=col>ptratio</th><th scope=col>black</th><th scope=col>lstat</th><th scope=col>medv</th></tr></thead>\n",
       "<tbody>\n",
       "\t<tr><th scope=row>399</th><td>38.3518</td><td>0      </td><td>18.1   </td><td>0      </td><td>0.693  </td><td>5.453  </td><td>100    </td><td>1.4896 </td><td>24     </td><td>666    </td><td>20.2   </td><td>396.9  </td><td>30.59  </td><td>5      </td></tr>\n",
       "</tbody>\n",
       "</table>\n"
      ],
      "text/latex": [
       "\\begin{tabular}{r|llllllllllllll}\n",
       "  & crim & zn & indus & chas & nox & rm & age & dis & rad & tax & ptratio & black & lstat & medv\\\\\n",
       "\\hline\n",
       "\t399 & 38.3518 & 0       & 18.1    & 0       & 0.693   & 5.453   & 100     & 1.4896  & 24      & 666     & 20.2    & 396.9   & 30.59   & 5      \\\\\n",
       "\\end{tabular}\n"
      ],
      "text/markdown": [
       "\n",
       "| <!--/--> | crim | zn | indus | chas | nox | rm | age | dis | rad | tax | ptratio | black | lstat | medv | \n",
       "|---|\n",
       "| 399 | 38.3518 | 0       | 18.1    | 0       | 0.693   | 5.453   | 100     | 1.4896  | 24      | 666     | 20.2    | 396.9   | 30.59   | 5       | \n",
       "\n",
       "\n"
      ],
      "text/plain": [
       "    crim    zn indus chas nox   rm    age dis    rad tax ptratio black lstat\n",
       "399 38.3518 0  18.1  0    0.693 5.453 100 1.4896 24  666 20.2    396.9 30.59\n",
       "    medv\n",
       "399 5   "
      ]
     },
     "metadata": {},
     "output_type": "display_data"
    }
   ],
   "source": [
    "?Boston\n",
    "which.min(Boston$medv) # lowest median value of owner-occupied homes\n",
    "Boston[399,]"
   ]
  },
  {
   "cell_type": "code",
   "execution_count": 275,
   "metadata": {
    "scrolled": true
   },
   "outputs": [
    {
     "data": {
      "text/html": [
       "<ol class=list-inline>\n",
       "\t<li>0.00632</li>\n",
       "\t<li>88.9762</li>\n",
       "</ol>\n"
      ],
      "text/latex": [
       "\\begin{enumerate*}\n",
       "\\item 0.00632\n",
       "\\item 88.9762\n",
       "\\end{enumerate*}\n"
      ],
      "text/markdown": [
       "1. 0.00632\n",
       "2. 88.9762\n",
       "\n",
       "\n"
      ],
      "text/plain": [
       "[1]  0.00632 88.97620"
      ]
     },
     "metadata": {},
     "output_type": "display_data"
    },
    {
     "data": {
      "text/html": [
       "<ol class=list-inline>\n",
       "\t<li>0</li>\n",
       "\t<li>100</li>\n",
       "</ol>\n"
      ],
      "text/latex": [
       "\\begin{enumerate*}\n",
       "\\item 0\n",
       "\\item 100\n",
       "\\end{enumerate*}\n"
      ],
      "text/markdown": [
       "1. 0\n",
       "2. 100\n",
       "\n",
       "\n"
      ],
      "text/plain": [
       "[1]   0 100"
      ]
     },
     "metadata": {},
     "output_type": "display_data"
    },
    {
     "data": {
      "text/html": [
       "<ol class=list-inline>\n",
       "\t<li>0.46</li>\n",
       "\t<li>27.74</li>\n",
       "</ol>\n"
      ],
      "text/latex": [
       "\\begin{enumerate*}\n",
       "\\item 0.46\n",
       "\\item 27.74\n",
       "\\end{enumerate*}\n"
      ],
      "text/markdown": [
       "1. 0.46\n",
       "2. 27.74\n",
       "\n",
       "\n"
      ],
      "text/plain": [
       "[1]  0.46 27.74"
      ]
     },
     "metadata": {},
     "output_type": "display_data"
    },
    {
     "data": {
      "text/html": [
       "<ol class=list-inline>\n",
       "\t<li>0</li>\n",
       "\t<li>1</li>\n",
       "</ol>\n"
      ],
      "text/latex": [
       "\\begin{enumerate*}\n",
       "\\item 0\n",
       "\\item 1\n",
       "\\end{enumerate*}\n"
      ],
      "text/markdown": [
       "1. 0\n",
       "2. 1\n",
       "\n",
       "\n"
      ],
      "text/plain": [
       "[1] 0 1"
      ]
     },
     "metadata": {},
     "output_type": "display_data"
    },
    {
     "data": {
      "text/html": [
       "<ol class=list-inline>\n",
       "\t<li>0.385</li>\n",
       "\t<li>0.871</li>\n",
       "</ol>\n"
      ],
      "text/latex": [
       "\\begin{enumerate*}\n",
       "\\item 0.385\n",
       "\\item 0.871\n",
       "\\end{enumerate*}\n"
      ],
      "text/markdown": [
       "1. 0.385\n",
       "2. 0.871\n",
       "\n",
       "\n"
      ],
      "text/plain": [
       "[1] 0.385 0.871"
      ]
     },
     "metadata": {},
     "output_type": "display_data"
    },
    {
     "data": {
      "text/html": [
       "<ol class=list-inline>\n",
       "\t<li>3.561</li>\n",
       "\t<li>8.78</li>\n",
       "</ol>\n"
      ],
      "text/latex": [
       "\\begin{enumerate*}\n",
       "\\item 3.561\n",
       "\\item 8.78\n",
       "\\end{enumerate*}\n"
      ],
      "text/markdown": [
       "1. 3.561\n",
       "2. 8.78\n",
       "\n",
       "\n"
      ],
      "text/plain": [
       "[1] 3.561 8.780"
      ]
     },
     "metadata": {},
     "output_type": "display_data"
    },
    {
     "data": {
      "text/html": [
       "<ol class=list-inline>\n",
       "\t<li>2.9</li>\n",
       "\t<li>100</li>\n",
       "</ol>\n"
      ],
      "text/latex": [
       "\\begin{enumerate*}\n",
       "\\item 2.9\n",
       "\\item 100\n",
       "\\end{enumerate*}\n"
      ],
      "text/markdown": [
       "1. 2.9\n",
       "2. 100\n",
       "\n",
       "\n"
      ],
      "text/plain": [
       "[1]   2.9 100.0"
      ]
     },
     "metadata": {},
     "output_type": "display_data"
    },
    {
     "data": {
      "text/html": [
       "<ol class=list-inline>\n",
       "\t<li>1.1296</li>\n",
       "\t<li>12.1265</li>\n",
       "</ol>\n"
      ],
      "text/latex": [
       "\\begin{enumerate*}\n",
       "\\item 1.1296\n",
       "\\item 12.1265\n",
       "\\end{enumerate*}\n"
      ],
      "text/markdown": [
       "1. 1.1296\n",
       "2. 12.1265\n",
       "\n",
       "\n"
      ],
      "text/plain": [
       "[1]  1.1296 12.1265"
      ]
     },
     "metadata": {},
     "output_type": "display_data"
    },
    {
     "data": {
      "text/html": [
       "<ol class=list-inline>\n",
       "\t<li>1</li>\n",
       "\t<li>24</li>\n",
       "</ol>\n"
      ],
      "text/latex": [
       "\\begin{enumerate*}\n",
       "\\item 1\n",
       "\\item 24\n",
       "\\end{enumerate*}\n"
      ],
      "text/markdown": [
       "1. 1\n",
       "2. 24\n",
       "\n",
       "\n"
      ],
      "text/plain": [
       "[1]  1 24"
      ]
     },
     "metadata": {},
     "output_type": "display_data"
    },
    {
     "data": {
      "text/html": [
       "<ol class=list-inline>\n",
       "\t<li>187</li>\n",
       "\t<li>711</li>\n",
       "</ol>\n"
      ],
      "text/latex": [
       "\\begin{enumerate*}\n",
       "\\item 187\n",
       "\\item 711\n",
       "\\end{enumerate*}\n"
      ],
      "text/markdown": [
       "1. 187\n",
       "2. 711\n",
       "\n",
       "\n"
      ],
      "text/plain": [
       "[1] 187 711"
      ]
     },
     "metadata": {},
     "output_type": "display_data"
    },
    {
     "data": {
      "text/html": [
       "<ol class=list-inline>\n",
       "\t<li>12.6</li>\n",
       "\t<li>22</li>\n",
       "</ol>\n"
      ],
      "text/latex": [
       "\\begin{enumerate*}\n",
       "\\item 12.6\n",
       "\\item 22\n",
       "\\end{enumerate*}\n"
      ],
      "text/markdown": [
       "1. 12.6\n",
       "2. 22\n",
       "\n",
       "\n"
      ],
      "text/plain": [
       "[1] 12.6 22.0"
      ]
     },
     "metadata": {},
     "output_type": "display_data"
    },
    {
     "data": {
      "text/html": [
       "<ol class=list-inline>\n",
       "\t<li>0.32</li>\n",
       "\t<li>396.9</li>\n",
       "</ol>\n"
      ],
      "text/latex": [
       "\\begin{enumerate*}\n",
       "\\item 0.32\n",
       "\\item 396.9\n",
       "\\end{enumerate*}\n"
      ],
      "text/markdown": [
       "1. 0.32\n",
       "2. 396.9\n",
       "\n",
       "\n"
      ],
      "text/plain": [
       "[1]   0.32 396.90"
      ]
     },
     "metadata": {},
     "output_type": "display_data"
    },
    {
     "data": {
      "text/html": [
       "<ol class=list-inline>\n",
       "\t<li>1.73</li>\n",
       "\t<li>37.97</li>\n",
       "</ol>\n"
      ],
      "text/latex": [
       "\\begin{enumerate*}\n",
       "\\item 1.73\n",
       "\\item 37.97\n",
       "\\end{enumerate*}\n"
      ],
      "text/markdown": [
       "1. 1.73\n",
       "2. 37.97\n",
       "\n",
       "\n"
      ],
      "text/plain": [
       "[1]  1.73 37.97"
      ]
     },
     "metadata": {},
     "output_type": "display_data"
    },
    {
     "data": {
      "text/html": [
       "<ol class=list-inline>\n",
       "\t<li>5</li>\n",
       "\t<li>50</li>\n",
       "</ol>\n"
      ],
      "text/latex": [
       "\\begin{enumerate*}\n",
       "\\item 5\n",
       "\\item 50\n",
       "\\end{enumerate*}\n"
      ],
      "text/markdown": [
       "1. 5\n",
       "2. 50\n",
       "\n",
       "\n"
      ],
      "text/plain": [
       "[1]  5 50"
      ]
     },
     "metadata": {},
     "output_type": "display_data"
    }
   ],
   "source": [
    "range(Boston$crim)\n",
    "range(Boston$zn)\n",
    "range(Boston$indus)\n",
    "range(Boston$chas)\n",
    "range(Boston$nox)\n",
    "range(Boston$rm)\n",
    "range(Boston$age)\n",
    "range(Boston$dis)\n",
    "range(Boston$rad)\n",
    "range(Boston$tax)\n",
    "range(Boston$ptratio)\n",
    "range(Boston$black)\n",
    "range(Boston$lstat)\n",
    "range(Boston$medv)"
   ]
  },
  {
   "cell_type": "code",
   "execution_count": 202,
   "metadata": {},
   "outputs": [
    {
     "data": {
      "image/png": "[encoded data removed]",
      "text/plain": [
       "plot without title"
      ]
     },
     "metadata": {},
     "output_type": "display_data"
    }
   ],
   "source": [
    "?Boston\n",
    "plot(c(0:505),rm)"
   ]
  },
  {
   "cell_type": "code",
   "execution_count": 281,
   "metadata": {},
   "outputs": [
    {
     "data": {
      "text/html": [
       "64"
      ],
      "text/latex": [
       "64"
      ],
      "text/markdown": [
       "64"
      ],
      "text/plain": [
       "[1] 64"
      ]
     },
     "metadata": {},
     "output_type": "display_data"
    },
    {
     "data": {
      "text/html": [
       "13"
      ],
      "text/latex": [
       "13"
      ],
      "text/markdown": [
       "13"
      ],
      "text/plain": [
       "[1] 13"
      ]
     },
     "metadata": {},
     "output_type": "display_data"
    },
    {
     "data": {
      "text/html": [
       "<ol class=list-inline>\n",
       "\t<li>98</li>\n",
       "\t<li>164</li>\n",
       "\t<li>205</li>\n",
       "\t<li>225</li>\n",
       "\t<li>226</li>\n",
       "\t<li>227</li>\n",
       "\t<li>233</li>\n",
       "\t<li>234</li>\n",
       "\t<li>254</li>\n",
       "\t<li>258</li>\n",
       "\t<li>263</li>\n",
       "\t<li>268</li>\n",
       "\t<li>365</li>\n",
       "</ol>\n"
      ],
      "text/latex": [
       "\\begin{enumerate*}\n",
       "\\item 98\n",
       "\\item 164\n",
       "\\item 205\n",
       "\\item 225\n",
       "\\item 226\n",
       "\\item 227\n",
       "\\item 233\n",
       "\\item 234\n",
       "\\item 254\n",
       "\\item 258\n",
       "\\item 263\n",
       "\\item 268\n",
       "\\item 365\n",
       "\\end{enumerate*}\n"
      ],
      "text/markdown": [
       "1. 98\n",
       "2. 164\n",
       "3. 205\n",
       "4. 225\n",
       "5. 226\n",
       "6. 227\n",
       "7. 233\n",
       "8. 234\n",
       "9. 254\n",
       "10. 258\n",
       "11. 263\n",
       "12. 268\n",
       "13. 365\n",
       "\n",
       "\n"
      ],
      "text/plain": [
       " [1]  98 164 205 225 226 227 233 234 254 258 263 268 365"
      ]
     },
     "metadata": {},
     "output_type": "display_data"
    },
    {
     "data": {
      "text/html": [
       "<table>\n",
       "<thead><tr><th></th><th scope=col>crim</th><th scope=col>zn</th><th scope=col>indus</th><th scope=col>chas</th><th scope=col>nox</th><th scope=col>rm</th><th scope=col>age</th><th scope=col>dis</th><th scope=col>rad</th><th scope=col>tax</th><th scope=col>ptratio</th><th scope=col>black</th><th scope=col>lstat</th><th scope=col>medv</th></tr></thead>\n",
       "<tbody>\n",
       "\t<tr><th scope=row>98</th><td>0.12083</td><td> 0     </td><td> 2.89  </td><td>0      </td><td>0.4450 </td><td>8.069  </td><td>76.0   </td><td>3.4952 </td><td> 2     </td><td>276    </td><td>18.0   </td><td>396.90 </td><td>4.21   </td><td>38.7   </td></tr>\n",
       "\t<tr><th scope=row>164</th><td>1.51902</td><td> 0     </td><td>19.58  </td><td>1      </td><td>0.6050 </td><td>8.375  </td><td>93.9   </td><td>2.1620 </td><td> 5     </td><td>403    </td><td>14.7   </td><td>388.45 </td><td>3.32   </td><td>50.0   </td></tr>\n",
       "\t<tr><th scope=row>205</th><td>0.02009</td><td>95     </td><td> 2.68  </td><td>0      </td><td>0.4161 </td><td>8.034  </td><td>31.9   </td><td>5.1180 </td><td> 4     </td><td>224    </td><td>14.7   </td><td>390.55 </td><td>2.88   </td><td>50.0   </td></tr>\n",
       "\t<tr><th scope=row>225</th><td>0.31533</td><td> 0     </td><td> 6.20  </td><td>0      </td><td>0.5040 </td><td>8.266  </td><td>78.3   </td><td>2.8944 </td><td> 8     </td><td>307    </td><td>17.4   </td><td>385.05 </td><td>4.14   </td><td>44.8   </td></tr>\n",
       "\t<tr><th scope=row>226</th><td>0.52693</td><td> 0     </td><td> 6.20  </td><td>0      </td><td>0.5040 </td><td>8.725  </td><td>83.0   </td><td>2.8944 </td><td> 8     </td><td>307    </td><td>17.4   </td><td>382.00 </td><td>4.63   </td><td>50.0   </td></tr>\n",
       "\t<tr><th scope=row>227</th><td>0.38214</td><td> 0     </td><td> 6.20  </td><td>0      </td><td>0.5040 </td><td>8.040  </td><td>86.5   </td><td>3.2157 </td><td> 8     </td><td>307    </td><td>17.4   </td><td>387.38 </td><td>3.13   </td><td>37.6   </td></tr>\n",
       "\t<tr><th scope=row>233</th><td>0.57529</td><td> 0     </td><td> 6.20  </td><td>0      </td><td>0.5070 </td><td>8.337  </td><td>73.3   </td><td>3.8384 </td><td> 8     </td><td>307    </td><td>17.4   </td><td>385.91 </td><td>2.47   </td><td>41.7   </td></tr>\n",
       "\t<tr><th scope=row>234</th><td>0.33147</td><td> 0     </td><td> 6.20  </td><td>0      </td><td>0.5070 </td><td>8.247  </td><td>70.4   </td><td>3.6519 </td><td> 8     </td><td>307    </td><td>17.4   </td><td>378.95 </td><td>3.95   </td><td>48.3   </td></tr>\n",
       "\t<tr><th scope=row>254</th><td>0.36894</td><td>22     </td><td> 5.86  </td><td>0      </td><td>0.4310 </td><td>8.259  </td><td> 8.4   </td><td>8.9067 </td><td> 7     </td><td>330    </td><td>19.1   </td><td>396.90 </td><td>3.54   </td><td>42.8   </td></tr>\n",
       "\t<tr><th scope=row>258</th><td>0.61154</td><td>20     </td><td> 3.97  </td><td>0      </td><td>0.6470 </td><td>8.704  </td><td>86.9   </td><td>1.8010 </td><td> 5     </td><td>264    </td><td>13.0   </td><td>389.70 </td><td>5.12   </td><td>50.0   </td></tr>\n",
       "\t<tr><th scope=row>263</th><td>0.52014</td><td>20     </td><td> 3.97  </td><td>0      </td><td>0.6470 </td><td>8.398  </td><td>91.5   </td><td>2.2885 </td><td> 5     </td><td>264    </td><td>13.0   </td><td>386.86 </td><td>5.91   </td><td>48.8   </td></tr>\n",
       "\t<tr><th scope=row>268</th><td>0.57834</td><td>20     </td><td> 3.97  </td><td>0      </td><td>0.5750 </td><td>8.297  </td><td>67.0   </td><td>2.4216 </td><td> 5     </td><td>264    </td><td>13.0   </td><td>384.54 </td><td>7.44   </td><td>50.0   </td></tr>\n",
       "\t<tr><th scope=row>365</th><td>3.47428</td><td> 0     </td><td>18.10  </td><td>1      </td><td>0.7180 </td><td>8.780  </td><td>82.9   </td><td>1.9047 </td><td>24     </td><td>666    </td><td>20.2   </td><td>354.55 </td><td>5.29   </td><td>21.9   </td></tr>\n",
       "</tbody>\n",
       "</table>\n"
      ],
      "text/latex": [
       "\\begin{tabular}{r|llllllllllllll}\n",
       "  & crim & zn & indus & chas & nox & rm & age & dis & rad & tax & ptratio & black & lstat & medv\\\\\n",
       "\\hline\n",
       "\t98 & 0.12083 &  0      &  2.89   & 0       & 0.4450  & 8.069   & 76.0    & 3.4952  &  2      & 276     & 18.0    & 396.90  & 4.21    & 38.7   \\\\\n",
       "\t164 & 1.51902 &  0      & 19.58   & 1       & 0.6050  & 8.375   & 93.9    & 2.1620  &  5      & 403     & 14.7    & 388.45  & 3.32    & 50.0   \\\\\n",
       "\t205 & 0.02009 & 95      &  2.68   & 0       & 0.4161  & 8.034   & 31.9    & 5.1180  &  4      & 224     & 14.7    & 390.55  & 2.88    & 50.0   \\\\\n",
       "\t225 & 0.31533 &  0      &  6.20   & 0       & 0.5040  & 8.266   & 78.3    & 2.8944  &  8      & 307     & 17.4    & 385.05  & 4.14    & 44.8   \\\\\n",
       "\t226 & 0.52693 &  0      &  6.20   & 0       & 0.5040  & 8.725   & 83.0    & 2.8944  &  8      & 307     & 17.4    & 382.00  & 4.63    & 50.0   \\\\\n",
       "\t227 & 0.38214 &  0      &  6.20   & 0       & 0.5040  & 8.040   & 86.5    & 3.2157  &  8      & 307     & 17.4    & 387.38  & 3.13    & 37.6   \\\\\n",
       "\t233 & 0.57529 &  0      &  6.20   & 0       & 0.5070  & 8.337   & 73.3    & 3.8384  &  8      & 307     & 17.4    & 385.91  & 2.47    & 41.7   \\\\\n",
       "\t234 & 0.33147 &  0      &  6.20   & 0       & 0.5070  & 8.247   & 70.4    & 3.6519  &  8      & 307     & 17.4    & 378.95  & 3.95    & 48.3   \\\\\n",
       "\t254 & 0.36894 & 22      &  5.86   & 0       & 0.4310  & 8.259   &  8.4    & 8.9067  &  7      & 330     & 19.1    & 396.90  & 3.54    & 42.8   \\\\\n",
       "\t258 & 0.61154 & 20      &  3.97   & 0       & 0.6470  & 8.704   & 86.9    & 1.8010  &  5      & 264     & 13.0    & 389.70  & 5.12    & 50.0   \\\\\n",
       "\t263 & 0.52014 & 20      &  3.97   & 0       & 0.6470  & 8.398   & 91.5    & 2.2885  &  5      & 264     & 13.0    & 386.86  & 5.91    & 48.8   \\\\\n",
       "\t268 & 0.57834 & 20      &  3.97   & 0       & 0.5750  & 8.297   & 67.0    & 2.4216  &  5      & 264     & 13.0    & 384.54  & 7.44    & 50.0   \\\\\n",
       "\t365 & 3.47428 &  0      & 18.10   & 1       & 0.7180  & 8.780   & 82.9    & 1.9047  & 24      & 666     & 20.2    & 354.55  & 5.29    & 21.9   \\\\\n",
       "\\end{tabular}\n"
      ],
      "text/markdown": [
       "\n",
       "| <!--/--> | crim | zn | indus | chas | nox | rm | age | dis | rad | tax | ptratio | black | lstat | medv | \n",
       "|---|---|---|---|---|---|---|---|---|---|---|---|---|\n",
       "| 98 | 0.12083 |  0      |  2.89   | 0       | 0.4450  | 8.069   | 76.0    | 3.4952  |  2      | 276     | 18.0    | 396.90  | 4.21    | 38.7    | \n",
       "| 164 | 1.51902 |  0      | 19.58   | 1       | 0.6050  | 8.375   | 93.9    | 2.1620  |  5      | 403     | 14.7    | 388.45  | 3.32    | 50.0    | \n",
       "| 205 | 0.02009 | 95      |  2.68   | 0       | 0.4161  | 8.034   | 31.9    | 5.1180  |  4      | 224     | 14.7    | 390.55  | 2.88    | 50.0    | \n",
       "| 225 | 0.31533 |  0      |  6.20   | 0       | 0.5040  | 8.266   | 78.3    | 2.8944  |  8      | 307     | 17.4    | 385.05  | 4.14    | 44.8    | \n",
       "| 226 | 0.52693 |  0      |  6.20   | 0       | 0.5040  | 8.725   | 83.0    | 2.8944  |  8      | 307     | 17.4    | 382.00  | 4.63    | 50.0    | \n",
       "| 227 | 0.38214 |  0      |  6.20   | 0       | 0.5040  | 8.040   | 86.5    | 3.2157  |  8      | 307     | 17.4    | 387.38  | 3.13    | 37.6    | \n",
       "| 233 | 0.57529 |  0      |  6.20   | 0       | 0.5070  | 8.337   | 73.3    | 3.8384  |  8      | 307     | 17.4    | 385.91  | 2.47    | 41.7    | \n",
       "| 234 | 0.33147 |  0      |  6.20   | 0       | 0.5070  | 8.247   | 70.4    | 3.6519  |  8      | 307     | 17.4    | 378.95  | 3.95    | 48.3    | \n",
       "| 254 | 0.36894 | 22      |  5.86   | 0       | 0.4310  | 8.259   |  8.4    | 8.9067  |  7      | 330     | 19.1    | 396.90  | 3.54    | 42.8    | \n",
       "| 258 | 0.61154 | 20      |  3.97   | 0       | 0.6470  | 8.704   | 86.9    | 1.8010  |  5      | 264     | 13.0    | 389.70  | 5.12    | 50.0    | \n",
       "| 263 | 0.52014 | 20      |  3.97   | 0       | 0.6470  | 8.398   | 91.5    | 2.2885  |  5      | 264     | 13.0    | 386.86  | 5.91    | 48.8    | \n",
       "| 268 | 0.57834 | 20      |  3.97   | 0       | 0.5750  | 8.297   | 67.0    | 2.4216  |  5      | 264     | 13.0    | 384.54  | 7.44    | 50.0    | \n",
       "| 365 | 3.47428 |  0      | 18.10   | 1       | 0.7180  | 8.780   | 82.9    | 1.9047  | 24      | 666     | 20.2    | 354.55  | 5.29    | 21.9    | \n",
       "\n",
       "\n"
      ],
      "text/plain": [
       "    crim    zn indus chas nox    rm    age  dis    rad tax ptratio black  lstat\n",
       "98  0.12083  0  2.89 0    0.4450 8.069 76.0 3.4952  2  276 18.0    396.90 4.21 \n",
       "164 1.51902  0 19.58 1    0.6050 8.375 93.9 2.1620  5  403 14.7    388.45 3.32 \n",
       "205 0.02009 95  2.68 0    0.4161 8.034 31.9 5.1180  4  224 14.7    390.55 2.88 \n",
       "225 0.31533  0  6.20 0    0.5040 8.266 78.3 2.8944  8  307 17.4    385.05 4.14 \n",
       "226 0.52693  0  6.20 0    0.5040 8.725 83.0 2.8944  8  307 17.4    382.00 4.63 \n",
       "227 0.38214  0  6.20 0    0.5040 8.040 86.5 3.2157  8  307 17.4    387.38 3.13 \n",
       "233 0.57529  0  6.20 0    0.5070 8.337 73.3 3.8384  8  307 17.4    385.91 2.47 \n",
       "234 0.33147  0  6.20 0    0.5070 8.247 70.4 3.6519  8  307 17.4    378.95 3.95 \n",
       "254 0.36894 22  5.86 0    0.4310 8.259  8.4 8.9067  7  330 19.1    396.90 3.54 \n",
       "258 0.61154 20  3.97 0    0.6470 8.704 86.9 1.8010  5  264 13.0    389.70 5.12 \n",
       "263 0.52014 20  3.97 0    0.6470 8.398 91.5 2.2885  5  264 13.0    386.86 5.91 \n",
       "268 0.57834 20  3.97 0    0.5750 8.297 67.0 2.4216  5  264 13.0    384.54 7.44 \n",
       "365 3.47428  0 18.10 1    0.7180 8.780 82.9 1.9047 24  666 20.2    354.55 5.29 \n",
       "    medv\n",
       "98  38.7\n",
       "164 50.0\n",
       "205 50.0\n",
       "225 44.8\n",
       "226 50.0\n",
       "227 37.6\n",
       "233 41.7\n",
       "234 48.3\n",
       "254 42.8\n",
       "258 50.0\n",
       "263 48.8\n",
       "268 50.0\n",
       "365 21.9"
      ]
     },
     "metadata": {},
     "output_type": "display_data"
    }
   ],
   "source": [
    "sevenMORE = 0\n",
    "eightMORE = 0\n",
    "index = 0\n",
    "a = c()\n",
    "for (i in Boston$rm) {\n",
    "    index = index + 1\n",
    "    if (i > 7) {\n",
    "        sevenMORE = sevenMORE + 1\n",
    "    }\n",
    "    if (i > 8) {\n",
    "        eightMORE = eightMORE + 1\n",
    "        a[eightMORE] = index\n",
    "    }\n",
    "}\n",
    "sevenMORE\n",
    "eightMORE\n",
    "\n",
    "a\n",
    "Boston[c(a),]"
   ]
  },
  {
   "cell_type": "code",
   "execution_count": null,
   "metadata": {},
   "outputs": [],
   "source": []
  }
 ],
 "metadata": {
  "kernelspec": {
   "display_name": "R",
   "language": "R",
   "name": "ir"
  },
  "language_info": {
   "codemirror_mode": "r",
   "file_extension": ".r",
   "mimetype": "text/x-r-source",
   "name": "R",
   "pygments_lexer": "r",
   "version": "3.4.4"
  }
 },
 "nbformat": 4,
 "nbformat_minor": 2
}
