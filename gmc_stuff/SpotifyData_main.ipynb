{
 "cells": [
  {
   "cell_type": "markdown",
   "metadata": {},
   "source": [
    "# Spotify Audio Analysis\n",
    "Explanation of Variables [here](https://developer.spotify.com/documentation/web-api/reference/tracks/get-several-audio-features/)"
   ]
  },
  {
   "cell_type": "code",
   "execution_count": 1,
   "metadata": {},
   "outputs": [],
   "source": [
    "dat = read.csv('nothing_faith.csv')\n",
    "test_dat = read.csv('labeled_data.csv')\n",
    "attach(dat)"
   ]
  },
  {
   "cell_type": "code",
   "execution_count": 3,
   "metadata": {},
   "outputs": [
    {
     "data": {
      "text/html": [
       "'list'"
      ],
      "text/latex": [
       "'list'"
      ],
      "text/markdown": [
       "'list'"
      ],
      "text/plain": [
       "[1] \"list\""
      ]
     },
     "metadata": {},
     "output_type": "display_data"
    },
    {
     "data": {
      "text/html": [
       "<ol class=list-inline>\n",
       "\t<li>200</li>\n",
       "\t<li>20</li>\n",
       "</ol>\n"
      ],
      "text/latex": [
       "\\begin{enumerate*}\n",
       "\\item 200\n",
       "\\item 20\n",
       "\\end{enumerate*}\n"
      ],
      "text/markdown": [
       "1. 200\n",
       "2. 20\n",
       "\n",
       "\n"
      ],
      "text/plain": [
       "[1] 200  20"
      ]
     },
     "metadata": {},
     "output_type": "display_data"
    }
   ],
   "source": [
    "typeof(dat)\n",
    "dim(dat)"
   ]
  },
  {
   "cell_type": "code",
   "execution_count": null,
   "metadata": {
    "scrolled": false
   },
   "outputs": [],
   "source": [
    "summary(dat)\n",
    "summary(test_dat)"
   ]
  },
  {
   "cell_type": "code",
   "execution_count": null,
   "metadata": {
    "scrolled": false
   },
   "outputs": [],
   "source": [
    "# summary(dat)\n",
    "# dat = dat[,-1]\n",
    "# names(dat)\n",
    "dat[101:105,]\n",
    "dat[1:5,]\n",
    "# test_dat[195:200,]\n",
    "# dat[101:105,]"
   ]
  },
  {
   "cell_type": "code",
   "execution_count": null,
   "metadata": {},
   "outputs": [],
   "source": [
    "# I left the uri in there so you can copy and paste it into the Spotify search bar and listen to\n",
    "# some funky fresh tunes :)\n",
    "dat[1:5,1:8]\n",
    "dat[1:5,9:15]"
   ]
  },
  {
   "cell_type": "code",
   "execution_count": null,
   "metadata": {},
   "outputs": [],
   "source": [
    "pairs(dat)"
   ]
  },
  {
   "cell_type": "code",
   "execution_count": null,
   "metadata": {},
   "outputs": [],
   "source": [
    "length(energy)"
   ]
  },
  {
   "cell_type": "code",
   "execution_count": null,
   "metadata": {},
   "outputs": [],
   "source": [
    "#looks like loudness and energy positively correlate!\n",
    "plot(energy[1:100], loudness[1:100], col='red', xlab=\"energy\", ylab=\"loudness\") #good\n",
    "points(energy[101:200], loudness[101:200], col='blue') #bad\n",
    "# points(energy[201:300], loudness[101:200], col='green') #ok"
   ]
  },
  {
   "cell_type": "markdown",
   "metadata": {},
   "source": [
    "Let's just work with binary classes for now (good and bad):"
   ]
  },
  {
   "cell_type": "code",
   "execution_count": null,
   "metadata": {},
   "outputs": [],
   "source": [
    "new_dat = dat[1:200,]\n",
    "okay_dat = dat[201:300,]"
   ]
  },
  {
   "cell_type": "code",
   "execution_count": null,
   "metadata": {},
   "outputs": [],
   "source": [
    "names(dat)"
   ]
  },
  {
   "cell_type": "code",
   "execution_count": null,
   "metadata": {},
   "outputs": [],
   "source": [
    "logModelA = glm(class~danceability,\n",
    "                data=test_dat, family='binomial')"
   ]
  },
  {
   "cell_type": "code",
   "execution_count": null,
   "metadata": {},
   "outputs": [],
   "source": [
    "logModelA"
   ]
  },
  {
   "cell_type": "code",
   "execution_count": null,
   "metadata": {},
   "outputs": [],
   "source": [
    "logModel.probs = predict(logModelA, test_dat, type='response')\n",
    "logModel.preds=rep('bad', dim(okay_dat)[1])\n",
    "\n",
    "logModel.preds[logModel.probs>.75]='good'\n",
    "logModel.preds[logModel.probs<.75]='okay'\n",
    "logModel.preds[logModel.probs<.25]='bad'"
   ]
  },
  {
   "cell_type": "code",
   "execution_count": null,
   "metadata": {
    "scrolled": true
   },
   "outputs": [],
   "source": [
    "logModel.preds"
   ]
  },
  {
   "cell_type": "code",
   "execution_count": null,
   "metadata": {},
   "outputs": [],
   "source": [
    "test_dat$class = logModel.preds"
   ]
  },
  {
   "cell_type": "code",
   "execution_count": null,
   "metadata": {},
   "outputs": [],
   "source": [
    "#wasn't sure how to only print out the URI and class..\n",
    "test_dat[1:5,]"
   ]
  },
  {
   "cell_type": "markdown",
   "metadata": {},
   "source": [
    "# THIS IS ACTUALLY SO EXCITING WOW IF I WEREN'T IN PUBLIC I'D PROBABLY BE SCREAMING OR SOMETHING"
   ]
  },
  {
   "cell_type": "markdown",
   "metadata": {},
   "source": [
    "The goal of this project is to be able to input a Spotify URI and then classify the song as ```good```, ```okay```, or ```bad``` based on it's audio features. I want to make this super-app-y at a Hackathon that I'm going to this weekend (sorry going to miss class on Monday :( ) but THIS IS REALLY EXCITING.\n",
    "\n",
    "There were some Spotify API logic things that I need to handle--one call to recieve song features has a limit of 100 songs, so I need to find ways to handle that--which is why there's only 100 of each category right now. I wanted to throw something together really quick but I'll be doing more in depth analysis later on.\n",
    "\n",
    "I didn't actually train my model on my 'okay' classes, but instead used that as my 'testing set'. The way I classified my songs:\n",
    "\n",
    "I generally get tired of playing the same songs over and over again, so I usually create Spotify playlists by date (i.e: ```1/31/18 - 3/25/18```, ```3/25/18 - 5/25/18```, ...)  \n",
    "\n",
    "__Good__ songs are songs that were able to make it through at least two playlists. So if I didn't get tired of a song by the time I created my next time period playlist, I classified that as a good song.\n",
    "\n",
    "__Okay__ songs did not make it through to a next time period. I got tired of the song by the end of the ~2 months.\n",
    "\n",
    "__Bad__ songs are mostly just the hit country songs that I found on a random playlist on Spoot (tbh I didn't even listen to it). Also EDM.\n",
    "\n",
    "Going in and plugging in the songs that were classified as bad, I found that this those songs were pretty outlier-ish. Fitz and the Tantrum does lean towards dance-y electronic-y music, so it makes sense that it was classified as bad. Songs that were classified as good, I thought to myself, 'Oh! I did really like this song a while ago' or something like that. \n",
    "\n",
    "I am concerned that this project is a little too opinion-based and I that I will have really bad confirmation bias--maybe this model is utter trash, but I keep telling myself that this is really awesome, but IT IS."
   ]
  },
  {
   "cell_type": "code",
   "execution_count": null,
   "metadata": {},
   "outputs": [],
   "source": [
    "logModel.probs = predict(logModelA, dat, type='response')\n",
    "logModel.preds=rep('good', dim(dat)[1])\n",
    "\n",
    "# logModel.preds[logModel.probs<.75]='good'\n",
    "logModel.preds[logModel.probs<.75]='okay'\n",
    "logModel.preds[logModel.probs<.25]='bad'"
   ]
  },
  {
   "cell_type": "code",
   "execution_count": null,
   "metadata": {},
   "outputs": [],
   "source": [
    "dat['prediction'] = logModel.preds\n",
    "dat['prob'] = logModel.probs"
   ]
  },
  {
   "cell_type": "code",
   "execution_count": null,
   "metadata": {},
   "outputs": [],
   "source": [
    "summary(logModel.probs[1:100])\n",
    "summary(logModel.probs[101:200])\n",
    "summary(logModel.probs[201:300])\n",
    "match(max(logModel.probs[101:200]), logModel.probs)"
   ]
  },
  {
   "cell_type": "code",
   "execution_count": null,
   "metadata": {},
   "outputs": [],
   "source": [
    "dat[50:60, 12:17]\n",
    "dat[150:160, 12:17]\n",
    "dat[250:260, 12:17]"
   ]
  },
  {
   "cell_type": "code",
   "execution_count": null,
   "metadata": {},
   "outputs": [],
   "source": [
    "logModelA = 5\n",
    "logModelA"
   ]
  },
  {
   "cell_type": "code",
   "execution_count": null,
   "metadata": {},
   "outputs": [],
   "source": [
    "model= load(\"/home/mighty/gmc/gmc-backend/models/nothing_faith.rda\")"
   ]
  },
  {
   "cell_type": "code",
   "execution_count": null,
   "metadata": {},
   "outputs": [],
   "source": [
    "logModelA"
   ]
  },
  {
   "cell_type": "markdown",
   "metadata": {},
   "source": [
    "## Trying to connect to PostgreSQL Server"
   ]
  },
  {
   "cell_type": "code",
   "execution_count": null,
   "metadata": {},
   "outputs": [],
   "source": [
    "install.packages(\"RPostgreSQL\")"
   ]
  },
  {
   "cell_type": "code",
   "execution_count": null,
   "metadata": {},
   "outputs": [],
   "source": [
    "require(RPostgreSQL)"
   ]
  },
  {
   "cell_type": "code",
   "execution_count": null,
   "metadata": {},
   "outputs": [],
   "source": [
    "drv <- dbDriver(\"PostgreSQL\")"
   ]
  },
  {
   "cell_type": "code",
   "execution_count": null,
   "metadata": {},
   "outputs": [],
   "source": [
    "con <- dbConnect(drv, dbname = 'd8hpli4tp47ijj',\n",
    "                host=\"ec2-107-20-183-142.compute-1.amazonaws.com\",\n",
    "                port=5432,\n",
    "                user=\"bzhnjcntyqxppx\",\n",
    "                password=\"c2910c0a80c3702108e24a12c11c1a6f7ab0a9ddfbd0ed7d63cb7b7707f32938\")"
   ]
  },
  {
   "cell_type": "code",
   "execution_count": null,
   "metadata": {},
   "outputs": [],
   "source": [
    "dbExistsTable(con, \"test_msgs\")"
   ]
  },
  {
   "cell_type": "code",
   "execution_count": null,
   "metadata": {},
   "outputs": [],
   "source": [
    "myTable <- dbReadTable(con,c(\"test_msgs\"))"
   ]
  },
  {
   "cell_type": "code",
   "execution_count": null,
   "metadata": {},
   "outputs": [],
   "source": [
    "myTable"
   ]
  },
  {
   "cell_type": "code",
   "execution_count": null,
   "metadata": {},
   "outputs": [],
   "source": [
    "res <- dbSendQuery(con, statement=paste(\"\n",
    "INSERT INTO test_msgs VALUES ('Yo.', 'hello from R')\")); "
   ]
  },
  {
   "cell_type": "code",
   "execution_count": null,
   "metadata": {},
   "outputs": [],
   "source": [
    "name = \"Poo\"\n",
    "msg = \"msgesgsd\""
   ]
  },
  {
   "cell_type": "code",
   "execution_count": null,
   "metadata": {},
   "outputs": [],
   "source": [
    "res <- dbSendQuery(con, statement=paste(\"\n",
    "INSERT INTO test_msgs VALUES ('\",name,\"','\",msg,\"')\")); "
   ]
  },
  {
   "cell_type": "markdown",
   "metadata": {},
   "source": [
    "### Blobs/Bytea"
   ]
  },
  {
   "cell_type": "code",
   "execution_count": null,
   "metadata": {},
   "outputs": [],
   "source": [
    "model"
   ]
  },
  {
   "cell_type": "code",
   "execution_count": null,
   "metadata": {},
   "outputs": [],
   "source": [
    "x <- serialize(logModelA, NULL, ascii=TRUE)"
   ]
  },
  {
   "cell_type": "code",
   "execution_count": null,
   "metadata": {},
   "outputs": [],
   "source": [
    "person = \"Mighty\"\n",
    "person"
   ]
  },
  {
   "cell_type": "code",
   "execution_count": null,
   "metadata": {},
   "outputs": [],
   "source": [
    "query=sprintf(\"SELECT * \n",
    "        FROM test_msgs \n",
    "        WHERE person = '%s'\", person)\n",
    "\n",
    "dbClearResult(res)\n",
    "res <- dbSendQuery(con, statement=query);\n",
    "dbFetch(res)"
   ]
  },
  {
   "cell_type": "code",
   "execution_count": null,
   "metadata": {},
   "outputs": [],
   "source": [
    "x <- serialize(list(1,2,3), NULL)"
   ]
  },
  {
   "cell_type": "code",
   "execution_count": null,
   "metadata": {},
   "outputs": [],
   "source": [
    "x_conv <- as.character(x)\n",
    "x_conv\n",
    "x_collapse = paste(x_conv, collapse=\",\")\n",
    "x_collapse = paste(\"{\", x_collapse,\"}\", sep=\"\")\n",
    "x_collapse"
   ]
  },
  {
   "cell_type": "code",
   "execution_count": null,
   "metadata": {},
   "outputs": [],
   "source": [
    "# query = sprintf(\"INSERT INTO test_bytea VALUES (12, decode('%s', 'hex'))\", x_conv)\n",
    "query = sprintf(\"INSERT INTO test_bytea VALUES (2, '%s')\", x_collapse)\n",
    "res <- dbSendQuery(con, statement=query); "
   ]
  },
  {
   "cell_type": "code",
   "execution_count": null,
   "metadata": {},
   "outputs": [],
   "source": [
    "# query=sprintf(\"SELECT encode(model, 'hex') \n",
    "#         FROM test_bytea\n",
    "#         WHERE id=12\")\n",
    "query = sprintf(\"SELECT * FROM test_bytea WHERE id=2\")\n",
    "\n",
    "dbClearResult(res)\n",
    "res <- dbSendQuery(con, statement=query);\n",
    "z = dbFetch(res)\n",
    "z"
   ]
  },
  {
   "cell_type": "code",
   "execution_count": null,
   "metadata": {},
   "outputs": [],
   "source": [
    "y = strsplit(z$model, \",\")[[1]]\n",
    "y[1] = substring(y[1], 2)\n",
    "y[length(y)] = substring(y[length(y)], 1, nchar(y[length(y)]) - 1)\n",
    "y"
   ]
  },
  {
   "cell_type": "code",
   "execution_count": null,
   "metadata": {},
   "outputs": [],
   "source": [
    "new = as.raw(as.hexmode(y))\n",
    "unserialize(new)"
   ]
  },
  {
   "cell_type": "markdown",
   "metadata": {},
   "source": [
    "## Final"
   ]
  },
  {
   "cell_type": "markdown",
   "metadata": {},
   "source": [
    "Serialize the logistic model into raw bits."
   ]
  },
  {
   "cell_type": "code",
   "execution_count": null,
   "metadata": {},
   "outputs": [],
   "source": [
    "x <- serialize(logModelA, NULL)"
   ]
  },
  {
   "cell_type": "markdown",
   "metadata": {},
   "source": [
    "Save the bits as a string (? this is inefficient..)"
   ]
  },
  {
   "cell_type": "code",
   "execution_count": null,
   "metadata": {},
   "outputs": [],
   "source": [
    "x_conv <- as.character(x)\n",
    "x_collapse = paste(x_conv, collapse=\",\")\n",
    "x_collapse = paste(\"{\", x_collapse,\"}\", sep=\"\")"
   ]
  },
  {
   "cell_type": "code",
   "execution_count": null,
   "metadata": {},
   "outputs": [],
   "source": [
    "query = sprintf(\"INSERT INTO test_bytea VALUES (3,'%s')\", x_collapse)\n",
    "res <- dbSendQuery(con, statement=query); "
   ]
  },
  {
   "cell_type": "code",
   "execution_count": null,
   "metadata": {},
   "outputs": [],
   "source": [
    "query = sprintf(\"SELECT * FROM test_bytea WHERE id=3\")\n",
    "\n",
    "dbClearResult(res)\n",
    "res <- dbSendQuery(con, statement=query);\n",
    "z = dbFetch(res)\n",
    "z"
   ]
  },
  {
   "cell_type": "code",
   "execution_count": null,
   "metadata": {},
   "outputs": [],
   "source": [
    "y = strsplit(z$model, \",\")[[1]]\n",
    "y[1] = substring(y[1], 2)\n",
    "y[length(y)] = substring(y[length(y)], 1, nchar(y[length(y)]) - 1)"
   ]
  },
  {
   "cell_type": "code",
   "execution_count": null,
   "metadata": {},
   "outputs": [],
   "source": [
    "new = as.raw(as.hexmode(y))\n",
    "unserialize(new)"
   ]
  },
  {
   "cell_type": "code",
   "execution_count": null,
   "metadata": {},
   "outputs": [],
   "source": []
  }
 ],
 "metadata": {
  "kernelspec": {
   "display_name": "R",
   "language": "R",
   "name": "ir"
  },
  "language_info": {
   "codemirror_mode": "r",
   "file_extension": ".r",
   "mimetype": "text/x-r-source",
   "name": "R",
   "pygments_lexer": "r",
   "version": "3.5.1"
  }
 },
 "nbformat": 4,
 "nbformat_minor": 2
}
