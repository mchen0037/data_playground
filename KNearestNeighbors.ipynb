{
 "cells": [
  {
   "cell_type": "markdown",
   "metadata": {},
   "source": [
    "# K Nearest Neighbors"
   ]
  },
  {
   "cell_type": "markdown",
   "metadata": {},
   "source": [
    "Generate some data for two classes, A and B. A will be clustered around (1, 4) and B will be clustered around (4, 1)."
   ]
  },
  {
   "cell_type": "code",
   "execution_count": 50,
   "metadata": {},
   "outputs": [],
   "source": [
    "import numpy as np\n",
    "import matplotlib.pyplot as plt"
   ]
  },
  {
   "cell_type": "code",
   "execution_count": 51,
   "metadata": {},
   "outputs": [],
   "source": [
    "Ax = np.random.normal(1, 1.5, 100)\n",
    "Ay = np.random.normal(4, 1.5, 100)\n",
    "Bx = np.random.normal(4, 1.5, 100)\n",
    "By = np.random.normal(1, 1.5, 100)\n",
    "\n",
    "A = np.column_stack((Ax, Ay))\n",
    "B = np.column_stack((Bx, By))\n",
    "\n",
    "dataset = np.vstack((A, B))\n",
    "labels = []\n",
    "for i in range (0, 100):\n",
    "    labels.append('A')\n",
    "for i in range (0, 100):\n",
    "    labels.append('B')"
   ]
  },
  {
   "cell_type": "markdown",
   "metadata": {},
   "source": [
    "Plot the data:"
   ]
  },
  {
   "cell_type": "code",
   "execution_count": 41,
   "metadata": {},
   "outputs": [
    {
     "data": {
      "text/plain": [
       "[<matplotlib.lines.Line2D at 0x7f7d0c11fc50>]"
      ]
     },
     "execution_count": 41,
     "metadata": {},
     "output_type": "execute_result"
    },
    {
     "data": {
      "image/png": "[encoded data removed]",
      "text/plain": [
       "<Figure size 432x288 with 1 Axes>"
      ]
     },
     "metadata": {},
     "output_type": "display_data"
    }
   ],
   "source": [
    "arr1 = dataset[:100]\n",
    "plt.plot(arr1[:,0], arr1[:,1], 'bo')\n",
    "arr2 = dataset[101:200]\n",
    "plt.plot(arr2[:,0], arr2[:,1], 'ro')"
   ]
  },
  {
   "cell_type": "markdown",
   "metadata": {},
   "source": [
    "Suppose I wanted to classify the point (Px, Py), which is shown in green."
   ]
  },
  {
   "cell_type": "code",
   "execution_count": 46,
   "metadata": {},
   "outputs": [
    {
     "data": {
      "text/plain": [
       "[<matplotlib.lines.Line2D at 0x7f7d0c049e10>]"
      ]
     },
     "execution_count": 46,
     "metadata": {},
     "output_type": "execute_result"
    },
    {
     "data": {
      "image/png": "[encoded data removed]",
      "text/plain": [
       "<Figure size 432x288 with 1 Axes>"
      ]
     },
     "metadata": {},
     "output_type": "display_data"
    }
   ],
   "source": [
    "Px = 2\n",
    "Py = 2\n",
    "\n",
    "plt.plot(arr1[:,0], arr1[:,1], 'bo')\n",
    "plt.plot(arr2[:,0], arr2[:,1], 'ro')\n",
    "plt.plot(Px, Py, 'go')"
   ]
  },
  {
   "cell_type": "markdown",
   "metadata": {},
   "source": [
    "An intuitive way to determine which class it belongs to: Find its nearest neighbor, using the distance formula for each point in the data set."
   ]
  },
  {
   "cell_type": "code",
   "execution_count": 47,
   "metadata": {},
   "outputs": [
    {
     "data": {
      "text/plain": [
       "144"
      ]
     },
     "execution_count": 47,
     "metadata": {},
     "output_type": "execute_result"
    }
   ],
   "source": [
    "dists = ( ((dataset[:,0] - Px) ** 2) + ((dataset[:,1] - Py) ** 2) ) ** 1/2\n",
    "nearestNeighbor = np.argmin(dists)\n",
    "nearestNeighbor"
   ]
  },
  {
   "cell_type": "code",
   "execution_count": 48,
   "metadata": {},
   "outputs": [
    {
     "name": "stdout",
     "output_type": "stream",
     "text": [
      "The nearest neighbor is B, so (Px, Py) is classified as B\n"
     ]
    }
   ],
   "source": [
    "print('The nearest neighbor is ' + labels[nearestNeighbor] + ', so (Px, Py) is classified as ' + labels[nearestNeighbor])"
   ]
  },
  {
   "cell_type": "markdown",
   "metadata": {},
   "source": [
    "The closest dot is assumed to have the same class as the new dot. But what if the closest dot was a noisy point? This is where 'K-nearest' neighbors comes into play. Just now, we used k = 1, where we only looked the 1 closest neighbor. But if we consider 2, 3, 4, ... neighbors, we might be more accurate."
   ]
  },
  {
   "cell_type": "code",
   "execution_count": 49,
   "metadata": {},
   "outputs": [
    {
     "name": "stdout",
     "output_type": "stream",
     "text": [
      "The 3 nearest neighbors to (2, 2) are: \n",
      "\tB\n",
      "\tB\n",
      "\tA\n"
     ]
    }
   ],
   "source": [
    "k = 3\n",
    "nearestNeighbors = np.argpartition(dists, k)\n",
    "print('The ' + str(k) + ' nearest neighbors to (' + str(Px) + ', ' + str(Py) + ') are: ')\n",
    "for q in range (0, k):\n",
    "    print('\\t' + labels[nearestNeighbors[q]])"
   ]
  },
  {
   "cell_type": "code",
   "execution_count": null,
   "metadata": {},
   "outputs": [],
   "source": []
  }
 ],
 "metadata": {
  "kernelspec": {
   "display_name": "Python 3",
   "language": "python",
   "name": "python3"
  },
  "language_info": {
   "codemirror_mode": {
    "name": "ipython",
    "version": 3
   },
   "file_extension": ".py",
   "mimetype": "text/x-python",
   "name": "python",
   "nbconvert_exporter": "python",
   "pygments_lexer": "ipython3",
   "version": "3.6.5"
  }
 },
 "nbformat": 4,
 "nbformat_minor": 2
}
