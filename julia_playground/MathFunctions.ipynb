{
 "cells": [
  {
   "cell_type": "code",
   "execution_count": 1,
   "metadata": {},
   "outputs": [
    {
     "data": {
      "text/plain": [
       "0.001"
      ]
     },
     "execution_count": 1,
     "metadata": {},
     "output_type": "execute_result"
    }
   ],
   "source": [
    "const NDEPS = 0.001"
   ]
  },
  {
   "cell_type": "code",
   "execution_count": 24,
   "metadata": {},
   "outputs": [
    {
     "data": {
      "text/plain": [
       "same_time (generic function with 1 method)"
      ]
     },
     "execution_count": 24,
     "metadata": {},
     "output_type": "execute_result"
    }
   ],
   "source": [
    "function same_time(x, y)\n",
    "    x = x - y\n",
    "    print(x)\n",
    "    return (abs(x) <= abs(NDEPS)) ? true : false\n",
    "end"
   ]
  },
  {
   "cell_type": "code",
   "execution_count": 45,
   "metadata": {},
   "outputs": [
    {
     "data": {
      "text/plain": [
       "between (generic function with 1 method)"
      ]
     },
     "execution_count": 45,
     "metadata": {},
     "output_type": "execute_result"
    }
   ],
   "source": [
    "function between(l, x, r)\n",
    "    return ((l <= x && x <= r) || (l >= x && x >= r))\n",
    "end"
   ]
  },
  {
   "cell_type": "code",
   "execution_count": 47,
   "metadata": {},
   "outputs": [
    {
     "data": {
      "text/plain": [
       "dist2 (generic function with 1 method)"
      ]
     },
     "execution_count": 47,
     "metadata": {},
     "output_type": "execute_result"
    }
   ],
   "source": [
    "function dist2(ra1, dec1, ra2, dec2)\n",
    "    l = ((ra1 - ra2) * cos(dec1 * PI / 180.0))\n",
    "    r= (dec1 - dec2)\n",
    "    return l * l + r * r\n",
    "end"
   ]
  },
  {
   "cell_type": "code",
   "execution_count": 78,
   "metadata": {},
   "outputs": [
    {
     "data": {
      "text/plain": [
       "linear_regression_slope (generic function with 1 method)"
      ]
     },
     "execution_count": 78,
     "metadata": {},
     "output_type": "execute_result"
    }
   ],
   "source": [
    "function linear_regression_slope(x, y)\n",
    "    n = length(x)\n",
    "    s_x = sum(x)\n",
    "    s_y = sum(y)\n",
    "    s_xx = x'x\n",
    "    s_xy = x'y\n",
    "    a = (n * s_xy - s_x * s_y) / (n * s_xx - s_x * s_x)\n",
    "    return a\n",
    "end "
   ]
  },
  {
   "cell_type": "code",
   "execution_count": 82,
   "metadata": {},
   "outputs": [
    {
     "data": {
      "text/plain": [
       "linear_regression_intercept (generic function with 2 methods)"
      ]
     },
     "execution_count": 82,
     "metadata": {},
     "output_type": "execute_result"
    }
   ],
   "source": [
    "function linear_regression_intercept(x, y, slope)\n",
    "    n = length(x)\n",
    "    s_x = sum(x)\n",
    "    s_y = sum(y)\n",
    "    a = (s_y - slope * s_x) / n\n",
    "    return a\n",
    "end"
   ]
  },
  {
   "cell_type": "code",
   "execution_count": 123,
   "metadata": {},
   "outputs": [
    {
     "data": {
      "text/plain": [
       "least_squares (generic function with 1 method)"
      ]
     },
     "execution_count": 123,
     "metadata": {},
     "output_type": "execute_result"
    }
   ],
   "source": [
    "function least_squares(x, y, k, b)\n",
    "    accum = 0\n",
    "    for i in 1:length(x)\n",
    "        accum += (k * x[i] + b - y[i])^2\n",
    "    end\n",
    "    return accum\n",
    "end"
   ]
  },
  {
   "cell_type": "code",
   "execution_count": 130,
   "metadata": {},
   "outputs": [
    {
     "data": {
      "text/plain": [
       "linear_regression_avg_err (generic function with 1 method)"
      ]
     },
     "execution_count": 130,
     "metadata": {},
     "output_type": "execute_result"
    }
   ],
   "source": [
    "function linear_regression_avg_err(x, y)\n",
    "    if (length(x) >= 4)\n",
    "        if (x[length(x)] - x[2] > 2)\n",
    "            return 1e20\n",
    "        end\n",
    "    end\n",
    "    \n",
    "    k = linear_regression_slope(x,y)\n",
    "    b = linear_regression_intercept(x,y,k)\n",
    "    err = least_squares(x,y,k,b)\n",
    "    avg_err = err / length(x)\n",
    "    \n",
    "    return avg_err\n",
    "end"
   ]
  },
  {
   "cell_type": "code",
   "execution_count": 131,
   "metadata": {},
   "outputs": [
    {
     "data": {
      "text/plain": [
       "0.00023809523809523853"
      ]
     },
     "execution_count": 131,
     "metadata": {},
     "output_type": "execute_result"
    }
   ],
   "source": [
    "x = [1.0, 1.2, 1.3]\n",
    "y = [2.2, 2.3, 2.4]\n",
    "slope = linear_regression_slope(x, y)\n",
    "inter = linear_regression_intercept(x, y, slope)\n",
    "least_squares(x, y, slope, inter)\n",
    "linear_regression_avg_err(x, y)"
   ]
  }
 ],
 "metadata": {
  "kernelspec": {
   "display_name": "Julia 1.0.0",
   "language": "julia",
   "name": "julia-1.0"
  },
  "language_info": {
   "file_extension": ".jl",
   "mimetype": "application/julia",
   "name": "julia",
   "version": "1.0.0"
  }
 },
 "nbformat": 4,
 "nbformat_minor": 2
}
