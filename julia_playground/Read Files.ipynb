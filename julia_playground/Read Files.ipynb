{
 "cells": [
  {
   "cell_type": "markdown",
   "metadata": {},
   "source": [
    "## Reading Files, CSV, Data Frames"
   ]
  },
  {
   "cell_type": "code",
   "execution_count": 1,
   "metadata": {},
   "outputs": [
    {
     "name": "stdout",
     "output_type": "stream",
     "text": [
      "hello\n",
      "this\n",
      "is\n",
      "a\n",
      "file\n",
      "reading\n",
      "example.\n"
     ]
    },
    {
     "data": {
      "text/plain": [
       "(0.067610315, 7)"
      ]
     },
     "execution_count": 1,
     "metadata": {},
     "output_type": "execute_result"
    }
   ],
   "source": [
    "open(\"files/foo.txt\") do f\n",
    "    linecounter = 0\n",
    "    timetaken = @elapsed for l in eachline(f)\n",
    "        println(l)\n",
    "        linecounter += 1\n",
    "    end\n",
    "    (timetaken, linecounter)\n",
    "end"
   ]
  },
  {
   "cell_type": "code",
   "execution_count": 3,
   "metadata": {},
   "outputs": [
    {
     "data": {
      "text/plain": [
       "\"ra,dec,jd,magpsf,rb,candid\\n1.777808,0.222164,2451544.611111,19.855493,0.513376,269\\n0.222485,0.444523,2451544.611111,19.646868,0.690401,274\\n0.444503,0.444542,2451544.611111,19.005060,0.173651,276\\n0.666922,0.444333,2451544.611111,18.455339,0.120436,277\\n0.888875,0.444490,2451544.611111,20.351181,0.193783,281\\n1.111380,0.444603,2451544.611111,20.044503,0.022967,283\\n1.333305,0.444714,2451544.611111,18.960792,0.939590,287\\n1.555747,0.444346,2451544.611111,19.118050,0.978303,289\\n1.777635,0.444659,2451544.611111,18.658810,0.147308,290\\n2.000166,0.444700,2451544.611111,19.938976,0.391935,291\\n\""
      ]
     },
     "execution_count": 3,
     "metadata": {},
     "output_type": "execute_result"
    }
   ],
   "source": [
    "s = open(\"files/test_10.csv\") do file\n",
    "    read(file, String)\n",
    "end"
   ]
  },
  {
   "cell_type": "code",
   "execution_count": 4,
   "metadata": {},
   "outputs": [],
   "source": [
    "#using Pkg\n",
    "#Pkg.add(\"CSV\")"
   ]
  },
  {
   "cell_type": "code",
   "execution_count": 5,
   "metadata": {},
   "outputs": [
    {
     "name": "stderr",
     "output_type": "stream",
     "text": [
      "┌ Info: Precompiling CSV [336ed68f-0bac-5ca0-87d4-7b16caf5d00b]\n",
      "└ @ Base loading.jl:1186\n"
     ]
    },
    {
     "data": {
      "text/html": [
       "<table class=\"data-frame\"><thead><tr><th></th><th>ra</th><th>dec</th><th>jd</th><th>magpsf</th><th>rb</th><th>candid</th></tr><tr><th></th><th>Float64⍰</th><th>Float64⍰</th><th>Float64⍰</th><th>Float64⍰</th><th>Float64⍰</th><th>Int64⍰</th></tr></thead><tbody><tr><th>1</th><td>1.77781</td><td>0.222164</td><td>2.45154e6</td><td>19.8555</td><td>0.513376</td><td>269</td></tr><tr><th>2</th><td>0.222485</td><td>0.444523</td><td>2.45154e6</td><td>19.6469</td><td>0.690401</td><td>274</td></tr><tr><th>3</th><td>0.444503</td><td>0.444542</td><td>2.45154e6</td><td>19.0051</td><td>0.173651</td><td>276</td></tr><tr><th>4</th><td>0.666922</td><td>0.444333</td><td>2.45154e6</td><td>18.4553</td><td>0.120436</td><td>277</td></tr><tr><th>5</th><td>0.888875</td><td>0.44449</td><td>2.45154e6</td><td>20.3512</td><td>0.193783</td><td>281</td></tr><tr><th>6</th><td>1.11138</td><td>0.444603</td><td>2.45154e6</td><td>20.0445</td><td>0.022967</td><td>283</td></tr><tr><th>7</th><td>1.3333</td><td>0.444714</td><td>2.45154e6</td><td>18.9608</td><td>0.93959</td><td>287</td></tr><tr><th>8</th><td>1.55575</td><td>0.444346</td><td>2.45154e6</td><td>19.1181</td><td>0.978303</td><td>289</td></tr><tr><th>9</th><td>1.77764</td><td>0.444659</td><td>2.45154e6</td><td>18.6588</td><td>0.147308</td><td>290</td></tr><tr><th>10</th><td>2.00017</td><td>0.4447</td><td>2.45154e6</td><td>19.939</td><td>0.391935</td><td>291</td></tr></tbody></table>"
      ],
      "text/latex": [
       "\\begin{tabular}{r|cccccc}\n",
       "\t& ra & dec & jd & magpsf & rb & candid\\\\\n",
       "\t\\hline\n",
       "\t1 & 1.77781 & 0.222164 & 2.45154e6 & 19.8555 & 0.513376 & 269 \\\\\n",
       "\t2 & 0.222485 & 0.444523 & 2.45154e6 & 19.6469 & 0.690401 & 274 \\\\\n",
       "\t3 & 0.444503 & 0.444542 & 2.45154e6 & 19.0051 & 0.173651 & 276 \\\\\n",
       "\t4 & 0.666922 & 0.444333 & 2.45154e6 & 18.4553 & 0.120436 & 277 \\\\\n",
       "\t5 & 0.888875 & 0.44449 & 2.45154e6 & 20.3512 & 0.193783 & 281 \\\\\n",
       "\t6 & 1.11138 & 0.444603 & 2.45154e6 & 20.0445 & 0.022967 & 283 \\\\\n",
       "\t7 & 1.3333 & 0.444714 & 2.45154e6 & 18.9608 & 0.93959 & 287 \\\\\n",
       "\t8 & 1.55575 & 0.444346 & 2.45154e6 & 19.1181 & 0.978303 & 289 \\\\\n",
       "\t9 & 1.77764 & 0.444659 & 2.45154e6 & 18.6588 & 0.147308 & 290 \\\\\n",
       "\t10 & 2.00017 & 0.4447 & 2.45154e6 & 19.939 & 0.391935 & 291 \\\\\n",
       "\\end{tabular}\n"
      ],
      "text/plain": [
       "10×6 DataFrames.DataFrame\n",
       "│ Row │ ra       │ dec      │ jd        │ magpsf   │ rb       │ candid │\n",
       "│     │ \u001b[90mFloat64⍰\u001b[39m │ \u001b[90mFloat64⍰\u001b[39m │ \u001b[90mFloat64⍰\u001b[39m  │ \u001b[90mFloat64⍰\u001b[39m │ \u001b[90mFloat64⍰\u001b[39m │ \u001b[90mInt64⍰\u001b[39m │\n",
       "├─────┼──────────┼──────────┼───────────┼──────────┼──────────┼────────┤\n",
       "│ 1   │ 1.77781  │ 0.222164 │ 2.45154e6 │ 19.8555  │ 0.513376 │ 269    │\n",
       "│ 2   │ 0.222485 │ 0.444523 │ 2.45154e6 │ 19.6469  │ 0.690401 │ 274    │\n",
       "│ 3   │ 0.444503 │ 0.444542 │ 2.45154e6 │ 19.0051  │ 0.173651 │ 276    │\n",
       "│ 4   │ 0.666922 │ 0.444333 │ 2.45154e6 │ 18.4553  │ 0.120436 │ 277    │\n",
       "│ 5   │ 0.888875 │ 0.44449  │ 2.45154e6 │ 20.3512  │ 0.193783 │ 281    │\n",
       "│ 6   │ 1.11138  │ 0.444603 │ 2.45154e6 │ 20.0445  │ 0.022967 │ 283    │\n",
       "│ 7   │ 1.3333   │ 0.444714 │ 2.45154e6 │ 18.9608  │ 0.93959  │ 287    │\n",
       "│ 8   │ 1.55575  │ 0.444346 │ 2.45154e6 │ 19.1181  │ 0.978303 │ 289    │\n",
       "│ 9   │ 1.77764  │ 0.444659 │ 2.45154e6 │ 18.6588  │ 0.147308 │ 290    │\n",
       "│ 10  │ 2.00017  │ 0.4447   │ 2.45154e6 │ 19.939   │ 0.391935 │ 291    │"
      ]
     },
     "execution_count": 5,
     "metadata": {},
     "output_type": "execute_result"
    }
   ],
   "source": [
    "using CSV\n",
    "csv = CSV.read(\"files/test_10.csv\")"
   ]
  },
  {
   "cell_type": "code",
   "execution_count": 6,
   "metadata": {},
   "outputs": [
    {
     "data": {
      "text/html": [
       "<table class=\"data-frame\"><thead><tr><th></th><th>ra</th><th>dec</th><th>jd</th><th>magpsf</th><th>rb</th><th>candid</th></tr><tr><th></th><th>Float64⍰</th><th>Float64⍰</th><th>Float64⍰</th><th>Float64⍰</th><th>Float64⍰</th><th>Int64⍰</th></tr></thead><tbody><tr><th>1</th><td>1.77781</td><td>0.222164</td><td>2.45154e6</td><td>19.8555</td><td>0.513376</td><td>269</td></tr><tr><th>2</th><td>0.222485</td><td>0.444523</td><td>2.45154e6</td><td>19.6469</td><td>0.690401</td><td>274</td></tr><tr><th>3</th><td>0.444503</td><td>0.444542</td><td>2.45154e6</td><td>19.0051</td><td>0.173651</td><td>276</td></tr><tr><th>4</th><td>0.666922</td><td>0.444333</td><td>2.45154e6</td><td>18.4553</td><td>0.120436</td><td>277</td></tr><tr><th>5</th><td>0.888875</td><td>0.44449</td><td>2.45154e6</td><td>20.3512</td><td>0.193783</td><td>281</td></tr><tr><th>6</th><td>1.11138</td><td>0.444603</td><td>2.45154e6</td><td>20.0445</td><td>0.022967</td><td>283</td></tr><tr><th>7</th><td>1.3333</td><td>0.444714</td><td>2.45154e6</td><td>18.9608</td><td>0.93959</td><td>287</td></tr><tr><th>8</th><td>1.55575</td><td>0.444346</td><td>2.45154e6</td><td>19.1181</td><td>0.978303</td><td>289</td></tr><tr><th>9</th><td>1.77764</td><td>0.444659</td><td>2.45154e6</td><td>18.6588</td><td>0.147308</td><td>290</td></tr><tr><th>10</th><td>2.00017</td><td>0.4447</td><td>2.45154e6</td><td>19.939</td><td>0.391935</td><td>291</td></tr></tbody></table>"
      ],
      "text/latex": [
       "\\begin{tabular}{r|cccccc}\n",
       "\t& ra & dec & jd & magpsf & rb & candid\\\\\n",
       "\t\\hline\n",
       "\t1 & 1.77781 & 0.222164 & 2.45154e6 & 19.8555 & 0.513376 & 269 \\\\\n",
       "\t2 & 0.222485 & 0.444523 & 2.45154e6 & 19.6469 & 0.690401 & 274 \\\\\n",
       "\t3 & 0.444503 & 0.444542 & 2.45154e6 & 19.0051 & 0.173651 & 276 \\\\\n",
       "\t4 & 0.666922 & 0.444333 & 2.45154e6 & 18.4553 & 0.120436 & 277 \\\\\n",
       "\t5 & 0.888875 & 0.44449 & 2.45154e6 & 20.3512 & 0.193783 & 281 \\\\\n",
       "\t6 & 1.11138 & 0.444603 & 2.45154e6 & 20.0445 & 0.022967 & 283 \\\\\n",
       "\t7 & 1.3333 & 0.444714 & 2.45154e6 & 18.9608 & 0.93959 & 287 \\\\\n",
       "\t8 & 1.55575 & 0.444346 & 2.45154e6 & 19.1181 & 0.978303 & 289 \\\\\n",
       "\t9 & 1.77764 & 0.444659 & 2.45154e6 & 18.6588 & 0.147308 & 290 \\\\\n",
       "\t10 & 2.00017 & 0.4447 & 2.45154e6 & 19.939 & 0.391935 & 291 \\\\\n",
       "\\end{tabular}\n"
      ],
      "text/plain": [
       "10×6 DataFrames.DataFrame\n",
       "│ Row │ ra       │ dec      │ jd        │ magpsf   │ rb       │ candid │\n",
       "│     │ \u001b[90mFloat64⍰\u001b[39m │ \u001b[90mFloat64⍰\u001b[39m │ \u001b[90mFloat64⍰\u001b[39m  │ \u001b[90mFloat64⍰\u001b[39m │ \u001b[90mFloat64⍰\u001b[39m │ \u001b[90mInt64⍰\u001b[39m │\n",
       "├─────┼──────────┼──────────┼───────────┼──────────┼──────────┼────────┤\n",
       "│ 1   │ 1.77781  │ 0.222164 │ 2.45154e6 │ 19.8555  │ 0.513376 │ 269    │\n",
       "│ 2   │ 0.222485 │ 0.444523 │ 2.45154e6 │ 19.6469  │ 0.690401 │ 274    │\n",
       "│ 3   │ 0.444503 │ 0.444542 │ 2.45154e6 │ 19.0051  │ 0.173651 │ 276    │\n",
       "│ 4   │ 0.666922 │ 0.444333 │ 2.45154e6 │ 18.4553  │ 0.120436 │ 277    │\n",
       "│ 5   │ 0.888875 │ 0.44449  │ 2.45154e6 │ 20.3512  │ 0.193783 │ 281    │\n",
       "│ 6   │ 1.11138  │ 0.444603 │ 2.45154e6 │ 20.0445  │ 0.022967 │ 283    │\n",
       "│ 7   │ 1.3333   │ 0.444714 │ 2.45154e6 │ 18.9608  │ 0.93959  │ 287    │\n",
       "│ 8   │ 1.55575  │ 0.444346 │ 2.45154e6 │ 19.1181  │ 0.978303 │ 289    │\n",
       "│ 9   │ 1.77764  │ 0.444659 │ 2.45154e6 │ 18.6588  │ 0.147308 │ 290    │\n",
       "│ 10  │ 2.00017  │ 0.4447   │ 2.45154e6 │ 19.939   │ 0.391935 │ 291    │"
      ]
     },
     "execution_count": 6,
     "metadata": {},
     "output_type": "execute_result"
    }
   ],
   "source": [
    "csv"
   ]
  },
  {
   "cell_type": "code",
   "execution_count": 8,
   "metadata": {},
   "outputs": [
    {
     "data": {
      "text/plain": [
       "10-element Array{Union{Missing, Float64},1}:\n",
       " 2.451544611111e6\n",
       " 2.451544611111e6\n",
       " 2.451544611111e6\n",
       " 2.451544611111e6\n",
       " 2.451544611111e6\n",
       " 2.451544611111e6\n",
       " 2.451544611111e6\n",
       " 2.451544611111e6\n",
       " 2.451544611111e6\n",
       " 2.451544611111e6"
      ]
     },
     "execution_count": 8,
     "metadata": {},
     "output_type": "execute_result"
    }
   ],
   "source": [
    "csv[:jd]"
   ]
  },
  {
   "cell_type": "code",
   "execution_count": 34,
   "metadata": {},
   "outputs": [
    {
     "data": {
      "text/plain": [
       "6-element Array{Symbol,1}:\n",
       " :ra    \n",
       " :dec   \n",
       " :jd    \n",
       " :magpsf\n",
       " :rb    \n",
       " :candid"
      ]
     },
     "execution_count": 34,
     "metadata": {},
     "output_type": "execute_result"
    }
   ],
   "source": [
    "names(csv)"
   ]
  },
  {
   "cell_type": "code",
   "execution_count": 35,
   "metadata": {},
   "outputs": [
    {
     "data": {
      "text/plain": [
       "10-element Array{Union{Missing, Float64},1}:\n",
       " 1.777808\n",
       " 0.222485\n",
       " 0.444503\n",
       " 0.666922\n",
       " 0.888875\n",
       " 1.11138 \n",
       " 1.333305\n",
       " 1.555747\n",
       " 1.777635\n",
       " 2.000166"
      ]
     },
     "execution_count": 35,
     "metadata": {},
     "output_type": "execute_result"
    }
   ],
   "source": [
    "csv[:ra]"
   ]
  },
  {
   "cell_type": "code",
   "execution_count": 36,
   "metadata": {},
   "outputs": [
    {
     "data": {
      "text/plain": [
       "Dict{Any,Any} with 0 entries"
      ]
     },
     "execution_count": 36,
     "metadata": {},
     "output_type": "execute_result"
    }
   ],
   "source": [
    "d = Dict()"
   ]
  },
  {
   "cell_type": "code",
   "execution_count": 40,
   "metadata": {},
   "outputs": [
    {
     "data": {
      "text/plain": [
       "\"blue\""
      ]
     },
     "execution_count": 40,
     "metadata": {},
     "output_type": "execute_result"
    }
   ],
   "source": [
    "d[1]=\"red\"\n",
    "d[2]=\"blue\""
   ]
  },
  {
   "cell_type": "code",
   "execution_count": 43,
   "metadata": {},
   "outputs": [
    {
     "data": {
      "text/plain": [
       "Dict{Any,Any} with 2 entries:\n",
       "  2 => \"blue\"\n",
       "  1 => \"red\""
      ]
     },
     "execution_count": 43,
     "metadata": {},
     "output_type": "execute_result"
    }
   ],
   "source": [
    "d"
   ]
  },
  {
   "cell_type": "code",
   "execution_count": 44,
   "metadata": {},
   "outputs": [
    {
     "data": {
      "text/html": [
       "<table class=\"data-frame\"><thead><tr><th></th><th>index</th><th>key</th></tr><tr><th></th><th>Int64⍰</th><th>String⍰</th></tr></thead><tbody><tr><th>1</th><td>1</td><td>red</td></tr><tr><th>2</th><td>2</td><td>blue</td></tr><tr><th>3</th><td>3</td><td>green</td></tr><tr><th>4</th><td>4</td><td>purple</td></tr><tr><th>5</th><td>5</td><td>black</td></tr></tbody></table>"
      ],
      "text/plain": [
       "5×2 DataFrames.DataFrame\n",
       "│ Row │ index  │ key     │\n",
       "│     │ \u001b[90mInt64⍰\u001b[39m │ \u001b[90mString⍰\u001b[39m │\n",
       "├─────┼────────┼─────────┤\n",
       "│ 1   │ 1      │ red     │\n",
       "│ 2   │ 2      │ blue    │\n",
       "│ 3   │ 3      │ green   │\n",
       "│ 4   │ 4      │ purple  │\n",
       "│ 5   │ 5      │ black   │"
      ]
     },
     "execution_count": 44,
     "metadata": {},
     "output_type": "execute_result"
    }
   ],
   "source": [
    "dat = CSV.read(\"files/dict_input.txt\")"
   ]
  },
  {
   "cell_type": "code",
   "execution_count": 58,
   "metadata": {},
   "outputs": [
    {
     "name": "stdout",
     "output_type": "stream",
     "text": [
      "search: \u001b[0m\u001b[1md\u001b[22m\u001b[0m\u001b[1ma\u001b[22m\u001b[0m\u001b[1mt\u001b[22m \u001b[0m\u001b[1mD\u001b[22m\u001b[0m\u001b[1ma\u001b[22m\u001b[0m\u001b[1mt\u001b[22maType fin\u001b[0m\u001b[1md\u001b[22ml\u001b[0m\u001b[1ma\u001b[22ms\u001b[0m\u001b[1mt\u001b[22m LOA\u001b[0m\u001b[1mD\u001b[22m_P\u001b[0m\u001b[1mA\u001b[22m\u001b[0m\u001b[1mT\u001b[22mH time\u001b[0m\u001b[1md\u001b[22mw\u001b[0m\u001b[1ma\u001b[22mi\u001b[0m\u001b[1mt\u001b[22m broa\u001b[0m\u001b[1md\u001b[22mc\u001b[0m\u001b[1ma\u001b[22ms\u001b[0m\u001b[1mt\u001b[22m Broa\u001b[0m\u001b[1md\u001b[22mc\u001b[0m\u001b[1ma\u001b[22ms\u001b[0m\u001b[1mt\u001b[22m broa\u001b[0m\u001b[1md\u001b[22mc\u001b[0m\u001b[1ma\u001b[22ms\u001b[0m\u001b[1mt\u001b[22m!\n",
      "\n"
     ]
    },
    {
     "data": {
      "text/markdown": [
       "No documentation found.\n",
       "\n",
       "`dat` is of type `DataFrames.DataFrame`.\n",
       "\n",
       "# Summary\n",
       "\n",
       "```\n",
       "mutable struct DataFrames.DataFrame <: DataFrames.AbstractDataFrame\n",
       "```\n",
       "\n",
       "# Fields\n",
       "\n",
       "```\n",
       "columns  :: Array{AbstractArray{T,1} where T,1}\n",
       "colindex :: DataFrames.Index\n",
       "```\n",
       "\n",
       "# Supertype Hierarchy\n",
       "\n",
       "```\n",
       "DataFrames.DataFrame <: DataFrames.AbstractDataFrame <: Any\n",
       "```\n"
      ],
      "text/plain": [
       "  No documentation found.\n",
       "\n",
       "  \u001b[36mdat\u001b[39m is of type \u001b[36mDataFrames.DataFrame\u001b[39m.\n",
       "\n",
       "\u001b[1m  Summary\u001b[22m\n",
       "\u001b[1m  ≡≡≡≡≡≡≡≡≡\u001b[22m\n",
       "\n",
       "\u001b[36m  mutable struct DataFrames.DataFrame <: DataFrames.AbstractDataFrame\u001b[39m\n",
       "\n",
       "\u001b[1m  Fields\u001b[22m\n",
       "\u001b[1m  ≡≡≡≡≡≡≡≡\u001b[22m\n",
       "\n",
       "\u001b[36m  columns  :: Array{AbstractArray{T,1} where T,1}\u001b[39m\n",
       "\u001b[36m  colindex :: DataFrames.Index\u001b[39m\n",
       "\n",
       "\u001b[1m  Supertype Hierarchy\u001b[22m\n",
       "\u001b[1m  ≡≡≡≡≡≡≡≡≡≡≡≡≡≡≡≡≡≡≡≡≡\u001b[22m\n",
       "\n",
       "\u001b[36m  DataFrames.DataFrame <: DataFrames.AbstractDataFrame <: Any\u001b[39m"
      ]
     },
     "execution_count": 58,
     "metadata": {},
     "output_type": "execute_result"
    }
   ],
   "source": [
    "?dat"
   ]
  },
  {
   "cell_type": "code",
   "execution_count": 83,
   "metadata": {},
   "outputs": [
    {
     "data": {
      "text/plain": [
       "\"blue\""
      ]
     },
     "execution_count": 83,
     "metadata": {},
     "output_type": "execute_result"
    }
   ],
   "source": [
    "dat[2,2]"
   ]
  },
  {
   "cell_type": "code",
   "execution_count": 71,
   "metadata": {},
   "outputs": [
    {
     "data": {
      "text/plain": [
       "(5, 2)"
      ]
     },
     "execution_count": 71,
     "metadata": {},
     "output_type": "execute_result"
    }
   ],
   "source": [
    "size(dat)"
   ]
  },
  {
   "cell_type": "code",
   "execution_count": 88,
   "metadata": {},
   "outputs": [
    {
     "name": "stdout",
     "output_type": "stream",
     "text": [
      "1,red\n",
      "2,blue\n",
      "3,green\n",
      "4,purple\n",
      "5,black\n"
     ]
    }
   ],
   "source": [
    "d = Dict()\n",
    "for x in 1:size(dat)[1]\n",
    "    print(x)\n",
    "    print(\",\")\n",
    "    println(dat[x,2])\n",
    "    d[x] = dat[x,2]\n",
    "end"
   ]
  },
  {
   "cell_type": "code",
   "execution_count": 89,
   "metadata": {},
   "outputs": [
    {
     "data": {
      "text/plain": [
       "Dict{Any,Any} with 5 entries:\n",
       "  4 => \"purple\"\n",
       "  2 => \"blue\"\n",
       "  3 => \"green\"\n",
       "  5 => \"black\"\n",
       "  1 => \"red\""
      ]
     },
     "execution_count": 89,
     "metadata": {},
     "output_type": "execute_result"
    }
   ],
   "source": [
    "d"
   ]
  },
  {
   "cell_type": "code",
   "execution_count": 91,
   "metadata": {},
   "outputs": [
    {
     "data": {
      "text/plain": [
       "Pair{Int64,Int64}"
      ]
     },
     "execution_count": 91,
     "metadata": {},
     "output_type": "execute_result"
    }
   ],
   "source": [
    "p = Pair(1,2)\n",
    "typeof(p)"
   ]
  },
  {
   "cell_type": "markdown",
   "metadata": {},
   "source": [
    "## Structs are by default immutable."
   ]
  },
  {
   "cell_type": "code",
   "execution_count": 7,
   "metadata": {},
   "outputs": [],
   "source": [
    "struct Coord\n",
    "    x\n",
    "    y\n",
    "end"
   ]
  },
  {
   "cell_type": "code",
   "execution_count": 8,
   "metadata": {},
   "outputs": [
    {
     "data": {
      "text/plain": [
       "Coord(1, 2)"
      ]
     },
     "execution_count": 8,
     "metadata": {},
     "output_type": "execute_result"
    }
   ],
   "source": [
    "c = Coord(1,2)"
   ]
  },
  {
   "cell_type": "code",
   "execution_count": 9,
   "metadata": {},
   "outputs": [
    {
     "ename": "ErrorException",
     "evalue": "type Coord is immutable",
     "output_type": "error",
     "traceback": [
      "type Coord is immutable",
      "",
      "Stacktrace:",
      " [1] setproperty!(::Coord, ::Symbol, ::Int64) at ./sysimg.jl:19",
      " [2] top-level scope at In[9]:1"
     ]
    }
   ],
   "source": [
    "c.x = 12"
   ]
  },
  {
   "cell_type": "code",
   "execution_count": 10,
   "metadata": {},
   "outputs": [],
   "source": [
    "mutable struct Person\n",
    "    name\n",
    "    age\n",
    "end"
   ]
  },
  {
   "cell_type": "code",
   "execution_count": 11,
   "metadata": {},
   "outputs": [
    {
     "data": {
      "text/plain": [
       "Person(\"Tim\", 21)"
      ]
     },
     "execution_count": 11,
     "metadata": {},
     "output_type": "execute_result"
    }
   ],
   "source": [
    "p = Person(\"Tim\", 21)"
   ]
  },
  {
   "cell_type": "code",
   "execution_count": 12,
   "metadata": {},
   "outputs": [
    {
     "data": {
      "text/plain": [
       "\"Tim\""
      ]
     },
     "execution_count": 12,
     "metadata": {},
     "output_type": "execute_result"
    }
   ],
   "source": [
    "p.name"
   ]
  },
  {
   "cell_type": "code",
   "execution_count": 13,
   "metadata": {},
   "outputs": [
    {
     "data": {
      "text/plain": [
       "\"Jeremy\""
      ]
     },
     "execution_count": 13,
     "metadata": {},
     "output_type": "execute_result"
    }
   ],
   "source": [
    "p.name=\"Jeremy\""
   ]
  },
  {
   "cell_type": "code",
   "execution_count": 14,
   "metadata": {},
   "outputs": [
    {
     "data": {
      "text/plain": [
       "\"Jeremy\""
      ]
     },
     "execution_count": 14,
     "metadata": {},
     "output_type": "execute_result"
    }
   ],
   "source": [
    "p.name"
   ]
  },
  {
   "cell_type": "markdown",
   "metadata": {},
   "source": [
    "## Assoc Table Stuff"
   ]
  },
  {
   "cell_type": "code",
   "execution_count": 52,
   "metadata": {},
   "outputs": [
    {
     "name": "stdout",
     "output_type": "stream",
     "text": [
      "\u001b[32m\u001b[1m Resolving\u001b[22m\u001b[39m package versions...\n",
      "\u001b[32m\u001b[1m Installed\u001b[22m\u001b[39m Tables ──────────── v0.1.12\n",
      "\u001b[32m\u001b[1m Installed\u001b[22m\u001b[39m Parsers ─────────── v0.2.15\n",
      "\u001b[32m\u001b[1m Installed\u001b[22m\u001b[39m StatsBase ───────── v0.26.0\n",
      "\u001b[32m\u001b[1m Installed\u001b[22m\u001b[39m CategoricalArrays ─ v0.5.1\n",
      "\u001b[32m\u001b[1m  Updating\u001b[22m\u001b[39m `~/.julia/environments/v1.0/Project.toml`\n",
      " \u001b[90m [a93c6f00]\u001b[39m\u001b[92m + DataFrames v0.14.1\u001b[39m\n",
      "\u001b[32m\u001b[1m  Updating\u001b[22m\u001b[39m `~/.julia/environments/v1.0/Manifest.toml`\n",
      " \u001b[90m [324d7699]\u001b[39m\u001b[93m ↑ CategoricalArrays v0.5.0 ⇒ v0.5.1\u001b[39m\n",
      " \u001b[90m [69de0a69]\u001b[39m\u001b[93m ↑ Parsers v0.2.14 ⇒ v0.2.15\u001b[39m\n",
      " \u001b[90m [2913bbd2]\u001b[39m\u001b[93m ↑ StatsBase v0.25.0 ⇒ v0.26.0\u001b[39m\n",
      " \u001b[90m [bd369af6]\u001b[39m\u001b[93m ↑ Tables v0.1.11 ⇒ v0.1.12\u001b[39m\n"
     ]
    }
   ],
   "source": [
    "using Pkg\n",
    "Pkg.add(\"DataFrames\")\n",
    "using DataFrames"
   ]
  },
  {
   "cell_type": "code",
   "execution_count": 53,
   "metadata": {},
   "outputs": [
    {
     "data": {
      "text/html": [
       "<table class=\"data-frame\"><thead><tr><th></th><th>candid</th><th>ra</th><th>dec</th></tr><tr><th></th><th>Int64⍰</th><th>Float64⍰</th><th>Float64⍰</th></tr></thead><tbody><tr><th>1</th><td>269</td><td>1.77781</td><td>0.222164</td></tr><tr><th>2</th><td>277</td><td>0.666922</td><td>0.444333</td></tr><tr><th>3</th><td>289</td><td>1.55575</td><td>0.444346</td></tr><tr><th>4</th><td>281</td><td>0.888875</td><td>0.44449</td></tr><tr><th>5</th><td>274</td><td>0.222485</td><td>0.444523</td></tr><tr><th>6</th><td>276</td><td>0.444503</td><td>0.444542</td></tr><tr><th>7</th><td>283</td><td>1.11138</td><td>0.444603</td></tr><tr><th>8</th><td>290</td><td>1.77763</td><td>0.444659</td></tr><tr><th>9</th><td>291</td><td>2.00017</td><td>0.4447</td></tr><tr><th>10</th><td>287</td><td>1.3333</td><td>0.444714</td></tr></tbody></table>"
      ],
      "text/latex": [
       "\\begin{tabular}{r|ccc}\n",
       "\t& candid & ra & dec\\\\\n",
       "\t\\hline\n",
       "\t1 & 269 & 1.77781 & 0.222164 \\\\\n",
       "\t2 & 277 & 0.666922 & 0.444333 \\\\\n",
       "\t3 & 289 & 1.55575 & 0.444346 \\\\\n",
       "\t4 & 281 & 0.888875 & 0.44449 \\\\\n",
       "\t5 & 274 & 0.222485 & 0.444523 \\\\\n",
       "\t6 & 276 & 0.444503 & 0.444542 \\\\\n",
       "\t7 & 283 & 1.11138 & 0.444603 \\\\\n",
       "\t8 & 290 & 1.77763 & 0.444659 \\\\\n",
       "\t9 & 291 & 2.00017 & 0.4447 \\\\\n",
       "\t10 & 287 & 1.3333 & 0.444714 \\\\\n",
       "\\end{tabular}\n"
      ],
      "text/plain": [
       "10×3 DataFrame\n",
       "│ Row │ candid │ ra       │ dec      │\n",
       "│     │ \u001b[90mInt64⍰\u001b[39m │ \u001b[90mFloat64⍰\u001b[39m │ \u001b[90mFloat64⍰\u001b[39m │\n",
       "├─────┼────────┼──────────┼──────────┤\n",
       "│ 1   │ 269    │ 1.77781  │ 0.222164 │\n",
       "│ 2   │ 277    │ 0.666922 │ 0.444333 │\n",
       "│ 3   │ 289    │ 1.55575  │ 0.444346 │\n",
       "│ 4   │ 281    │ 0.888875 │ 0.44449  │\n",
       "│ 5   │ 274    │ 0.222485 │ 0.444523 │\n",
       "│ 6   │ 276    │ 0.444503 │ 0.444542 │\n",
       "│ 7   │ 283    │ 1.11138  │ 0.444603 │\n",
       "│ 8   │ 290    │ 1.77763  │ 0.444659 │\n",
       "│ 9   │ 291    │ 2.00017  │ 0.4447   │\n",
       "│ 10  │ 287    │ 1.3333   │ 0.444714 │"
      ]
     },
     "execution_count": 53,
     "metadata": {},
     "output_type": "execute_result"
    }
   ],
   "source": [
    "dat = CSV.read(\"files/idradec_10.csv\")"
   ]
  },
  {
   "cell_type": "code",
   "execution_count": 54,
   "metadata": {},
   "outputs": [
    {
     "data": {
      "text/plain": [
       ":dec"
      ]
     },
     "execution_count": 54,
     "metadata": {},
     "output_type": "execute_result"
    }
   ],
   "source": [
    "#headers\n",
    "names(dat)[3]"
   ]
  },
  {
   "cell_type": "code",
   "execution_count": 59,
   "metadata": {},
   "outputs": [
    {
     "name": "stdout",
     "output_type": "stream",
     "text": [
      "269 1.7778080000000003 0.222164\n",
      "277 0.666922 0.444333\n",
      "289 1.555747 0.444346\n",
      "281 0.888875 0.44448999999999994\n",
      "274 0.222485 0.44452299999999995\n",
      "276 0.444503 0.444542\n",
      "283 1.11138 0.44460299999999997\n",
      "290 1.7776349999999999 0.444659\n",
      "291 2.000166 0.4447\n",
      "287 1.333305 0.44471400000000005\n"
     ]
    }
   ],
   "source": [
    "for row in eachrow(dat)\n",
    "    println(row[1], \" \", row[2], \" \", row[3])\n",
    "end"
   ]
  },
  {
   "cell_type": "code",
   "execution_count": 47,
   "metadata": {},
   "outputs": [
    {
     "data": {
      "text/plain": [
       "(10, 3)"
      ]
     },
     "execution_count": 47,
     "metadata": {},
     "output_type": "execute_result"
    }
   ],
   "source": [
    "size(dat)"
   ]
  },
  {
   "cell_type": "code",
   "execution_count": 62,
   "metadata": {},
   "outputs": [
    {
     "data": {
      "text/plain": [
       "ReadTuples (generic function with 2 methods)"
      ]
     },
     "execution_count": 62,
     "metadata": {},
     "output_type": "execute_result"
    }
   ],
   "source": [
    "function ReadTuples(a::Int64, loc::String)\n",
    "    dat = CSV.read(loc)\n",
    "end"
   ]
  },
  {
   "cell_type": "code",
   "execution_count": null,
   "metadata": {},
   "outputs": [],
   "source": []
  }
 ],
 "metadata": {
  "kernelspec": {
   "display_name": "Julia 1.0.0",
   "language": "julia",
   "name": "julia-1.0"
  },
  "language_info": {
   "file_extension": ".jl",
   "mimetype": "application/julia",
   "name": "julia",
   "version": "1.0.0"
  }
 },
 "nbformat": 4,
 "nbformat_minor": 2
}
